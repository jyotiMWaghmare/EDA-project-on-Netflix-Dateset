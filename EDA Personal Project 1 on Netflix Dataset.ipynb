{
 "cells": [
  {
   "cell_type": "markdown",
   "id": "e8b94968",
   "metadata": {},
   "source": [
    "# Import the required libraries"
   ]
  },
  {
   "cell_type": "code",
   "execution_count": 43,
   "id": "8016b51a",
   "metadata": {},
   "outputs": [],
   "source": [
    "import pandas as pd\n",
    "import numpy as np\n",
    "import seaborn as sns\n",
    "import matplotlib.pyplot as plt\n",
    "\n",
    "%matplotlib inline"
   ]
  },
  {
   "cell_type": "code",
   "execution_count": 44,
   "id": "ae5e061b",
   "metadata": {},
   "outputs": [
    {
     "data": {
      "text/html": [
       "        <script type=\"text/javascript\">\n",
       "        window.PlotlyConfig = {MathJaxConfig: 'local'};\n",
       "        if (window.MathJax) {MathJax.Hub.Config({SVG: {font: \"STIX-Web\"}});}\n",
       "        if (typeof require !== 'undefined') {\n",
       "        require.undef(\"plotly\");\n",
       "        requirejs.config({\n",
       "            paths: {\n",
       "                'plotly': ['https://cdn.plot.ly/plotly-2.8.3.min']\n",
       "            }\n",
       "        });\n",
       "        require(['plotly'], function(Plotly) {\n",
       "            window._Plotly = Plotly;\n",
       "        });\n",
       "        }\n",
       "        </script>\n",
       "        "
      ]
     },
     "metadata": {},
     "output_type": "display_data"
    },
    {
     "data": {
      "text/html": [
       "        <script type=\"text/javascript\">\n",
       "        window.PlotlyConfig = {MathJaxConfig: 'local'};\n",
       "        if (window.MathJax) {MathJax.Hub.Config({SVG: {font: \"STIX-Web\"}});}\n",
       "        if (typeof require !== 'undefined') {\n",
       "        require.undef(\"plotly\");\n",
       "        requirejs.config({\n",
       "            paths: {\n",
       "                'plotly': ['https://cdn.plot.ly/plotly-2.8.3.min']\n",
       "            }\n",
       "        });\n",
       "        require(['plotly'], function(Plotly) {\n",
       "            window._Plotly = Plotly;\n",
       "        });\n",
       "        }\n",
       "        </script>\n",
       "        "
      ]
     },
     "metadata": {},
     "output_type": "display_data"
    }
   ],
   "source": [
    "from plotly.offline import iplot\n",
    "import plotly as py\n",
    "import plotly.tools as tls\n",
    "import cufflinks as cf\n",
    "py.offline.init_notebook_mode(connected=True) #Turning on notebook mode \n",
    "cf.go_offline()"
   ]
  },
  {
   "cell_type": "markdown",
   "id": "9d0e1793",
   "metadata": {},
   "source": [
    "# To get the dataset"
   ]
  },
  {
   "cell_type": "code",
   "execution_count": 45,
   "id": "c3de245f",
   "metadata": {},
   "outputs": [],
   "source": [
    "data=pd.read_csv(r\"C:\\Users\\HP\\Downloads\\NetflixDataset.csv\")"
   ]
  },
  {
   "cell_type": "code",
   "execution_count": 46,
   "id": "b6a4d0a9",
   "metadata": {},
   "outputs": [
    {
     "data": {
      "text/html": [
       "<div>\n",
       "<style scoped>\n",
       "    .dataframe tbody tr th:only-of-type {\n",
       "        vertical-align: middle;\n",
       "    }\n",
       "\n",
       "    .dataframe tbody tr th {\n",
       "        vertical-align: top;\n",
       "    }\n",
       "\n",
       "    .dataframe thead th {\n",
       "        text-align: right;\n",
       "    }\n",
       "</style>\n",
       "<table border=\"1\" class=\"dataframe\">\n",
       "  <thead>\n",
       "    <tr style=\"text-align: right;\">\n",
       "      <th></th>\n",
       "      <th>Show_Id</th>\n",
       "      <th>Category</th>\n",
       "      <th>Title</th>\n",
       "      <th>Director</th>\n",
       "      <th>Cast</th>\n",
       "      <th>Country</th>\n",
       "      <th>Release_Date</th>\n",
       "      <th>Rating</th>\n",
       "      <th>Duration</th>\n",
       "      <th>Type</th>\n",
       "      <th>Description</th>\n",
       "    </tr>\n",
       "  </thead>\n",
       "  <tbody>\n",
       "    <tr>\n",
       "      <th>0</th>\n",
       "      <td>s1</td>\n",
       "      <td>TV Show</td>\n",
       "      <td>3%</td>\n",
       "      <td>NaN</td>\n",
       "      <td>João Miguel, Bianca Comparato, Michel Gomes, R...</td>\n",
       "      <td>Brazil</td>\n",
       "      <td>August 14, 2020</td>\n",
       "      <td>TV-MA</td>\n",
       "      <td>4 Seasons</td>\n",
       "      <td>International TV Shows, TV Dramas, TV Sci-Fi &amp;...</td>\n",
       "      <td>In a future where the elite inhabit an island ...</td>\n",
       "    </tr>\n",
       "    <tr>\n",
       "      <th>1</th>\n",
       "      <td>s2</td>\n",
       "      <td>Movie</td>\n",
       "      <td>07:19</td>\n",
       "      <td>Jorge Michel Grau</td>\n",
       "      <td>Demián Bichir, Héctor Bonilla, Oscar Serrano, ...</td>\n",
       "      <td>Mexico</td>\n",
       "      <td>December 23, 2016</td>\n",
       "      <td>TV-MA</td>\n",
       "      <td>93 min</td>\n",
       "      <td>Dramas, International Movies</td>\n",
       "      <td>After a devastating earthquake hits Mexico Cit...</td>\n",
       "    </tr>\n",
       "    <tr>\n",
       "      <th>2</th>\n",
       "      <td>s3</td>\n",
       "      <td>Movie</td>\n",
       "      <td>23:59</td>\n",
       "      <td>Gilbert Chan</td>\n",
       "      <td>Tedd Chan, Stella Chung, Henley Hii, Lawrence ...</td>\n",
       "      <td>Singapore</td>\n",
       "      <td>December 20, 2018</td>\n",
       "      <td>R</td>\n",
       "      <td>78 min</td>\n",
       "      <td>Horror Movies, International Movies</td>\n",
       "      <td>When an army recruit is found dead, his fellow...</td>\n",
       "    </tr>\n",
       "    <tr>\n",
       "      <th>3</th>\n",
       "      <td>s4</td>\n",
       "      <td>Movie</td>\n",
       "      <td>9</td>\n",
       "      <td>Shane Acker</td>\n",
       "      <td>Elijah Wood, John C. Reilly, Jennifer Connelly...</td>\n",
       "      <td>United States</td>\n",
       "      <td>November 16, 2017</td>\n",
       "      <td>PG-13</td>\n",
       "      <td>80 min</td>\n",
       "      <td>Action &amp; Adventure, Independent Movies, Sci-Fi...</td>\n",
       "      <td>In a postapocalyptic world, rag-doll robots hi...</td>\n",
       "    </tr>\n",
       "    <tr>\n",
       "      <th>4</th>\n",
       "      <td>s5</td>\n",
       "      <td>Movie</td>\n",
       "      <td>21</td>\n",
       "      <td>Robert Luketic</td>\n",
       "      <td>Jim Sturgess, Kevin Spacey, Kate Bosworth, Aar...</td>\n",
       "      <td>United States</td>\n",
       "      <td>January 1, 2020</td>\n",
       "      <td>PG-13</td>\n",
       "      <td>123 min</td>\n",
       "      <td>Dramas</td>\n",
       "      <td>A brilliant group of students become card-coun...</td>\n",
       "    </tr>\n",
       "  </tbody>\n",
       "</table>\n",
       "</div>"
      ],
      "text/plain": [
       "  Show_Id Category  Title           Director  \\\n",
       "0      s1  TV Show     3%                NaN   \n",
       "1      s2    Movie  07:19  Jorge Michel Grau   \n",
       "2      s3    Movie  23:59       Gilbert Chan   \n",
       "3      s4    Movie      9        Shane Acker   \n",
       "4      s5    Movie     21     Robert Luketic   \n",
       "\n",
       "                                                Cast        Country  \\\n",
       "0  João Miguel, Bianca Comparato, Michel Gomes, R...         Brazil   \n",
       "1  Demián Bichir, Héctor Bonilla, Oscar Serrano, ...         Mexico   \n",
       "2  Tedd Chan, Stella Chung, Henley Hii, Lawrence ...      Singapore   \n",
       "3  Elijah Wood, John C. Reilly, Jennifer Connelly...  United States   \n",
       "4  Jim Sturgess, Kevin Spacey, Kate Bosworth, Aar...  United States   \n",
       "\n",
       "        Release_Date Rating   Duration  \\\n",
       "0    August 14, 2020  TV-MA  4 Seasons   \n",
       "1  December 23, 2016  TV-MA     93 min   \n",
       "2  December 20, 2018      R     78 min   \n",
       "3  November 16, 2017  PG-13     80 min   \n",
       "4    January 1, 2020  PG-13    123 min   \n",
       "\n",
       "                                                Type  \\\n",
       "0  International TV Shows, TV Dramas, TV Sci-Fi &...   \n",
       "1                       Dramas, International Movies   \n",
       "2                Horror Movies, International Movies   \n",
       "3  Action & Adventure, Independent Movies, Sci-Fi...   \n",
       "4                                             Dramas   \n",
       "\n",
       "                                         Description  \n",
       "0  In a future where the elite inhabit an island ...  \n",
       "1  After a devastating earthquake hits Mexico Cit...  \n",
       "2  When an army recruit is found dead, his fellow...  \n",
       "3  In a postapocalyptic world, rag-doll robots hi...  \n",
       "4  A brilliant group of students become card-coun...  "
      ]
     },
     "execution_count": 46,
     "metadata": {},
     "output_type": "execute_result"
    }
   ],
   "source": [
    "## To display first five rows of dataset\n",
    "\n",
    "data.head()"
   ]
  },
  {
   "cell_type": "code",
   "execution_count": 51,
   "id": "157dd1c9",
   "metadata": {},
   "outputs": [
    {
     "data": {
      "text/plain": [
       "(7789, 11)"
      ]
     },
     "execution_count": 51,
     "metadata": {},
     "output_type": "execute_result"
    }
   ],
   "source": [
    "data.shape"
   ]
  },
  {
   "cell_type": "code",
   "execution_count": 52,
   "id": "78163581",
   "metadata": {},
   "outputs": [
    {
     "data": {
      "text/plain": [
       "Index(['showID', 'Category', 'Title', 'Director', 'Cast', 'Country',\n",
       "       'ReleaseDate', 'Rating', 'Duration', 'Type', 'Description'],\n",
       "      dtype='object')"
      ]
     },
     "execution_count": 52,
     "metadata": {},
     "output_type": "execute_result"
    }
   ],
   "source": [
    "data.columns"
   ]
  },
  {
   "cell_type": "markdown",
   "id": "48a3c4b8",
   "metadata": {},
   "source": [
    "# to get numerical stats "
   ]
  },
  {
   "cell_type": "code",
   "execution_count": 53,
   "id": "8841195d",
   "metadata": {},
   "outputs": [
    {
     "data": {
      "text/html": [
       "<div>\n",
       "<style scoped>\n",
       "    .dataframe tbody tr th:only-of-type {\n",
       "        vertical-align: middle;\n",
       "    }\n",
       "\n",
       "    .dataframe tbody tr th {\n",
       "        vertical-align: top;\n",
       "    }\n",
       "\n",
       "    .dataframe thead th {\n",
       "        text-align: right;\n",
       "    }\n",
       "</style>\n",
       "<table border=\"1\" class=\"dataframe\">\n",
       "  <thead>\n",
       "    <tr style=\"text-align: right;\">\n",
       "      <th></th>\n",
       "      <th>showID</th>\n",
       "      <th>Category</th>\n",
       "      <th>Title</th>\n",
       "      <th>Director</th>\n",
       "      <th>Cast</th>\n",
       "      <th>Country</th>\n",
       "      <th>ReleaseDate</th>\n",
       "      <th>Rating</th>\n",
       "      <th>Duration</th>\n",
       "      <th>Type</th>\n",
       "      <th>Description</th>\n",
       "    </tr>\n",
       "  </thead>\n",
       "  <tbody>\n",
       "    <tr>\n",
       "      <th>count</th>\n",
       "      <td>7789</td>\n",
       "      <td>7789</td>\n",
       "      <td>7789</td>\n",
       "      <td>5401</td>\n",
       "      <td>7071</td>\n",
       "      <td>7282</td>\n",
       "      <td>7779</td>\n",
       "      <td>7782</td>\n",
       "      <td>7789</td>\n",
       "      <td>7789</td>\n",
       "      <td>7789</td>\n",
       "    </tr>\n",
       "    <tr>\n",
       "      <th>unique</th>\n",
       "      <td>7787</td>\n",
       "      <td>2</td>\n",
       "      <td>7787</td>\n",
       "      <td>4050</td>\n",
       "      <td>6831</td>\n",
       "      <td>681</td>\n",
       "      <td>1565</td>\n",
       "      <td>14</td>\n",
       "      <td>216</td>\n",
       "      <td>492</td>\n",
       "      <td>7769</td>\n",
       "    </tr>\n",
       "    <tr>\n",
       "      <th>top</th>\n",
       "      <td>s6621</td>\n",
       "      <td>Movie</td>\n",
       "      <td>The Lost Okoroshi</td>\n",
       "      <td>Raúl Campos, Jan Suter</td>\n",
       "      <td>David Attenborough</td>\n",
       "      <td>United States</td>\n",
       "      <td>January 1, 2020</td>\n",
       "      <td>TV-MA</td>\n",
       "      <td>1 Season</td>\n",
       "      <td>Documentaries</td>\n",
       "      <td>Multiple women report their husbands as missin...</td>\n",
       "    </tr>\n",
       "    <tr>\n",
       "      <th>freq</th>\n",
       "      <td>2</td>\n",
       "      <td>5379</td>\n",
       "      <td>2</td>\n",
       "      <td>18</td>\n",
       "      <td>18</td>\n",
       "      <td>2556</td>\n",
       "      <td>118</td>\n",
       "      <td>2865</td>\n",
       "      <td>1608</td>\n",
       "      <td>334</td>\n",
       "      <td>3</td>\n",
       "    </tr>\n",
       "  </tbody>\n",
       "</table>\n",
       "</div>"
      ],
      "text/plain": [
       "       showID Category              Title                Director  \\\n",
       "count    7789     7789               7789                    5401   \n",
       "unique   7787        2               7787                    4050   \n",
       "top     s6621    Movie  The Lost Okoroshi  Raúl Campos, Jan Suter   \n",
       "freq        2     5379                  2                      18   \n",
       "\n",
       "                      Cast        Country      ReleaseDate Rating  Duration  \\\n",
       "count                 7071           7282             7779   7782      7789   \n",
       "unique                6831            681             1565     14       216   \n",
       "top     David Attenborough  United States  January 1, 2020  TV-MA  1 Season   \n",
       "freq                    18           2556              118   2865      1608   \n",
       "\n",
       "                 Type                                        Description  \n",
       "count            7789                                               7789  \n",
       "unique            492                                               7769  \n",
       "top     Documentaries  Multiple women report their husbands as missin...  \n",
       "freq              334                                                  3  "
      ]
     },
     "execution_count": 53,
     "metadata": {},
     "output_type": "execute_result"
    }
   ],
   "source": [
    "data.describe()"
   ]
  },
  {
   "cell_type": "markdown",
   "id": "e65a9740",
   "metadata": {},
   "source": [
    "# to get information about columns,Dtype,mem usage"
   ]
  },
  {
   "cell_type": "code",
   "execution_count": 37,
   "id": "60adb05e",
   "metadata": {},
   "outputs": [
    {
     "name": "stdout",
     "output_type": "stream",
     "text": [
      "<class 'pandas.core.frame.DataFrame'>\n",
      "RangeIndex: 7789 entries, 0 to 7788\n",
      "Data columns (total 11 columns):\n",
      " #   Column        Non-Null Count  Dtype \n",
      "---  ------        --------------  ----- \n",
      " 0   Show_Id       7789 non-null   object\n",
      " 1   Category      7789 non-null   object\n",
      " 2   Title         7789 non-null   object\n",
      " 3   Director      5401 non-null   object\n",
      " 4   Cast          7071 non-null   object\n",
      " 5   Country       7282 non-null   object\n",
      " 6   Release_Date  7779 non-null   object\n",
      " 7   Rating        7782 non-null   object\n",
      " 8   Duration      7789 non-null   object\n",
      " 9   Type          7789 non-null   object\n",
      " 10  Description   7789 non-null   object\n",
      "dtypes: object(11)\n",
      "memory usage: 669.5+ KB\n"
     ]
    }
   ],
   "source": [
    "data.info()"
   ]
  },
  {
   "cell_type": "markdown",
   "id": "0ff574b6",
   "metadata": {},
   "source": [
    "# to check duplicate records in my dataset"
   ]
  },
  {
   "cell_type": "code",
   "execution_count": 43,
   "id": "f0527179",
   "metadata": {},
   "outputs": [
    {
     "data": {
      "text/plain": [
       "2"
      ]
     },
     "execution_count": 43,
     "metadata": {},
     "output_type": "execute_result"
    }
   ],
   "source": [
    "data.duplicated().sum()"
   ]
  },
  {
   "cell_type": "code",
   "execution_count": 44,
   "id": "46629615",
   "metadata": {},
   "outputs": [
    {
     "data": {
      "text/html": [
       "<div>\n",
       "<style scoped>\n",
       "    .dataframe tbody tr th:only-of-type {\n",
       "        vertical-align: middle;\n",
       "    }\n",
       "\n",
       "    .dataframe tbody tr th {\n",
       "        vertical-align: top;\n",
       "    }\n",
       "\n",
       "    .dataframe thead th {\n",
       "        text-align: right;\n",
       "    }\n",
       "</style>\n",
       "<table border=\"1\" class=\"dataframe\">\n",
       "  <thead>\n",
       "    <tr style=\"text-align: right;\">\n",
       "      <th></th>\n",
       "      <th>Show_Id</th>\n",
       "      <th>Category</th>\n",
       "      <th>Title</th>\n",
       "      <th>Director</th>\n",
       "      <th>Cast</th>\n",
       "      <th>Country</th>\n",
       "      <th>Release_Date</th>\n",
       "      <th>Rating</th>\n",
       "      <th>Duration</th>\n",
       "      <th>Type</th>\n",
       "      <th>Description</th>\n",
       "    </tr>\n",
       "  </thead>\n",
       "  <tbody>\n",
       "    <tr>\n",
       "      <th>6300</th>\n",
       "      <td>s684</td>\n",
       "      <td>Movie</td>\n",
       "      <td>Backfire</td>\n",
       "      <td>Dave Patten</td>\n",
       "      <td>Black Deniro, Byron \"Squally\" Vinson, Dominic ...</td>\n",
       "      <td>United States</td>\n",
       "      <td>April 5, 2019</td>\n",
       "      <td>TV-MA</td>\n",
       "      <td>97 min</td>\n",
       "      <td>Dramas, Independent Movies, Thrillers</td>\n",
       "      <td>When two would-be robbers accidentally kill a ...</td>\n",
       "    </tr>\n",
       "    <tr>\n",
       "      <th>6622</th>\n",
       "      <td>s6621</td>\n",
       "      <td>Movie</td>\n",
       "      <td>The Lost Okoroshi</td>\n",
       "      <td>Abba T. Makama</td>\n",
       "      <td>Seun Ajayi, Judith Audu, Tope Tedela, Ifu Enna...</td>\n",
       "      <td>Nigeria</td>\n",
       "      <td>September 4, 2020</td>\n",
       "      <td>TV-MA</td>\n",
       "      <td>94 min</td>\n",
       "      <td>Comedies, Dramas, Independent Movies</td>\n",
       "      <td>A disillusioned security guard transforms into...</td>\n",
       "    </tr>\n",
       "  </tbody>\n",
       "</table>\n",
       "</div>"
      ],
      "text/plain": [
       "     Show_Id Category              Title        Director  \\\n",
       "6300    s684    Movie           Backfire     Dave Patten   \n",
       "6622   s6621    Movie  The Lost Okoroshi  Abba T. Makama   \n",
       "\n",
       "                                                   Cast        Country  \\\n",
       "6300  Black Deniro, Byron \"Squally\" Vinson, Dominic ...  United States   \n",
       "6622  Seun Ajayi, Judith Audu, Tope Tedela, Ifu Enna...        Nigeria   \n",
       "\n",
       "           Release_Date Rating Duration  \\\n",
       "6300      April 5, 2019  TV-MA   97 min   \n",
       "6622  September 4, 2020  TV-MA   94 min   \n",
       "\n",
       "                                       Type  \\\n",
       "6300  Dramas, Independent Movies, Thrillers   \n",
       "6622   Comedies, Dramas, Independent Movies   \n",
       "\n",
       "                                            Description  \n",
       "6300  When two would-be robbers accidentally kill a ...  \n",
       "6622  A disillusioned security guard transforms into...  "
      ]
     },
     "execution_count": 44,
     "metadata": {},
     "output_type": "execute_result"
    }
   ],
   "source": [
    "data[data.duplicated()]"
   ]
  },
  {
   "cell_type": "markdown",
   "id": "5a9e17db",
   "metadata": {},
   "source": [
    "# to remove duplicate values"
   ]
  },
  {
   "cell_type": "code",
   "execution_count": 45,
   "id": "cf7a5471",
   "metadata": {},
   "outputs": [
    {
     "data": {
      "text/html": [
       "<div>\n",
       "<style scoped>\n",
       "    .dataframe tbody tr th:only-of-type {\n",
       "        vertical-align: middle;\n",
       "    }\n",
       "\n",
       "    .dataframe tbody tr th {\n",
       "        vertical-align: top;\n",
       "    }\n",
       "\n",
       "    .dataframe thead th {\n",
       "        text-align: right;\n",
       "    }\n",
       "</style>\n",
       "<table border=\"1\" class=\"dataframe\">\n",
       "  <thead>\n",
       "    <tr style=\"text-align: right;\">\n",
       "      <th></th>\n",
       "      <th>Show_Id</th>\n",
       "      <th>Category</th>\n",
       "      <th>Title</th>\n",
       "      <th>Director</th>\n",
       "      <th>Cast</th>\n",
       "      <th>Country</th>\n",
       "      <th>Release_Date</th>\n",
       "      <th>Rating</th>\n",
       "      <th>Duration</th>\n",
       "      <th>Type</th>\n",
       "      <th>Description</th>\n",
       "    </tr>\n",
       "  </thead>\n",
       "  <tbody>\n",
       "    <tr>\n",
       "      <th>0</th>\n",
       "      <td>s1</td>\n",
       "      <td>TV Show</td>\n",
       "      <td>3%</td>\n",
       "      <td>NaN</td>\n",
       "      <td>João Miguel, Bianca Comparato, Michel Gomes, R...</td>\n",
       "      <td>Brazil</td>\n",
       "      <td>August 14, 2020</td>\n",
       "      <td>TV-MA</td>\n",
       "      <td>4 Seasons</td>\n",
       "      <td>International TV Shows, TV Dramas, TV Sci-Fi &amp;...</td>\n",
       "      <td>In a future where the elite inhabit an island ...</td>\n",
       "    </tr>\n",
       "    <tr>\n",
       "      <th>1</th>\n",
       "      <td>s2</td>\n",
       "      <td>Movie</td>\n",
       "      <td>07:19</td>\n",
       "      <td>Jorge Michel Grau</td>\n",
       "      <td>Demián Bichir, Héctor Bonilla, Oscar Serrano, ...</td>\n",
       "      <td>Mexico</td>\n",
       "      <td>December 23, 2016</td>\n",
       "      <td>TV-MA</td>\n",
       "      <td>93 min</td>\n",
       "      <td>Dramas, International Movies</td>\n",
       "      <td>After a devastating earthquake hits Mexico Cit...</td>\n",
       "    </tr>\n",
       "    <tr>\n",
       "      <th>2</th>\n",
       "      <td>s3</td>\n",
       "      <td>Movie</td>\n",
       "      <td>23:59</td>\n",
       "      <td>Gilbert Chan</td>\n",
       "      <td>Tedd Chan, Stella Chung, Henley Hii, Lawrence ...</td>\n",
       "      <td>Singapore</td>\n",
       "      <td>December 20, 2018</td>\n",
       "      <td>R</td>\n",
       "      <td>78 min</td>\n",
       "      <td>Horror Movies, International Movies</td>\n",
       "      <td>When an army recruit is found dead, his fellow...</td>\n",
       "    </tr>\n",
       "    <tr>\n",
       "      <th>3</th>\n",
       "      <td>s4</td>\n",
       "      <td>Movie</td>\n",
       "      <td>9</td>\n",
       "      <td>Shane Acker</td>\n",
       "      <td>Elijah Wood, John C. Reilly, Jennifer Connelly...</td>\n",
       "      <td>United States</td>\n",
       "      <td>November 16, 2017</td>\n",
       "      <td>PG-13</td>\n",
       "      <td>80 min</td>\n",
       "      <td>Action &amp; Adventure, Independent Movies, Sci-Fi...</td>\n",
       "      <td>In a postapocalyptic world, rag-doll robots hi...</td>\n",
       "    </tr>\n",
       "    <tr>\n",
       "      <th>4</th>\n",
       "      <td>s5</td>\n",
       "      <td>Movie</td>\n",
       "      <td>21</td>\n",
       "      <td>Robert Luketic</td>\n",
       "      <td>Jim Sturgess, Kevin Spacey, Kate Bosworth, Aar...</td>\n",
       "      <td>United States</td>\n",
       "      <td>January 1, 2020</td>\n",
       "      <td>PG-13</td>\n",
       "      <td>123 min</td>\n",
       "      <td>Dramas</td>\n",
       "      <td>A brilliant group of students become card-coun...</td>\n",
       "    </tr>\n",
       "    <tr>\n",
       "      <th>...</th>\n",
       "      <td>...</td>\n",
       "      <td>...</td>\n",
       "      <td>...</td>\n",
       "      <td>...</td>\n",
       "      <td>...</td>\n",
       "      <td>...</td>\n",
       "      <td>...</td>\n",
       "      <td>...</td>\n",
       "      <td>...</td>\n",
       "      <td>...</td>\n",
       "      <td>...</td>\n",
       "    </tr>\n",
       "    <tr>\n",
       "      <th>7784</th>\n",
       "      <td>s7783</td>\n",
       "      <td>Movie</td>\n",
       "      <td>Zozo</td>\n",
       "      <td>Josef Fares</td>\n",
       "      <td>Imad Creidi, Antoinette Turk, Elias Gergi, Car...</td>\n",
       "      <td>Sweden, Czech Republic, United Kingdom, Denmar...</td>\n",
       "      <td>October 19, 2020</td>\n",
       "      <td>TV-MA</td>\n",
       "      <td>99 min</td>\n",
       "      <td>Dramas, International Movies</td>\n",
       "      <td>When Lebanon's Civil War deprives Zozo of his ...</td>\n",
       "    </tr>\n",
       "    <tr>\n",
       "      <th>7785</th>\n",
       "      <td>s7784</td>\n",
       "      <td>Movie</td>\n",
       "      <td>Zubaan</td>\n",
       "      <td>Mozez Singh</td>\n",
       "      <td>Vicky Kaushal, Sarah-Jane Dias, Raaghav Chanan...</td>\n",
       "      <td>India</td>\n",
       "      <td>March 2, 2019</td>\n",
       "      <td>TV-14</td>\n",
       "      <td>111 min</td>\n",
       "      <td>Dramas, International Movies, Music &amp; Musicals</td>\n",
       "      <td>A scrappy but poor boy worms his way into a ty...</td>\n",
       "    </tr>\n",
       "    <tr>\n",
       "      <th>7786</th>\n",
       "      <td>s7785</td>\n",
       "      <td>Movie</td>\n",
       "      <td>Zulu Man in Japan</td>\n",
       "      <td>NaN</td>\n",
       "      <td>Nasty C</td>\n",
       "      <td>NaN</td>\n",
       "      <td>September 25, 2020</td>\n",
       "      <td>TV-MA</td>\n",
       "      <td>44 min</td>\n",
       "      <td>Documentaries, International Movies, Music &amp; M...</td>\n",
       "      <td>In this documentary, South African rapper Nast...</td>\n",
       "    </tr>\n",
       "    <tr>\n",
       "      <th>7787</th>\n",
       "      <td>s7786</td>\n",
       "      <td>TV Show</td>\n",
       "      <td>Zumbo's Just Desserts</td>\n",
       "      <td>NaN</td>\n",
       "      <td>Adriano Zumbo, Rachel Khoo</td>\n",
       "      <td>Australia</td>\n",
       "      <td>October 31, 2020</td>\n",
       "      <td>TV-PG</td>\n",
       "      <td>1 Season</td>\n",
       "      <td>International TV Shows, Reality TV</td>\n",
       "      <td>Dessert wizard Adriano Zumbo looks for the nex...</td>\n",
       "    </tr>\n",
       "    <tr>\n",
       "      <th>7788</th>\n",
       "      <td>s7787</td>\n",
       "      <td>Movie</td>\n",
       "      <td>ZZ TOP: THAT LITTLE OL' BAND FROM TEXAS</td>\n",
       "      <td>Sam Dunn</td>\n",
       "      <td>NaN</td>\n",
       "      <td>United Kingdom, Canada, United States</td>\n",
       "      <td>March 1, 2020</td>\n",
       "      <td>TV-MA</td>\n",
       "      <td>90 min</td>\n",
       "      <td>Documentaries, Music &amp; Musicals</td>\n",
       "      <td>This documentary delves into the mystique behi...</td>\n",
       "    </tr>\n",
       "  </tbody>\n",
       "</table>\n",
       "<p>7787 rows × 11 columns</p>\n",
       "</div>"
      ],
      "text/plain": [
       "     Show_Id Category                                    Title  \\\n",
       "0         s1  TV Show                                       3%   \n",
       "1         s2    Movie                                    07:19   \n",
       "2         s3    Movie                                    23:59   \n",
       "3         s4    Movie                                        9   \n",
       "4         s5    Movie                                       21   \n",
       "...      ...      ...                                      ...   \n",
       "7784   s7783    Movie                                     Zozo   \n",
       "7785   s7784    Movie                                   Zubaan   \n",
       "7786   s7785    Movie                        Zulu Man in Japan   \n",
       "7787   s7786  TV Show                    Zumbo's Just Desserts   \n",
       "7788   s7787    Movie  ZZ TOP: THAT LITTLE OL' BAND FROM TEXAS   \n",
       "\n",
       "               Director                                               Cast  \\\n",
       "0                   NaN  João Miguel, Bianca Comparato, Michel Gomes, R...   \n",
       "1     Jorge Michel Grau  Demián Bichir, Héctor Bonilla, Oscar Serrano, ...   \n",
       "2          Gilbert Chan  Tedd Chan, Stella Chung, Henley Hii, Lawrence ...   \n",
       "3           Shane Acker  Elijah Wood, John C. Reilly, Jennifer Connelly...   \n",
       "4        Robert Luketic  Jim Sturgess, Kevin Spacey, Kate Bosworth, Aar...   \n",
       "...                 ...                                                ...   \n",
       "7784        Josef Fares  Imad Creidi, Antoinette Turk, Elias Gergi, Car...   \n",
       "7785        Mozez Singh  Vicky Kaushal, Sarah-Jane Dias, Raaghav Chanan...   \n",
       "7786                NaN                                            Nasty C   \n",
       "7787                NaN                         Adriano Zumbo, Rachel Khoo   \n",
       "7788           Sam Dunn                                                NaN   \n",
       "\n",
       "                                                Country        Release_Date  \\\n",
       "0                                                Brazil     August 14, 2020   \n",
       "1                                                Mexico   December 23, 2016   \n",
       "2                                             Singapore   December 20, 2018   \n",
       "3                                         United States   November 16, 2017   \n",
       "4                                         United States     January 1, 2020   \n",
       "...                                                 ...                 ...   \n",
       "7784  Sweden, Czech Republic, United Kingdom, Denmar...    October 19, 2020   \n",
       "7785                                              India       March 2, 2019   \n",
       "7786                                                NaN  September 25, 2020   \n",
       "7787                                          Australia    October 31, 2020   \n",
       "7788              United Kingdom, Canada, United States       March 1, 2020   \n",
       "\n",
       "     Rating   Duration                                               Type  \\\n",
       "0     TV-MA  4 Seasons  International TV Shows, TV Dramas, TV Sci-Fi &...   \n",
       "1     TV-MA     93 min                       Dramas, International Movies   \n",
       "2         R     78 min                Horror Movies, International Movies   \n",
       "3     PG-13     80 min  Action & Adventure, Independent Movies, Sci-Fi...   \n",
       "4     PG-13    123 min                                             Dramas   \n",
       "...     ...        ...                                                ...   \n",
       "7784  TV-MA     99 min                       Dramas, International Movies   \n",
       "7785  TV-14    111 min     Dramas, International Movies, Music & Musicals   \n",
       "7786  TV-MA     44 min  Documentaries, International Movies, Music & M...   \n",
       "7787  TV-PG   1 Season                 International TV Shows, Reality TV   \n",
       "7788  TV-MA     90 min                    Documentaries, Music & Musicals   \n",
       "\n",
       "                                            Description  \n",
       "0     In a future where the elite inhabit an island ...  \n",
       "1     After a devastating earthquake hits Mexico Cit...  \n",
       "2     When an army recruit is found dead, his fellow...  \n",
       "3     In a postapocalyptic world, rag-doll robots hi...  \n",
       "4     A brilliant group of students become card-coun...  \n",
       "...                                                 ...  \n",
       "7784  When Lebanon's Civil War deprives Zozo of his ...  \n",
       "7785  A scrappy but poor boy worms his way into a ty...  \n",
       "7786  In this documentary, South African rapper Nast...  \n",
       "7787  Dessert wizard Adriano Zumbo looks for the nex...  \n",
       "7788  This documentary delves into the mystique behi...  \n",
       "\n",
       "[7787 rows x 11 columns]"
      ]
     },
     "execution_count": 45,
     "metadata": {},
     "output_type": "execute_result"
    }
   ],
   "source": [
    "data.drop_duplicates()\n"
   ]
  },
  {
   "cell_type": "markdown",
   "id": "a94eae5c",
   "metadata": {},
   "source": [
    "# to check null values"
   ]
  },
  {
   "cell_type": "code",
   "execution_count": 46,
   "id": "e64b7ab1",
   "metadata": {},
   "outputs": [
    {
     "data": {
      "text/plain": [
       "Show_Id            0\n",
       "Category           0\n",
       "Title              0\n",
       "Director        2388\n",
       "Cast             718\n",
       "Country          507\n",
       "Release_Date      10\n",
       "Rating             7\n",
       "Duration           0\n",
       "Type               0\n",
       "Description        0\n",
       "dtype: int64"
      ]
     },
     "execution_count": 46,
     "metadata": {},
     "output_type": "execute_result"
    }
   ],
   "source": [
    "data.isnull().sum()"
   ]
  },
  {
   "cell_type": "markdown",
   "id": "6d8cd532",
   "metadata": {},
   "source": [
    "# to get graphical representation of null values"
   ]
  },
  {
   "cell_type": "code",
   "execution_count": 47,
   "id": "80f99809",
   "metadata": {},
   "outputs": [
    {
     "data": {
      "text/plain": [
       "<AxesSubplot:>"
      ]
     },
     "execution_count": 47,
     "metadata": {},
     "output_type": "execute_result"
    },
    {
     "data": {
      "image/png": "[encoded data removed]",
      "text/plain": [
       "<Figure size 432x288 with 1 Axes>"
      ]
     },
     "metadata": {
      "needs_background": "light"
     },
     "output_type": "display_data"
    }
   ],
   "source": [
    "sns.heatmap(data.isnull(),cbar=False)"
   ]
  },
  {
   "cell_type": "code",
   "execution_count": null,
   "id": "4e6489a0",
   "metadata": {},
   "outputs": [],
   "source": [
    "1. null values present in director,cast & country columns\n",
    "2. in director column there are maximum null values present and minimun in Ratings column"
   ]
  },
  {
   "cell_type": "markdown",
   "id": "7e561694",
   "metadata": {},
   "source": [
    "# to drop the null values from data set"
   ]
  },
  {
   "cell_type": "code",
   "execution_count": 54,
   "id": "23a2a822",
   "metadata": {},
   "outputs": [],
   "source": [
    "data.dropna(how='any',inplace=True)"
   ]
  },
  {
   "cell_type": "code",
   "execution_count": 55,
   "id": "34613d66",
   "metadata": {},
   "outputs": [
    {
     "data": {
      "text/plain": [
       "showID         0\n",
       "Category       0\n",
       "Title          0\n",
       "Director       0\n",
       "Cast           0\n",
       "Country        0\n",
       "ReleaseDate    0\n",
       "Rating         0\n",
       "Duration       0\n",
       "Type           0\n",
       "Description    0\n",
       "dtype: int64"
      ]
     },
     "execution_count": 55,
     "metadata": {},
     "output_type": "execute_result"
    }
   ],
   "source": [
    "data.isnull().sum()"
   ]
  },
  {
   "cell_type": "markdown",
   "id": "c3d467ab",
   "metadata": {},
   "source": [
    "# to change the column names"
   ]
  },
  {
   "cell_type": "code",
   "execution_count": 56,
   "id": "781341a1",
   "metadata": {},
   "outputs": [],
   "source": [
    "data=data.rename (columns={'Show_Id':'showID','Release_Date':'ReleaseDate'})"
   ]
  },
  {
   "cell_type": "code",
   "execution_count": 57,
   "id": "d72d74cd",
   "metadata": {},
   "outputs": [
    {
     "data": {
      "text/plain": [
       "Index(['showID', 'Category', 'Title', 'Director', 'Cast', 'Country',\n",
       "       'ReleaseDate', 'Rating', 'Duration', 'Type', 'Description'],\n",
       "      dtype='object')"
      ]
     },
     "execution_count": 57,
     "metadata": {},
     "output_type": "execute_result"
    }
   ],
   "source": [
    "data.columns"
   ]
  },
  {
   "cell_type": "markdown",
   "id": "784969d2",
   "metadata": {},
   "source": [
    "# to know in which year highest number of Tv shows and movies released"
   ]
  },
  {
   "cell_type": "code",
   "execution_count": 58,
   "id": "eb9b6a48",
   "metadata": {},
   "outputs": [
    {
     "data": {
      "text/plain": [
       "showID         object\n",
       "Category       object\n",
       "Title          object\n",
       "Director       object\n",
       "Cast           object\n",
       "Country        object\n",
       "ReleaseDate    object\n",
       "Rating         object\n",
       "Duration       object\n",
       "Type           object\n",
       "Description    object\n",
       "dtype: object"
      ]
     },
     "execution_count": 58,
     "metadata": {},
     "output_type": "execute_result"
    }
   ],
   "source": [
    "data.dtypes"
   ]
  },
  {
   "cell_type": "code",
   "execution_count": 59,
   "id": "75a5f41c",
   "metadata": {},
   "outputs": [],
   "source": [
    "data['Date']=pd.to_datetime(data['ReleaseDate'])"
   ]
  },
  {
   "cell_type": "code",
   "execution_count": 20,
   "id": "55f92085",
   "metadata": {},
   "outputs": [
    {
     "data": {
      "text/html": [
       "<div>\n",
       "<style scoped>\n",
       "    .dataframe tbody tr th:only-of-type {\n",
       "        vertical-align: middle;\n",
       "    }\n",
       "\n",
       "    .dataframe tbody tr th {\n",
       "        vertical-align: top;\n",
       "    }\n",
       "\n",
       "    .dataframe thead th {\n",
       "        text-align: right;\n",
       "    }\n",
       "</style>\n",
       "<table border=\"1\" class=\"dataframe\">\n",
       "  <thead>\n",
       "    <tr style=\"text-align: right;\">\n",
       "      <th></th>\n",
       "      <th>showID</th>\n",
       "      <th>Category</th>\n",
       "      <th>Title</th>\n",
       "      <th>Director</th>\n",
       "      <th>Cast</th>\n",
       "      <th>Country</th>\n",
       "      <th>ReleaseDate</th>\n",
       "      <th>Rating</th>\n",
       "      <th>Duration</th>\n",
       "      <th>Type</th>\n",
       "      <th>Description</th>\n",
       "      <th>Date</th>\n",
       "    </tr>\n",
       "  </thead>\n",
       "  <tbody>\n",
       "    <tr>\n",
       "      <th>0</th>\n",
       "      <td>s1</td>\n",
       "      <td>TV Show</td>\n",
       "      <td>3%</td>\n",
       "      <td>NaN</td>\n",
       "      <td>João Miguel, Bianca Comparato, Michel Gomes, R...</td>\n",
       "      <td>Brazil</td>\n",
       "      <td>August 14, 2020</td>\n",
       "      <td>TV-MA</td>\n",
       "      <td>4 Seasons</td>\n",
       "      <td>International TV Shows, TV Dramas, TV Sci-Fi &amp;...</td>\n",
       "      <td>In a future where the elite inhabit an island ...</td>\n",
       "      <td>2020-08-14</td>\n",
       "    </tr>\n",
       "    <tr>\n",
       "      <th>1</th>\n",
       "      <td>s2</td>\n",
       "      <td>Movie</td>\n",
       "      <td>07:19</td>\n",
       "      <td>Jorge Michel Grau</td>\n",
       "      <td>Demián Bichir, Héctor Bonilla, Oscar Serrano, ...</td>\n",
       "      <td>Mexico</td>\n",
       "      <td>December 23, 2016</td>\n",
       "      <td>TV-MA</td>\n",
       "      <td>93 min</td>\n",
       "      <td>Dramas, International Movies</td>\n",
       "      <td>After a devastating earthquake hits Mexico Cit...</td>\n",
       "      <td>2016-12-23</td>\n",
       "    </tr>\n",
       "    <tr>\n",
       "      <th>2</th>\n",
       "      <td>s3</td>\n",
       "      <td>Movie</td>\n",
       "      <td>23:59</td>\n",
       "      <td>Gilbert Chan</td>\n",
       "      <td>Tedd Chan, Stella Chung, Henley Hii, Lawrence ...</td>\n",
       "      <td>Singapore</td>\n",
       "      <td>December 20, 2018</td>\n",
       "      <td>R</td>\n",
       "      <td>78 min</td>\n",
       "      <td>Horror Movies, International Movies</td>\n",
       "      <td>When an army recruit is found dead, his fellow...</td>\n",
       "      <td>2018-12-20</td>\n",
       "    </tr>\n",
       "    <tr>\n",
       "      <th>3</th>\n",
       "      <td>s4</td>\n",
       "      <td>Movie</td>\n",
       "      <td>9</td>\n",
       "      <td>Shane Acker</td>\n",
       "      <td>Elijah Wood, John C. Reilly, Jennifer Connelly...</td>\n",
       "      <td>United States</td>\n",
       "      <td>November 16, 2017</td>\n",
       "      <td>PG-13</td>\n",
       "      <td>80 min</td>\n",
       "      <td>Action &amp; Adventure, Independent Movies, Sci-Fi...</td>\n",
       "      <td>In a postapocalyptic world, rag-doll robots hi...</td>\n",
       "      <td>2017-11-16</td>\n",
       "    </tr>\n",
       "    <tr>\n",
       "      <th>4</th>\n",
       "      <td>s5</td>\n",
       "      <td>Movie</td>\n",
       "      <td>21</td>\n",
       "      <td>Robert Luketic</td>\n",
       "      <td>Jim Sturgess, Kevin Spacey, Kate Bosworth, Aar...</td>\n",
       "      <td>United States</td>\n",
       "      <td>January 1, 2020</td>\n",
       "      <td>PG-13</td>\n",
       "      <td>123 min</td>\n",
       "      <td>Dramas</td>\n",
       "      <td>A brilliant group of students become card-coun...</td>\n",
       "      <td>2020-01-01</td>\n",
       "    </tr>\n",
       "  </tbody>\n",
       "</table>\n",
       "</div>"
      ],
      "text/plain": [
       "  showID Category  Title           Director  \\\n",
       "0     s1  TV Show     3%                NaN   \n",
       "1     s2    Movie  07:19  Jorge Michel Grau   \n",
       "2     s3    Movie  23:59       Gilbert Chan   \n",
       "3     s4    Movie      9        Shane Acker   \n",
       "4     s5    Movie     21     Robert Luketic   \n",
       "\n",
       "                                                Cast        Country  \\\n",
       "0  João Miguel, Bianca Comparato, Michel Gomes, R...         Brazil   \n",
       "1  Demián Bichir, Héctor Bonilla, Oscar Serrano, ...         Mexico   \n",
       "2  Tedd Chan, Stella Chung, Henley Hii, Lawrence ...      Singapore   \n",
       "3  Elijah Wood, John C. Reilly, Jennifer Connelly...  United States   \n",
       "4  Jim Sturgess, Kevin Spacey, Kate Bosworth, Aar...  United States   \n",
       "\n",
       "         ReleaseDate Rating   Duration  \\\n",
       "0    August 14, 2020  TV-MA  4 Seasons   \n",
       "1  December 23, 2016  TV-MA     93 min   \n",
       "2  December 20, 2018      R     78 min   \n",
       "3  November 16, 2017  PG-13     80 min   \n",
       "4    January 1, 2020  PG-13    123 min   \n",
       "\n",
       "                                                Type  \\\n",
       "0  International TV Shows, TV Dramas, TV Sci-Fi &...   \n",
       "1                       Dramas, International Movies   \n",
       "2                Horror Movies, International Movies   \n",
       "3  Action & Adventure, Independent Movies, Sci-Fi...   \n",
       "4                                             Dramas   \n",
       "\n",
       "                                         Description       Date  \n",
       "0  In a future where the elite inhabit an island ... 2020-08-14  \n",
       "1  After a devastating earthquake hits Mexico Cit... 2016-12-23  \n",
       "2  When an army recruit is found dead, his fellow... 2018-12-20  \n",
       "3  In a postapocalyptic world, rag-doll robots hi... 2017-11-16  \n",
       "4  A brilliant group of students become card-coun... 2020-01-01  "
      ]
     },
     "execution_count": 20,
     "metadata": {},
     "output_type": "execute_result"
    }
   ],
   "source": [
    "data.head()"
   ]
  },
  {
   "cell_type": "code",
   "execution_count": 21,
   "id": "4615fafa",
   "metadata": {},
   "outputs": [
    {
     "data": {
      "text/plain": [
       "showID                 object\n",
       "Category               object\n",
       "Title                  object\n",
       "Director               object\n",
       "Cast                   object\n",
       "Country                object\n",
       "ReleaseDate            object\n",
       "Rating                 object\n",
       "Duration               object\n",
       "Type                   object\n",
       "Description            object\n",
       "Date           datetime64[ns]\n",
       "dtype: object"
      ]
     },
     "execution_count": 21,
     "metadata": {},
     "output_type": "execute_result"
    }
   ],
   "source": [
    "data.dtypes"
   ]
  },
  {
   "cell_type": "code",
   "execution_count": 60,
   "id": "6119d0d3",
   "metadata": {},
   "outputs": [
    {
     "data": {
      "text/plain": [
       "2019    1338\n",
       "2020    1230\n",
       "2018    1115\n",
       "2017     752\n",
       "2016     207\n",
       "2021      78\n",
       "2015      50\n",
       "2014      14\n",
       "2011      13\n",
       "2013       7\n",
       "2012       3\n",
       "2009       2\n",
       "2010       1\n",
       "2008       1\n",
       "Name: Date, dtype: int64"
      ]
     },
     "execution_count": 60,
     "metadata": {},
     "output_type": "execute_result"
    }
   ],
   "source": [
    "data['Date'].dt.year.value_counts()"
   ]
  },
  {
   "cell_type": "code",
   "execution_count": 61,
   "id": "76e20264",
   "metadata": {},
   "outputs": [
    {
     "data": {
      "text/plain": [
       "<AxesSubplot:>"
      ]
     },
     "execution_count": 61,
     "metadata": {},
     "output_type": "execute_result"
    },
    {
     "data": {
      "image/png": "[encoded data removed]",
      "text/plain": [
       "<Figure size 432x288 with 1 Axes>"
      ]
     },
     "metadata": {
      "needs_background": "light"
     },
     "output_type": "display_data"
    }
   ],
   "source": [
    "data['Date'].dt.year.value_counts().plot(kind='bar')"
   ]
  },
  {
   "cell_type": "code",
   "execution_count": null,
   "id": "8b74f712",
   "metadata": {},
   "outputs": [],
   "source": [
    "1. above gragh shows in 2019 maximum number of tv shows and movies were released.\n",
    "2. in 2010 only one tv show and movie were released."
   ]
  },
  {
   "cell_type": "markdown",
   "id": "6bd76724",
   "metadata": {},
   "source": [
    "# what is show id and director of 'The Lost Okoroshi'"
   ]
  },
  {
   "cell_type": "code",
   "execution_count": 25,
   "id": "e12bb4a4",
   "metadata": {},
   "outputs": [
    {
     "data": {
      "text/html": [
       "<div>\n",
       "<style scoped>\n",
       "    .dataframe tbody tr th:only-of-type {\n",
       "        vertical-align: middle;\n",
       "    }\n",
       "\n",
       "    .dataframe tbody tr th {\n",
       "        vertical-align: top;\n",
       "    }\n",
       "\n",
       "    .dataframe thead th {\n",
       "        text-align: right;\n",
       "    }\n",
       "</style>\n",
       "<table border=\"1\" class=\"dataframe\">\n",
       "  <thead>\n",
       "    <tr style=\"text-align: right;\">\n",
       "      <th></th>\n",
       "      <th>showID</th>\n",
       "      <th>Category</th>\n",
       "      <th>Title</th>\n",
       "      <th>Director</th>\n",
       "      <th>Cast</th>\n",
       "      <th>Country</th>\n",
       "      <th>ReleaseDate</th>\n",
       "      <th>Rating</th>\n",
       "      <th>Duration</th>\n",
       "      <th>Type</th>\n",
       "      <th>Description</th>\n",
       "      <th>Date</th>\n",
       "    </tr>\n",
       "  </thead>\n",
       "  <tbody>\n",
       "    <tr>\n",
       "      <th>4839</th>\n",
       "      <td>s6621</td>\n",
       "      <td>Movie</td>\n",
       "      <td>The Lost Okoroshi</td>\n",
       "      <td>Abba T. Makama</td>\n",
       "      <td>Seun Ajayi, Judith Audu, Tope Tedela, Ifu Enna...</td>\n",
       "      <td>Nigeria</td>\n",
       "      <td>September 4, 2020</td>\n",
       "      <td>TV-MA</td>\n",
       "      <td>94 min</td>\n",
       "      <td>Comedies, Dramas, Independent Movies</td>\n",
       "      <td>A disillusioned security guard transforms into...</td>\n",
       "      <td>2020-09-04</td>\n",
       "    </tr>\n",
       "    <tr>\n",
       "      <th>6622</th>\n",
       "      <td>s6621</td>\n",
       "      <td>Movie</td>\n",
       "      <td>The Lost Okoroshi</td>\n",
       "      <td>Abba T. Makama</td>\n",
       "      <td>Seun Ajayi, Judith Audu, Tope Tedela, Ifu Enna...</td>\n",
       "      <td>Nigeria</td>\n",
       "      <td>September 4, 2020</td>\n",
       "      <td>TV-MA</td>\n",
       "      <td>94 min</td>\n",
       "      <td>Comedies, Dramas, Independent Movies</td>\n",
       "      <td>A disillusioned security guard transforms into...</td>\n",
       "      <td>2020-09-04</td>\n",
       "    </tr>\n",
       "  </tbody>\n",
       "</table>\n",
       "</div>"
      ],
      "text/plain": [
       "     showID Category              Title        Director  \\\n",
       "4839  s6621    Movie  The Lost Okoroshi  Abba T. Makama   \n",
       "6622  s6621    Movie  The Lost Okoroshi  Abba T. Makama   \n",
       "\n",
       "                                                   Cast  Country  \\\n",
       "4839  Seun Ajayi, Judith Audu, Tope Tedela, Ifu Enna...  Nigeria   \n",
       "6622  Seun Ajayi, Judith Audu, Tope Tedela, Ifu Enna...  Nigeria   \n",
       "\n",
       "            ReleaseDate Rating Duration                                  Type  \\\n",
       "4839  September 4, 2020  TV-MA   94 min  Comedies, Dramas, Independent Movies   \n",
       "6622  September 4, 2020  TV-MA   94 min  Comedies, Dramas, Independent Movies   \n",
       "\n",
       "                                            Description       Date  \n",
       "4839  A disillusioned security guard transforms into... 2020-09-04  \n",
       "6622  A disillusioned security guard transforms into... 2020-09-04  "
      ]
     },
     "execution_count": 25,
     "metadata": {},
     "output_type": "execute_result"
    }
   ],
   "source": [
    " data[data['Title'].isin(['The Lost Okoroshi'])]"
   ]
  },
  {
   "cell_type": "code",
   "execution_count": null,
   "id": "473a683a",
   "metadata": {},
   "outputs": [],
   "source": [
    "1. Show id  of the movie is s6621\n",
    "2. Director of movie is Abba T Makama"
   ]
  },
  {
   "cell_type": "markdown",
   "id": "9d317a36",
   "metadata": {},
   "source": [
    "# to get the count values of Tv shows and Movies and also represent it graphically"
   ]
  },
  {
   "cell_type": "code",
   "execution_count": 62,
   "id": "91eb2c3e",
   "metadata": {},
   "outputs": [
    {
     "data": {
      "text/html": [
       "<div>\n",
       "<style scoped>\n",
       "    .dataframe tbody tr th:only-of-type {\n",
       "        vertical-align: middle;\n",
       "    }\n",
       "\n",
       "    .dataframe tbody tr th {\n",
       "        vertical-align: top;\n",
       "    }\n",
       "\n",
       "    .dataframe thead th {\n",
       "        text-align: right;\n",
       "    }\n",
       "</style>\n",
       "<table border=\"1\" class=\"dataframe\">\n",
       "  <thead>\n",
       "    <tr style=\"text-align: right;\">\n",
       "      <th></th>\n",
       "      <th>showID</th>\n",
       "      <th>Category</th>\n",
       "      <th>Title</th>\n",
       "      <th>Director</th>\n",
       "      <th>Cast</th>\n",
       "      <th>Country</th>\n",
       "      <th>ReleaseDate</th>\n",
       "      <th>Rating</th>\n",
       "      <th>Duration</th>\n",
       "      <th>Type</th>\n",
       "      <th>Description</th>\n",
       "      <th>Date</th>\n",
       "    </tr>\n",
       "  </thead>\n",
       "  <tbody>\n",
       "    <tr>\n",
       "      <th>0</th>\n",
       "      <td>s1</td>\n",
       "      <td>TV Show</td>\n",
       "      <td>3%</td>\n",
       "      <td>NaN</td>\n",
       "      <td>João Miguel, Bianca Comparato, Michel Gomes, R...</td>\n",
       "      <td>Brazil</td>\n",
       "      <td>August 14, 2020</td>\n",
       "      <td>TV-MA</td>\n",
       "      <td>4 Seasons</td>\n",
       "      <td>International TV Shows, TV Dramas, TV Sci-Fi &amp;...</td>\n",
       "      <td>In a future where the elite inhabit an island ...</td>\n",
       "      <td>2020-08-14</td>\n",
       "    </tr>\n",
       "    <tr>\n",
       "      <th>1</th>\n",
       "      <td>s2</td>\n",
       "      <td>Movie</td>\n",
       "      <td>07:19</td>\n",
       "      <td>Jorge Michel Grau</td>\n",
       "      <td>Demián Bichir, Héctor Bonilla, Oscar Serrano, ...</td>\n",
       "      <td>Mexico</td>\n",
       "      <td>December 23, 2016</td>\n",
       "      <td>TV-MA</td>\n",
       "      <td>93 min</td>\n",
       "      <td>Dramas, International Movies</td>\n",
       "      <td>After a devastating earthquake hits Mexico Cit...</td>\n",
       "      <td>2016-12-23</td>\n",
       "    </tr>\n",
       "    <tr>\n",
       "      <th>2</th>\n",
       "      <td>s3</td>\n",
       "      <td>Movie</td>\n",
       "      <td>23:59</td>\n",
       "      <td>Gilbert Chan</td>\n",
       "      <td>Tedd Chan, Stella Chung, Henley Hii, Lawrence ...</td>\n",
       "      <td>Singapore</td>\n",
       "      <td>December 20, 2018</td>\n",
       "      <td>R</td>\n",
       "      <td>78 min</td>\n",
       "      <td>Horror Movies, International Movies</td>\n",
       "      <td>When an army recruit is found dead, his fellow...</td>\n",
       "      <td>2018-12-20</td>\n",
       "    </tr>\n",
       "    <tr>\n",
       "      <th>3</th>\n",
       "      <td>s4</td>\n",
       "      <td>Movie</td>\n",
       "      <td>9</td>\n",
       "      <td>Shane Acker</td>\n",
       "      <td>Elijah Wood, John C. Reilly, Jennifer Connelly...</td>\n",
       "      <td>United States</td>\n",
       "      <td>November 16, 2017</td>\n",
       "      <td>PG-13</td>\n",
       "      <td>80 min</td>\n",
       "      <td>Action &amp; Adventure, Independent Movies, Sci-Fi...</td>\n",
       "      <td>In a postapocalyptic world, rag-doll robots hi...</td>\n",
       "      <td>2017-11-16</td>\n",
       "    </tr>\n",
       "    <tr>\n",
       "      <th>4</th>\n",
       "      <td>s5</td>\n",
       "      <td>Movie</td>\n",
       "      <td>21</td>\n",
       "      <td>Robert Luketic</td>\n",
       "      <td>Jim Sturgess, Kevin Spacey, Kate Bosworth, Aar...</td>\n",
       "      <td>United States</td>\n",
       "      <td>January 1, 2020</td>\n",
       "      <td>PG-13</td>\n",
       "      <td>123 min</td>\n",
       "      <td>Dramas</td>\n",
       "      <td>A brilliant group of students become card-coun...</td>\n",
       "      <td>2020-01-01</td>\n",
       "    </tr>\n",
       "  </tbody>\n",
       "</table>\n",
       "</div>"
      ],
      "text/plain": [
       "  showID Category  Title           Director  \\\n",
       "0     s1  TV Show     3%                NaN   \n",
       "1     s2    Movie  07:19  Jorge Michel Grau   \n",
       "2     s3    Movie  23:59       Gilbert Chan   \n",
       "3     s4    Movie      9        Shane Acker   \n",
       "4     s5    Movie     21     Robert Luketic   \n",
       "\n",
       "                                                Cast        Country  \\\n",
       "0  João Miguel, Bianca Comparato, Michel Gomes, R...         Brazil   \n",
       "1  Demián Bichir, Héctor Bonilla, Oscar Serrano, ...         Mexico   \n",
       "2  Tedd Chan, Stella Chung, Henley Hii, Lawrence ...      Singapore   \n",
       "3  Elijah Wood, John C. Reilly, Jennifer Connelly...  United States   \n",
       "4  Jim Sturgess, Kevin Spacey, Kate Bosworth, Aar...  United States   \n",
       "\n",
       "         ReleaseDate Rating   Duration  \\\n",
       "0    August 14, 2020  TV-MA  4 Seasons   \n",
       "1  December 23, 2016  TV-MA     93 min   \n",
       "2  December 20, 2018      R     78 min   \n",
       "3  November 16, 2017  PG-13     80 min   \n",
       "4    January 1, 2020  PG-13    123 min   \n",
       "\n",
       "                                                Type  \\\n",
       "0  International TV Shows, TV Dramas, TV Sci-Fi &...   \n",
       "1                       Dramas, International Movies   \n",
       "2                Horror Movies, International Movies   \n",
       "3  Action & Adventure, Independent Movies, Sci-Fi...   \n",
       "4                                             Dramas   \n",
       "\n",
       "                                         Description       Date  \n",
       "0  In a future where the elite inhabit an island ... 2020-08-14  \n",
       "1  After a devastating earthquake hits Mexico Cit... 2016-12-23  \n",
       "2  When an army recruit is found dead, his fellow... 2018-12-20  \n",
       "3  In a postapocalyptic world, rag-doll robots hi... 2017-11-16  \n",
       "4  A brilliant group of students become card-coun... 2020-01-01  "
      ]
     },
     "execution_count": 62,
     "metadata": {},
     "output_type": "execute_result"
    }
   ],
   "source": [
    "data.head()"
   ]
  },
  {
   "cell_type": "code",
   "execution_count": 63,
   "id": "805fa32f",
   "metadata": {},
   "outputs": [
    {
     "data": {
      "text/plain": [
       "Category\n",
       "Movie      5379\n",
       "TV Show    2410\n",
       "Name: Category, dtype: int64"
      ]
     },
     "execution_count": 63,
     "metadata": {},
     "output_type": "execute_result"
    }
   ],
   "source": [
    "data.groupby('Category').Category.count()"
   ]
  },
  {
   "cell_type": "code",
   "execution_count": 64,
   "id": "9dfab498",
   "metadata": {},
   "outputs": [
    {
     "name": "stderr",
     "output_type": "stream",
     "text": [
      "C:\\Users\\HP\\.conda\\envs\\py38\\lib\\site-packages\\seaborn\\_decorators.py:36: FutureWarning:\n",
      "\n",
      "Pass the following variable as a keyword arg: x. From version 0.12, the only valid positional argument will be `data`, and passing other arguments without an explicit keyword will result in an error or misinterpretation.\n",
      "\n"
     ]
    },
    {
     "data": {
      "text/plain": [
       "<AxesSubplot:xlabel='Category', ylabel='count'>"
      ]
     },
     "execution_count": 64,
     "metadata": {},
     "output_type": "execute_result"
    },
    {
     "data": {
      "image/png": "[encoded data removed]",
      "text/plain": [
       "<Figure size 432x288 with 1 Axes>"
      ]
     },
     "metadata": {
      "needs_background": "light"
     },
     "output_type": "display_data"
    }
   ],
   "source": [
    "sns.countplot(data['Category'])"
   ]
  },
  {
   "cell_type": "code",
   "execution_count": null,
   "id": "47549109",
   "metadata": {},
   "outputs": [],
   "source": [
    "1. number of Tv shows is less than movies.\n",
    "2. count of Tv shows=2410\n",
    "3. count of movies= 5379"
   ]
  },
  {
   "cell_type": "code",
   "execution_count": null,
   "id": "695ecfd1",
   "metadata": {},
   "outputs": [],
   "source": [
    "## show the movies that were released in year 2016"
   ]
  },
  {
   "cell_type": "code",
   "execution_count": null,
   "id": "01503af2",
   "metadata": {},
   "outputs": [],
   "source": [
    "1. first create new column of year from 'Date' column using dt.year function\n",
    "2. then filter the movies and 2016"
   ]
  },
  {
   "cell_type": "code",
   "execution_count": 62,
   "id": "ceb30485",
   "metadata": {},
   "outputs": [],
   "source": [
    "data['year']=data['Date'].dt.year"
   ]
  },
  {
   "cell_type": "code",
   "execution_count": 66,
   "id": "3f2fc6ab",
   "metadata": {},
   "outputs": [
    {
     "data": {
      "text/html": [
       "<div>\n",
       "<style scoped>\n",
       "    .dataframe tbody tr th:only-of-type {\n",
       "        vertical-align: middle;\n",
       "    }\n",
       "\n",
       "    .dataframe tbody tr th {\n",
       "        vertical-align: top;\n",
       "    }\n",
       "\n",
       "    .dataframe thead th {\n",
       "        text-align: right;\n",
       "    }\n",
       "</style>\n",
       "<table border=\"1\" class=\"dataframe\">\n",
       "  <thead>\n",
       "    <tr style=\"text-align: right;\">\n",
       "      <th></th>\n",
       "      <th>showID</th>\n",
       "      <th>Category</th>\n",
       "      <th>Title</th>\n",
       "      <th>Director</th>\n",
       "      <th>Cast</th>\n",
       "      <th>Country</th>\n",
       "      <th>ReleaseDate</th>\n",
       "      <th>Rating</th>\n",
       "      <th>Duration</th>\n",
       "      <th>Type</th>\n",
       "      <th>Description</th>\n",
       "      <th>Date</th>\n",
       "      <th>year</th>\n",
       "    </tr>\n",
       "  </thead>\n",
       "  <tbody>\n",
       "    <tr>\n",
       "      <th>0</th>\n",
       "      <td>s1</td>\n",
       "      <td>TV Show</td>\n",
       "      <td>3%</td>\n",
       "      <td>NaN</td>\n",
       "      <td>João Miguel, Bianca Comparato, Michel Gomes, R...</td>\n",
       "      <td>Brazil</td>\n",
       "      <td>August 14, 2020</td>\n",
       "      <td>TV-MA</td>\n",
       "      <td>4 Seasons</td>\n",
       "      <td>International TV Shows, TV Dramas, TV Sci-Fi &amp;...</td>\n",
       "      <td>In a future where the elite inhabit an island ...</td>\n",
       "      <td>2020-08-14</td>\n",
       "      <td>2020.0</td>\n",
       "    </tr>\n",
       "    <tr>\n",
       "      <th>1</th>\n",
       "      <td>s2</td>\n",
       "      <td>Movie</td>\n",
       "      <td>07:19</td>\n",
       "      <td>Jorge Michel Grau</td>\n",
       "      <td>Demián Bichir, Héctor Bonilla, Oscar Serrano, ...</td>\n",
       "      <td>Mexico</td>\n",
       "      <td>December 23, 2016</td>\n",
       "      <td>TV-MA</td>\n",
       "      <td>93 min</td>\n",
       "      <td>Dramas, International Movies</td>\n",
       "      <td>After a devastating earthquake hits Mexico Cit...</td>\n",
       "      <td>2016-12-23</td>\n",
       "      <td>2016.0</td>\n",
       "    </tr>\n",
       "    <tr>\n",
       "      <th>2</th>\n",
       "      <td>s3</td>\n",
       "      <td>Movie</td>\n",
       "      <td>23:59</td>\n",
       "      <td>Gilbert Chan</td>\n",
       "      <td>Tedd Chan, Stella Chung, Henley Hii, Lawrence ...</td>\n",
       "      <td>Singapore</td>\n",
       "      <td>December 20, 2018</td>\n",
       "      <td>R</td>\n",
       "      <td>78 min</td>\n",
       "      <td>Horror Movies, International Movies</td>\n",
       "      <td>When an army recruit is found dead, his fellow...</td>\n",
       "      <td>2018-12-20</td>\n",
       "      <td>2018.0</td>\n",
       "    </tr>\n",
       "    <tr>\n",
       "      <th>3</th>\n",
       "      <td>s4</td>\n",
       "      <td>Movie</td>\n",
       "      <td>9</td>\n",
       "      <td>Shane Acker</td>\n",
       "      <td>Elijah Wood, John C. Reilly, Jennifer Connelly...</td>\n",
       "      <td>United States</td>\n",
       "      <td>November 16, 2017</td>\n",
       "      <td>PG-13</td>\n",
       "      <td>80 min</td>\n",
       "      <td>Action &amp; Adventure, Independent Movies, Sci-Fi...</td>\n",
       "      <td>In a postapocalyptic world, rag-doll robots hi...</td>\n",
       "      <td>2017-11-16</td>\n",
       "      <td>2017.0</td>\n",
       "    </tr>\n",
       "    <tr>\n",
       "      <th>4</th>\n",
       "      <td>s5</td>\n",
       "      <td>Movie</td>\n",
       "      <td>21</td>\n",
       "      <td>Robert Luketic</td>\n",
       "      <td>Jim Sturgess, Kevin Spacey, Kate Bosworth, Aar...</td>\n",
       "      <td>United States</td>\n",
       "      <td>January 1, 2020</td>\n",
       "      <td>PG-13</td>\n",
       "      <td>123 min</td>\n",
       "      <td>Dramas</td>\n",
       "      <td>A brilliant group of students become card-coun...</td>\n",
       "      <td>2020-01-01</td>\n",
       "      <td>2020.0</td>\n",
       "    </tr>\n",
       "  </tbody>\n",
       "</table>\n",
       "</div>"
      ],
      "text/plain": [
       "  showID Category  Title           Director  \\\n",
       "0     s1  TV Show     3%                NaN   \n",
       "1     s2    Movie  07:19  Jorge Michel Grau   \n",
       "2     s3    Movie  23:59       Gilbert Chan   \n",
       "3     s4    Movie      9        Shane Acker   \n",
       "4     s5    Movie     21     Robert Luketic   \n",
       "\n",
       "                                                Cast        Country  \\\n",
       "0  João Miguel, Bianca Comparato, Michel Gomes, R...         Brazil   \n",
       "1  Demián Bichir, Héctor Bonilla, Oscar Serrano, ...         Mexico   \n",
       "2  Tedd Chan, Stella Chung, Henley Hii, Lawrence ...      Singapore   \n",
       "3  Elijah Wood, John C. Reilly, Jennifer Connelly...  United States   \n",
       "4  Jim Sturgess, Kevin Spacey, Kate Bosworth, Aar...  United States   \n",
       "\n",
       "         ReleaseDate Rating   Duration  \\\n",
       "0    August 14, 2020  TV-MA  4 Seasons   \n",
       "1  December 23, 2016  TV-MA     93 min   \n",
       "2  December 20, 2018      R     78 min   \n",
       "3  November 16, 2017  PG-13     80 min   \n",
       "4    January 1, 2020  PG-13    123 min   \n",
       "\n",
       "                                                Type  \\\n",
       "0  International TV Shows, TV Dramas, TV Sci-Fi &...   \n",
       "1                       Dramas, International Movies   \n",
       "2                Horror Movies, International Movies   \n",
       "3  Action & Adventure, Independent Movies, Sci-Fi...   \n",
       "4                                             Dramas   \n",
       "\n",
       "                                         Description       Date    year  \n",
       "0  In a future where the elite inhabit an island ... 2020-08-14  2020.0  \n",
       "1  After a devastating earthquake hits Mexico Cit... 2016-12-23  2016.0  \n",
       "2  When an army recruit is found dead, his fellow... 2018-12-20  2018.0  \n",
       "3  In a postapocalyptic world, rag-doll robots hi... 2017-11-16  2017.0  \n",
       "4  A brilliant group of students become card-coun... 2020-01-01  2020.0  "
      ]
     },
     "execution_count": 66,
     "metadata": {},
     "output_type": "execute_result"
    }
   ],
   "source": [
    "data.head()"
   ]
  },
  {
   "cell_type": "code",
   "execution_count": 25,
   "id": "3903eef6",
   "metadata": {},
   "outputs": [
    {
     "data": {
      "text/html": [
       "<div>\n",
       "<style scoped>\n",
       "    .dataframe tbody tr th:only-of-type {\n",
       "        vertical-align: middle;\n",
       "    }\n",
       "\n",
       "    .dataframe tbody tr th {\n",
       "        vertical-align: top;\n",
       "    }\n",
       "\n",
       "    .dataframe thead th {\n",
       "        text-align: right;\n",
       "    }\n",
       "</style>\n",
       "<table border=\"1\" class=\"dataframe\">\n",
       "  <thead>\n",
       "    <tr style=\"text-align: right;\">\n",
       "      <th></th>\n",
       "      <th>showID</th>\n",
       "      <th>Category</th>\n",
       "      <th>Title</th>\n",
       "      <th>Director</th>\n",
       "      <th>Cast</th>\n",
       "      <th>Country</th>\n",
       "      <th>ReleaseDate</th>\n",
       "      <th>Rating</th>\n",
       "      <th>Duration</th>\n",
       "      <th>Type</th>\n",
       "      <th>Description</th>\n",
       "      <th>Date</th>\n",
       "      <th>year</th>\n",
       "    </tr>\n",
       "  </thead>\n",
       "  <tbody>\n",
       "    <tr>\n",
       "      <th>1</th>\n",
       "      <td>s2</td>\n",
       "      <td>Movie</td>\n",
       "      <td>07:19</td>\n",
       "      <td>Jorge Michel Grau</td>\n",
       "      <td>Demián Bichir, Héctor Bonilla, Oscar Serrano, ...</td>\n",
       "      <td>Mexico</td>\n",
       "      <td>December 23, 2016</td>\n",
       "      <td>TV-MA</td>\n",
       "      <td>93 min</td>\n",
       "      <td>Dramas, International Movies</td>\n",
       "      <td>After a devastating earthquake hits Mexico Cit...</td>\n",
       "      <td>2016-12-23</td>\n",
       "      <td>2016.0</td>\n",
       "    </tr>\n",
       "    <tr>\n",
       "      <th>25</th>\n",
       "      <td>s26</td>\n",
       "      <td>Movie</td>\n",
       "      <td>(T)ERROR</td>\n",
       "      <td>Lyric R. Cabral, David Felix Sutcliffe</td>\n",
       "      <td>NaN</td>\n",
       "      <td>United States</td>\n",
       "      <td>June 30, 2016</td>\n",
       "      <td>NR</td>\n",
       "      <td>84 min</td>\n",
       "      <td>Documentaries</td>\n",
       "      <td>This real-life look at FBI counterterrorism op...</td>\n",
       "      <td>2016-06-30</td>\n",
       "      <td>2016.0</td>\n",
       "    </tr>\n",
       "    <tr>\n",
       "      <th>35</th>\n",
       "      <td>s36</td>\n",
       "      <td>Movie</td>\n",
       "      <td>#Rucker50</td>\n",
       "      <td>Robert McCullough Jr.</td>\n",
       "      <td>NaN</td>\n",
       "      <td>United States</td>\n",
       "      <td>December 1, 2016</td>\n",
       "      <td>TV-PG</td>\n",
       "      <td>56 min</td>\n",
       "      <td>Documentaries, Sports Movies</td>\n",
       "      <td>This documentary celebrates the 50th anniversa...</td>\n",
       "      <td>2016-12-01</td>\n",
       "      <td>2016.0</td>\n",
       "    </tr>\n",
       "    <tr>\n",
       "      <th>59</th>\n",
       "      <td>s60</td>\n",
       "      <td>Movie</td>\n",
       "      <td>1000 Rupee Note</td>\n",
       "      <td>Shrihari Sathe</td>\n",
       "      <td>Usha Naik, Sandeep Pathak, Shrikant Yadav, Gan...</td>\n",
       "      <td>India</td>\n",
       "      <td>December 1, 2016</td>\n",
       "      <td>TV-14</td>\n",
       "      <td>89 min</td>\n",
       "      <td>Dramas, International Movies</td>\n",
       "      <td>After randomly receiving a handsome political ...</td>\n",
       "      <td>2016-12-01</td>\n",
       "      <td>2016.0</td>\n",
       "    </tr>\n",
       "    <tr>\n",
       "      <th>62</th>\n",
       "      <td>s63</td>\n",
       "      <td>Movie</td>\n",
       "      <td>13 Cameras</td>\n",
       "      <td>Victor Zarcoff</td>\n",
       "      <td>PJ McCabe, Brianne Moncrief, Sarah Baldwin, Ji...</td>\n",
       "      <td>United States</td>\n",
       "      <td>August 13, 2016</td>\n",
       "      <td>NR</td>\n",
       "      <td>90 min</td>\n",
       "      <td>Horror Movies, Independent Movies, Thrillers</td>\n",
       "      <td>Young parents-to-be Claire and Ryan move into ...</td>\n",
       "      <td>2016-08-13</td>\n",
       "      <td>2016.0</td>\n",
       "    </tr>\n",
       "    <tr>\n",
       "      <th>...</th>\n",
       "      <td>...</td>\n",
       "      <td>...</td>\n",
       "      <td>...</td>\n",
       "      <td>...</td>\n",
       "      <td>...</td>\n",
       "      <td>...</td>\n",
       "      <td>...</td>\n",
       "      <td>...</td>\n",
       "      <td>...</td>\n",
       "      <td>...</td>\n",
       "      <td>...</td>\n",
       "      <td>...</td>\n",
       "      <td>...</td>\n",
       "    </tr>\n",
       "    <tr>\n",
       "      <th>7715</th>\n",
       "      <td>s7714</td>\n",
       "      <td>Movie</td>\n",
       "      <td>Yo-Kai Watch: The Movie</td>\n",
       "      <td>Mark Risley</td>\n",
       "      <td>Johnny Yong Bosch, Joey D'Auria, Alicyn Packar...</td>\n",
       "      <td>Japan, United States</td>\n",
       "      <td>December 1, 2016</td>\n",
       "      <td>TV-Y7</td>\n",
       "      <td>96 min</td>\n",
       "      <td>Anime Features, Children &amp; Family Movies</td>\n",
       "      <td>Nate's special Yo-Kai Watch is missing. He tra...</td>\n",
       "      <td>2016-12-01</td>\n",
       "      <td>2016.0</td>\n",
       "    </tr>\n",
       "    <tr>\n",
       "      <th>7716</th>\n",
       "      <td>s7715</td>\n",
       "      <td>Movie</td>\n",
       "      <td>Yoga Hosers</td>\n",
       "      <td>Kevin Smith</td>\n",
       "      <td>Harley Quinn Smith, Lily-Rose Depp, Johnny Dep...</td>\n",
       "      <td>United States</td>\n",
       "      <td>December 2, 2016</td>\n",
       "      <td>PG-13</td>\n",
       "      <td>88 min</td>\n",
       "      <td>Comedies, Horror Movies, Independent Movies</td>\n",
       "      <td>With an all-important high school party at sta...</td>\n",
       "      <td>2016-12-02</td>\n",
       "      <td>2016.0</td>\n",
       "    </tr>\n",
       "    <tr>\n",
       "      <th>7728</th>\n",
       "      <td>s7727</td>\n",
       "      <td>Movie</td>\n",
       "      <td>You Carry Me</td>\n",
       "      <td>Ivona Juka</td>\n",
       "      <td>Lana Baric, Vojislav Brajovic, Natasa Janjic, ...</td>\n",
       "      <td>Croatia, Slovenia, Serbia, Montenegro</td>\n",
       "      <td>July 1, 2016</td>\n",
       "      <td>TV-MA</td>\n",
       "      <td>157 min</td>\n",
       "      <td>Dramas, International Movies</td>\n",
       "      <td>A soap opera producer, director and makeup art...</td>\n",
       "      <td>2016-07-01</td>\n",
       "      <td>2016.0</td>\n",
       "    </tr>\n",
       "    <tr>\n",
       "      <th>7739</th>\n",
       "      <td>s7738</td>\n",
       "      <td>Movie</td>\n",
       "      <td>Young Tiger</td>\n",
       "      <td>Mu Chu</td>\n",
       "      <td>Qiu Yuen, Charlie Chin, Jackie Chan, Hu Chin, ...</td>\n",
       "      <td>Hong Kong</td>\n",
       "      <td>November 1, 2016</td>\n",
       "      <td>NR</td>\n",
       "      <td>81 min</td>\n",
       "      <td>Action &amp; Adventure, International Movies</td>\n",
       "      <td>Aided only by a tough female police officer, a...</td>\n",
       "      <td>2016-11-01</td>\n",
       "      <td>2016.0</td>\n",
       "    </tr>\n",
       "    <tr>\n",
       "      <th>7772</th>\n",
       "      <td>s7771</td>\n",
       "      <td>Movie</td>\n",
       "      <td>Zinzana</td>\n",
       "      <td>Majid Al Ansari</td>\n",
       "      <td>Ali Suliman, Saleh Bakri, Yasa, Ali Al-Jabri, ...</td>\n",
       "      <td>United Arab Emirates, Jordan</td>\n",
       "      <td>March 9, 2016</td>\n",
       "      <td>TV-MA</td>\n",
       "      <td>96 min</td>\n",
       "      <td>Dramas, International Movies, Thrillers</td>\n",
       "      <td>Recovering alcoholic Talal wakes up inside a s...</td>\n",
       "      <td>2016-03-09</td>\n",
       "      <td>2016.0</td>\n",
       "    </tr>\n",
       "  </tbody>\n",
       "</table>\n",
       "<p>258 rows × 13 columns</p>\n",
       "</div>"
      ],
      "text/plain": [
       "     showID Category                    Title  \\\n",
       "1        s2    Movie                    07:19   \n",
       "25      s26    Movie                 (T)ERROR   \n",
       "35      s36    Movie                #Rucker50   \n",
       "59      s60    Movie          1000 Rupee Note   \n",
       "62      s63    Movie               13 Cameras   \n",
       "...     ...      ...                      ...   \n",
       "7715  s7714    Movie  Yo-Kai Watch: The Movie   \n",
       "7716  s7715    Movie              Yoga Hosers   \n",
       "7728  s7727    Movie             You Carry Me   \n",
       "7739  s7738    Movie              Young Tiger   \n",
       "7772  s7771    Movie                  Zinzana   \n",
       "\n",
       "                                    Director  \\\n",
       "1                          Jorge Michel Grau   \n",
       "25    Lyric R. Cabral, David Felix Sutcliffe   \n",
       "35                     Robert McCullough Jr.   \n",
       "59                            Shrihari Sathe   \n",
       "62                            Victor Zarcoff   \n",
       "...                                      ...   \n",
       "7715                             Mark Risley   \n",
       "7716                             Kevin Smith   \n",
       "7728                              Ivona Juka   \n",
       "7739                                  Mu Chu   \n",
       "7772                         Majid Al Ansari   \n",
       "\n",
       "                                                   Cast  \\\n",
       "1     Demián Bichir, Héctor Bonilla, Oscar Serrano, ...   \n",
       "25                                                  NaN   \n",
       "35                                                  NaN   \n",
       "59    Usha Naik, Sandeep Pathak, Shrikant Yadav, Gan...   \n",
       "62    PJ McCabe, Brianne Moncrief, Sarah Baldwin, Ji...   \n",
       "...                                                 ...   \n",
       "7715  Johnny Yong Bosch, Joey D'Auria, Alicyn Packar...   \n",
       "7716  Harley Quinn Smith, Lily-Rose Depp, Johnny Dep...   \n",
       "7728  Lana Baric, Vojislav Brajovic, Natasa Janjic, ...   \n",
       "7739  Qiu Yuen, Charlie Chin, Jackie Chan, Hu Chin, ...   \n",
       "7772  Ali Suliman, Saleh Bakri, Yasa, Ali Al-Jabri, ...   \n",
       "\n",
       "                                    Country        ReleaseDate Rating  \\\n",
       "1                                    Mexico  December 23, 2016  TV-MA   \n",
       "25                            United States      June 30, 2016     NR   \n",
       "35                            United States   December 1, 2016  TV-PG   \n",
       "59                                    India   December 1, 2016  TV-14   \n",
       "62                            United States    August 13, 2016     NR   \n",
       "...                                     ...                ...    ...   \n",
       "7715                   Japan, United States   December 1, 2016  TV-Y7   \n",
       "7716                          United States   December 2, 2016  PG-13   \n",
       "7728  Croatia, Slovenia, Serbia, Montenegro       July 1, 2016  TV-MA   \n",
       "7739                              Hong Kong   November 1, 2016     NR   \n",
       "7772           United Arab Emirates, Jordan      March 9, 2016  TV-MA   \n",
       "\n",
       "     Duration                                          Type  \\\n",
       "1      93 min                  Dramas, International Movies   \n",
       "25     84 min                                 Documentaries   \n",
       "35     56 min                  Documentaries, Sports Movies   \n",
       "59     89 min                  Dramas, International Movies   \n",
       "62     90 min  Horror Movies, Independent Movies, Thrillers   \n",
       "...       ...                                           ...   \n",
       "7715   96 min      Anime Features, Children & Family Movies   \n",
       "7716   88 min   Comedies, Horror Movies, Independent Movies   \n",
       "7728  157 min                  Dramas, International Movies   \n",
       "7739   81 min      Action & Adventure, International Movies   \n",
       "7772   96 min       Dramas, International Movies, Thrillers   \n",
       "\n",
       "                                            Description       Date    year  \n",
       "1     After a devastating earthquake hits Mexico Cit... 2016-12-23  2016.0  \n",
       "25    This real-life look at FBI counterterrorism op... 2016-06-30  2016.0  \n",
       "35    This documentary celebrates the 50th anniversa... 2016-12-01  2016.0  \n",
       "59    After randomly receiving a handsome political ... 2016-12-01  2016.0  \n",
       "62    Young parents-to-be Claire and Ryan move into ... 2016-08-13  2016.0  \n",
       "...                                                 ...        ...     ...  \n",
       "7715  Nate's special Yo-Kai Watch is missing. He tra... 2016-12-01  2016.0  \n",
       "7716  With an all-important high school party at sta... 2016-12-02  2016.0  \n",
       "7728  A soap opera producer, director and makeup art... 2016-07-01  2016.0  \n",
       "7739  Aided only by a tough female police officer, a... 2016-11-01  2016.0  \n",
       "7772  Recovering alcoholic Talal wakes up inside a s... 2016-03-09  2016.0  \n",
       "\n",
       "[258 rows x 13 columns]"
      ]
     },
     "execution_count": 25,
     "metadata": {},
     "output_type": "execute_result"
    }
   ],
   "source": [
    "data[(data['Category']=='Movie') & (data['year']==2016)]"
   ]
  },
  {
   "cell_type": "markdown",
   "id": "665cf7e5",
   "metadata": {},
   "source": [
    "# to get the only Tv shows released in Hong Kong"
   ]
  },
  {
   "cell_type": "code",
   "execution_count": 82,
   "id": "0c7c15dc",
   "metadata": {},
   "outputs": [
    {
     "data": {
      "text/html": [
       "<div>\n",
       "<style scoped>\n",
       "    .dataframe tbody tr th:only-of-type {\n",
       "        vertical-align: middle;\n",
       "    }\n",
       "\n",
       "    .dataframe tbody tr th {\n",
       "        vertical-align: top;\n",
       "    }\n",
       "\n",
       "    .dataframe thead th {\n",
       "        text-align: right;\n",
       "    }\n",
       "</style>\n",
       "<table border=\"1\" class=\"dataframe\">\n",
       "  <thead>\n",
       "    <tr style=\"text-align: right;\">\n",
       "      <th></th>\n",
       "      <th>showID</th>\n",
       "      <th>Category</th>\n",
       "      <th>Title</th>\n",
       "      <th>Director</th>\n",
       "      <th>Cast</th>\n",
       "      <th>Country</th>\n",
       "      <th>ReleaseDate</th>\n",
       "      <th>Rating</th>\n",
       "      <th>Duration</th>\n",
       "      <th>Type</th>\n",
       "      <th>Description</th>\n",
       "      <th>Date</th>\n",
       "      <th>year</th>\n",
       "    </tr>\n",
       "  </thead>\n",
       "  <tbody>\n",
       "    <tr>\n",
       "      <th>2797</th>\n",
       "      <td>s2798</td>\n",
       "      <td>TV Show</td>\n",
       "      <td>Hong Kong West Side Stories</td>\n",
       "      <td>NaN</td>\n",
       "      <td>Louis Cheung, Myolie Wu, Justin Cheung, Brian ...</td>\n",
       "      <td>Hong Kong</td>\n",
       "      <td>April 30, 2019</td>\n",
       "      <td>TV-MA</td>\n",
       "      <td>1 Season</td>\n",
       "      <td>International TV Shows, TV Comedies, TV Dramas</td>\n",
       "      <td>The intimate lives of young men and women from...</td>\n",
       "      <td>2019-04-30</td>\n",
       "      <td>2019.0</td>\n",
       "    </tr>\n",
       "    <tr>\n",
       "      <th>4566</th>\n",
       "      <td>s4567</td>\n",
       "      <td>TV Show</td>\n",
       "      <td>OCTB</td>\n",
       "      <td>NaN</td>\n",
       "      <td>Jordan Chan, Justin Cheung, Kwok-Kwan Chan, Sa...</td>\n",
       "      <td>Hong Kong</td>\n",
       "      <td>February 5, 2018</td>\n",
       "      <td>TV-14</td>\n",
       "      <td>1 Season</td>\n",
       "      <td>Crime TV Shows, International TV Shows, TV Dramas</td>\n",
       "      <td>An undercover detective crosses paths with fam...</td>\n",
       "      <td>2018-02-05</td>\n",
       "      <td>2018.0</td>\n",
       "    </tr>\n",
       "    <tr>\n",
       "      <th>5529</th>\n",
       "      <td>s5529</td>\n",
       "      <td>TV Show</td>\n",
       "      <td>Sexy Central</td>\n",
       "      <td>NaN</td>\n",
       "      <td>Jeana Ho Pui-yu, Joyce Cheng, Ava Liu, Shiga L...</td>\n",
       "      <td>Hong Kong</td>\n",
       "      <td>July 20, 2019</td>\n",
       "      <td>TV-MA</td>\n",
       "      <td>1 Season</td>\n",
       "      <td>International TV Shows, Romantic TV Shows, TV ...</td>\n",
       "      <td>In the bustling center of Hong Kong, five youn...</td>\n",
       "      <td>2019-07-20</td>\n",
       "      <td>2019.0</td>\n",
       "    </tr>\n",
       "  </tbody>\n",
       "</table>\n",
       "</div>"
      ],
      "text/plain": [
       "     showID Category                        Title Director  \\\n",
       "2797  s2798  TV Show  Hong Kong West Side Stories      NaN   \n",
       "4566  s4567  TV Show                         OCTB      NaN   \n",
       "5529  s5529  TV Show                 Sexy Central      NaN   \n",
       "\n",
       "                                                   Cast    Country  \\\n",
       "2797  Louis Cheung, Myolie Wu, Justin Cheung, Brian ...  Hong Kong   \n",
       "4566  Jordan Chan, Justin Cheung, Kwok-Kwan Chan, Sa...  Hong Kong   \n",
       "5529  Jeana Ho Pui-yu, Joyce Cheng, Ava Liu, Shiga L...  Hong Kong   \n",
       "\n",
       "           ReleaseDate Rating  Duration  \\\n",
       "2797    April 30, 2019  TV-MA  1 Season   \n",
       "4566  February 5, 2018  TV-14  1 Season   \n",
       "5529     July 20, 2019  TV-MA  1 Season   \n",
       "\n",
       "                                                   Type  \\\n",
       "2797     International TV Shows, TV Comedies, TV Dramas   \n",
       "4566  Crime TV Shows, International TV Shows, TV Dramas   \n",
       "5529  International TV Shows, Romantic TV Shows, TV ...   \n",
       "\n",
       "                                            Description       Date    year  \n",
       "2797  The intimate lives of young men and women from... 2019-04-30  2019.0  \n",
       "4566  An undercover detective crosses paths with fam... 2018-02-05  2018.0  \n",
       "5529  In the bustling center of Hong Kong, five youn... 2019-07-20  2019.0  "
      ]
     },
     "execution_count": 82,
     "metadata": {},
     "output_type": "execute_result"
    }
   ],
   "source": [
    "data[(data['Category']=='TV Show') & (data['Country']=='Hong Kong')]"
   ]
  },
  {
   "cell_type": "code",
   "execution_count": 81,
   "id": "426296f8",
   "metadata": {},
   "outputs": [
    {
     "data": {
      "text/plain": [
       "2797    Hong Kong West Side Stories\n",
       "4566                           OCTB\n",
       "5529                   Sexy Central\n",
       "Name: Title, dtype: object"
      ]
     },
     "execution_count": 81,
     "metadata": {},
     "output_type": "execute_result"
    }
   ],
   "source": [
    "data[(data['Category']=='TV Show') & (data['Country']=='Hong Kong')] ['Title']"
   ]
  },
  {
   "cell_type": "markdown",
   "id": "0916522b",
   "metadata": {},
   "source": [
    "# List all the Horror Movies"
   ]
  },
  {
   "cell_type": "code",
   "execution_count": 5,
   "id": "340ccd73",
   "metadata": {},
   "outputs": [
    {
     "data": {
      "text/html": [
       "<div>\n",
       "<style scoped>\n",
       "    .dataframe tbody tr th:only-of-type {\n",
       "        vertical-align: middle;\n",
       "    }\n",
       "\n",
       "    .dataframe tbody tr th {\n",
       "        vertical-align: top;\n",
       "    }\n",
       "\n",
       "    .dataframe thead th {\n",
       "        text-align: right;\n",
       "    }\n",
       "</style>\n",
       "<table border=\"1\" class=\"dataframe\">\n",
       "  <thead>\n",
       "    <tr style=\"text-align: right;\">\n",
       "      <th></th>\n",
       "      <th>Show_Id</th>\n",
       "      <th>Category</th>\n",
       "      <th>Title</th>\n",
       "      <th>Director</th>\n",
       "      <th>Cast</th>\n",
       "      <th>Country</th>\n",
       "      <th>Release_Date</th>\n",
       "      <th>Rating</th>\n",
       "      <th>Duration</th>\n",
       "      <th>Type</th>\n",
       "      <th>Description</th>\n",
       "    </tr>\n",
       "  </thead>\n",
       "  <tbody>\n",
       "    <tr>\n",
       "      <th>261</th>\n",
       "      <td>s262</td>\n",
       "      <td>Movie</td>\n",
       "      <td>A.M.I.</td>\n",
       "      <td>Rusty Nixon</td>\n",
       "      <td>Debs Howard, Philip Granger, Sam Robert Muik, ...</td>\n",
       "      <td>Canada</td>\n",
       "      <td>October 1, 2020</td>\n",
       "      <td>TV-MA</td>\n",
       "      <td>77 min</td>\n",
       "      <td>Horror Movies</td>\n",
       "      <td>After losing her mother, a teenage girl bonds ...</td>\n",
       "    </tr>\n",
       "    <tr>\n",
       "      <th>417</th>\n",
       "      <td>s418</td>\n",
       "      <td>Movie</td>\n",
       "      <td>All the Boys Love Mandy Lane</td>\n",
       "      <td>Jonathan Levine</td>\n",
       "      <td>Anson Mount, Edwin Hodge, Michael Welch, Brook...</td>\n",
       "      <td>United States</td>\n",
       "      <td>July 3, 2018</td>\n",
       "      <td>R</td>\n",
       "      <td>91 min</td>\n",
       "      <td>Horror Movies</td>\n",
       "      <td>During a weekend excursion to a secluded ranch...</td>\n",
       "    </tr>\n",
       "    <tr>\n",
       "      <th>1551</th>\n",
       "      <td>s1552</td>\n",
       "      <td>Movie</td>\n",
       "      <td>Cult of Chucky</td>\n",
       "      <td>Don Mancini</td>\n",
       "      <td>Fiona Dourif, Michael Therriault, Adam Hurtig,...</td>\n",
       "      <td>United States</td>\n",
       "      <td>October 3, 2017</td>\n",
       "      <td>R</td>\n",
       "      <td>90 min</td>\n",
       "      <td>Horror Movies</td>\n",
       "      <td>Following a string of murders in the asylum wh...</td>\n",
       "    </tr>\n",
       "    <tr>\n",
       "      <th>1654</th>\n",
       "      <td>s1655</td>\n",
       "      <td>Movie</td>\n",
       "      <td>Deadcon</td>\n",
       "      <td>Caryn Waechter</td>\n",
       "      <td>Lauren Elizabeth, Claudia Sulewski, Keith Mach...</td>\n",
       "      <td>United States</td>\n",
       "      <td>January 16, 2020</td>\n",
       "      <td>TV-14</td>\n",
       "      <td>78 min</td>\n",
       "      <td>Horror Movies</td>\n",
       "      <td>A group of uber-popular, social media influenc...</td>\n",
       "    </tr>\n",
       "    <tr>\n",
       "      <th>1671</th>\n",
       "      <td>s1672</td>\n",
       "      <td>Movie</td>\n",
       "      <td>Death House</td>\n",
       "      <td>Harrison Smith</td>\n",
       "      <td>Cody Longo, Cortney Palm, Adrienne Barbeau, Mi...</td>\n",
       "      <td>United States</td>\n",
       "      <td>May 5, 2019</td>\n",
       "      <td>R</td>\n",
       "      <td>88 min</td>\n",
       "      <td>Horror Movies</td>\n",
       "      <td>Two federal agents battle through an army of r...</td>\n",
       "    </tr>\n",
       "    <tr>\n",
       "      <th>1673</th>\n",
       "      <td>s1674</td>\n",
       "      <td>Movie</td>\n",
       "      <td>Death of Me</td>\n",
       "      <td>Darren Lynn Bousman</td>\n",
       "      <td>Maggie Q, Luke Hemsworth, Alex Essoe, Ingkarat...</td>\n",
       "      <td>United States, Thailand</td>\n",
       "      <td>January 16, 2021</td>\n",
       "      <td>R</td>\n",
       "      <td>94 min</td>\n",
       "      <td>Horror Movies</td>\n",
       "      <td>With no memory of the previous night, a vacati...</td>\n",
       "    </tr>\n",
       "    <tr>\n",
       "      <th>1811</th>\n",
       "      <td>s1812</td>\n",
       "      <td>Movie</td>\n",
       "      <td>Don't Be Afraid of the Dark</td>\n",
       "      <td>Troy Nixey</td>\n",
       "      <td>Katie Holmes, Guy Pearce, Bailee Madison, Jack...</td>\n",
       "      <td>United States, Australia, Mexico</td>\n",
       "      <td>November 2, 2019</td>\n",
       "      <td>R</td>\n",
       "      <td>99 min</td>\n",
       "      <td>Horror Movies</td>\n",
       "      <td>Young Sally Hurst discovers she isn't alone in...</td>\n",
       "    </tr>\n",
       "    <tr>\n",
       "      <th>1976</th>\n",
       "      <td>s1977</td>\n",
       "      <td>Movie</td>\n",
       "      <td>Eli</td>\n",
       "      <td>Ciarán Foy</td>\n",
       "      <td>Charlie Shotwell, Lili Taylor, Kelly Reilly, M...</td>\n",
       "      <td>United States</td>\n",
       "      <td>October 18, 2019</td>\n",
       "      <td>TV-MA</td>\n",
       "      <td>98 min</td>\n",
       "      <td>Horror Movies</td>\n",
       "      <td>With his desperate parents in tow, an 11-year-...</td>\n",
       "    </tr>\n",
       "    <tr>\n",
       "      <th>2104</th>\n",
       "      <td>s2105</td>\n",
       "      <td>Movie</td>\n",
       "      <td>Family Blood</td>\n",
       "      <td>Sonny Mallhi</td>\n",
       "      <td>James Ransone, Vinessa Shaw, Ajiona Alexus, Co...</td>\n",
       "      <td>United States</td>\n",
       "      <td>May 5, 2018</td>\n",
       "      <td>TV-MA</td>\n",
       "      <td>92 min</td>\n",
       "      <td>Horror Movies</td>\n",
       "      <td>A former addict moves to a new city with her c...</td>\n",
       "    </tr>\n",
       "    <tr>\n",
       "      <th>2165</th>\n",
       "      <td>s2166</td>\n",
       "      <td>Movie</td>\n",
       "      <td>Final Destination 3</td>\n",
       "      <td>James Wong</td>\n",
       "      <td>Mary Elizabeth Winstead, Ryan Merriman, Kris L...</td>\n",
       "      <td>United States, Germany</td>\n",
       "      <td>January 1, 2020</td>\n",
       "      <td>R</td>\n",
       "      <td>93 min</td>\n",
       "      <td>Horror Movies</td>\n",
       "      <td>When a girl prevents her premonition of a dead...</td>\n",
       "    </tr>\n",
       "    <tr>\n",
       "      <th>2286</th>\n",
       "      <td>s2287</td>\n",
       "      <td>Movie</td>\n",
       "      <td>Friday the 13th</td>\n",
       "      <td>Marcus Nispel</td>\n",
       "      <td>Jared Padalecki, Danielle Panabaker, Amanda Ri...</td>\n",
       "      <td>United States</td>\n",
       "      <td>January 1, 2020</td>\n",
       "      <td>R</td>\n",
       "      <td>97 min</td>\n",
       "      <td>Horror Movies</td>\n",
       "      <td>A group of teenage camp counselors raises the ...</td>\n",
       "    </tr>\n",
       "    <tr>\n",
       "      <th>2394</th>\n",
       "      <td>s2395</td>\n",
       "      <td>Movie</td>\n",
       "      <td>Ghost House</td>\n",
       "      <td>Rich Ragsdale</td>\n",
       "      <td>Scout Taylor-Compton, James Landry Hébert, Mar...</td>\n",
       "      <td>Thailand, United States</td>\n",
       "      <td>December 31, 2017</td>\n",
       "      <td>TV-MA</td>\n",
       "      <td>100 min</td>\n",
       "      <td>Horror Movies</td>\n",
       "      <td>While visiting the site of a supernatural shri...</td>\n",
       "    </tr>\n",
       "    <tr>\n",
       "      <th>2405</th>\n",
       "      <td>s2406</td>\n",
       "      <td>Movie</td>\n",
       "      <td>Ghosts of War</td>\n",
       "      <td>Eric Bress</td>\n",
       "      <td>Brenton Thwaites, Theo Rossi, Skylar Astin, Ky...</td>\n",
       "      <td>United Kingdom</td>\n",
       "      <td>November 25, 2020</td>\n",
       "      <td>R</td>\n",
       "      <td>95 min</td>\n",
       "      <td>Horror Movies</td>\n",
       "      <td>Five, battle-worn Allied soldiers guarding a c...</td>\n",
       "    </tr>\n",
       "    <tr>\n",
       "      <th>2422</th>\n",
       "      <td>s2423</td>\n",
       "      <td>Movie</td>\n",
       "      <td>Girl on the Third Floor</td>\n",
       "      <td>Travis Stevens</td>\n",
       "      <td>CM Punk, Trieste Kelly Dunn, Sarah Brooks, Eli...</td>\n",
       "      <td>United States</td>\n",
       "      <td>February 22, 2020</td>\n",
       "      <td>TV-MA</td>\n",
       "      <td>92 min</td>\n",
       "      <td>Horror Movies</td>\n",
       "      <td>A husband with a bad track record tries to sta...</td>\n",
       "    </tr>\n",
       "    <tr>\n",
       "      <th>2704</th>\n",
       "      <td>s2705</td>\n",
       "      <td>Movie</td>\n",
       "      <td>Here Alone</td>\n",
       "      <td>Rod Blackhurst</td>\n",
       "      <td>Lucy Walters, Gina Piersanti, Adam David Thomp...</td>\n",
       "      <td>United States</td>\n",
       "      <td>July 1, 2017</td>\n",
       "      <td>TV-MA</td>\n",
       "      <td>97 min</td>\n",
       "      <td>Horror Movies</td>\n",
       "      <td>When she finally encounters two other survivor...</td>\n",
       "    </tr>\n",
       "    <tr>\n",
       "      <th>2833</th>\n",
       "      <td>s2834</td>\n",
       "      <td>Movie</td>\n",
       "      <td>House of the Witch</td>\n",
       "      <td>Alex Merkin</td>\n",
       "      <td>Emily Bader, Darren Mann, Michelle Randolph, C...</td>\n",
       "      <td>United States</td>\n",
       "      <td>October 11, 2020</td>\n",
       "      <td>TV-MA</td>\n",
       "      <td>86 min</td>\n",
       "      <td>Horror Movies</td>\n",
       "      <td>A group of daring teens finds themselves in a ...</td>\n",
       "    </tr>\n",
       "    <tr>\n",
       "      <th>3456</th>\n",
       "      <td>s3457</td>\n",
       "      <td>Movie</td>\n",
       "      <td>Kristy</td>\n",
       "      <td>Oliver Blackburn</td>\n",
       "      <td>Haley Bennett, Ashley Greene, Erica Ash, Lucas...</td>\n",
       "      <td>United States</td>\n",
       "      <td>October 31, 2015</td>\n",
       "      <td>NR</td>\n",
       "      <td>85 min</td>\n",
       "      <td>Horror Movies</td>\n",
       "      <td>Opting to stay on campus over the Thanksgiving...</td>\n",
       "    </tr>\n",
       "    <tr>\n",
       "      <th>3890</th>\n",
       "      <td>s3891</td>\n",
       "      <td>Movie</td>\n",
       "      <td>Malicious</td>\n",
       "      <td>Michael Winnick</td>\n",
       "      <td>Bojana Novakovic, Josh Stewart, Delroy Lindo, ...</td>\n",
       "      <td>United States</td>\n",
       "      <td>February 1, 2019</td>\n",
       "      <td>TV-MA</td>\n",
       "      <td>91 min</td>\n",
       "      <td>Horror Movies</td>\n",
       "      <td>After receiving a strange present, a professor...</td>\n",
       "    </tr>\n",
       "    <tr>\n",
       "      <th>4042</th>\n",
       "      <td>s4043</td>\n",
       "      <td>Movie</td>\n",
       "      <td>Mercy Black</td>\n",
       "      <td>Owen Egerton</td>\n",
       "      <td>Daniella Pineda, Elle LaMont, Janeane Garofalo...</td>\n",
       "      <td>United States</td>\n",
       "      <td>March 31, 2019</td>\n",
       "      <td>TV-14</td>\n",
       "      <td>88 min</td>\n",
       "      <td>Horror Movies</td>\n",
       "      <td>Fifteen years after a traumatic crime, a woman...</td>\n",
       "    </tr>\n",
       "    <tr>\n",
       "      <th>4392</th>\n",
       "      <td>s4393</td>\n",
       "      <td>Movie</td>\n",
       "      <td>Nails</td>\n",
       "      <td>Dennis Bartok</td>\n",
       "      <td>Leah McNamara, Shauna Macdonald, Steve Wall, R...</td>\n",
       "      <td>Ireland</td>\n",
       "      <td>March 10, 2018</td>\n",
       "      <td>TV-MA</td>\n",
       "      <td>85 min</td>\n",
       "      <td>Horror Movies</td>\n",
       "      <td>Recently paralyzed in a devastating car accide...</td>\n",
       "    </tr>\n",
       "    <tr>\n",
       "      <th>4903</th>\n",
       "      <td>s4903</td>\n",
       "      <td>Movie</td>\n",
       "      <td>Polaroid</td>\n",
       "      <td>Lars Klevberg</td>\n",
       "      <td>Kathryn Prescott, Mitch Pileggi, Grace Zabrisk...</td>\n",
       "      <td>United States, Norway, Canada</td>\n",
       "      <td>February 9, 2020</td>\n",
       "      <td>PG-13</td>\n",
       "      <td>88 min</td>\n",
       "      <td>Horror Movies</td>\n",
       "      <td>A teen's discovery of a vintage Polaroid camer...</td>\n",
       "    </tr>\n",
       "    <tr>\n",
       "      <th>4990</th>\n",
       "      <td>s4990</td>\n",
       "      <td>Movie</td>\n",
       "      <td>Prom Night</td>\n",
       "      <td>Nelson McCormick</td>\n",
       "      <td>Brittany Snow, Scott Porter, Jessica Stroup, D...</td>\n",
       "      <td>United States, Canada</td>\n",
       "      <td>November 12, 2020</td>\n",
       "      <td>PG-13</td>\n",
       "      <td>88 min</td>\n",
       "      <td>Horror Movies</td>\n",
       "      <td>On prom night, a high school senior still stru...</td>\n",
       "    </tr>\n",
       "    <tr>\n",
       "      <th>5134</th>\n",
       "      <td>s5134</td>\n",
       "      <td>Movie</td>\n",
       "      <td>Red Christmas</td>\n",
       "      <td>Craig Anderson</td>\n",
       "      <td>Dee Wallace, Geoff Morrell, Sarah Bishop, Jani...</td>\n",
       "      <td>Australia</td>\n",
       "      <td>December 11, 2017</td>\n",
       "      <td>TV-MA</td>\n",
       "      <td>81 min</td>\n",
       "      <td>Horror Movies</td>\n",
       "      <td>A family Christmas gathering at an isolated Au...</td>\n",
       "    </tr>\n",
       "    <tr>\n",
       "      <th>5443</th>\n",
       "      <td>s5443</td>\n",
       "      <td>Movie</td>\n",
       "      <td>Scream 2</td>\n",
       "      <td>Wes Craven</td>\n",
       "      <td>Neve Campbell, David Arquette, Courteney Cox, ...</td>\n",
       "      <td>United States</td>\n",
       "      <td>October 1, 2019</td>\n",
       "      <td>R</td>\n",
       "      <td>121 min</td>\n",
       "      <td>Horror Movies</td>\n",
       "      <td>Gale has written a best-seller which has been ...</td>\n",
       "    </tr>\n",
       "    <tr>\n",
       "      <th>5444</th>\n",
       "      <td>s5444</td>\n",
       "      <td>Movie</td>\n",
       "      <td>Scream 3</td>\n",
       "      <td>Wes Craven</td>\n",
       "      <td>David Arquette, Neve Campbell, Courteney Cox, ...</td>\n",
       "      <td>United States</td>\n",
       "      <td>July 1, 2019</td>\n",
       "      <td>R</td>\n",
       "      <td>117 min</td>\n",
       "      <td>Horror Movies</td>\n",
       "      <td>This installment of the tongue-in-cheek horror...</td>\n",
       "    </tr>\n",
       "    <tr>\n",
       "      <th>5515</th>\n",
       "      <td>s5515</td>\n",
       "      <td>Movie</td>\n",
       "      <td>Seven in Heaven</td>\n",
       "      <td>Chris Eigeman</td>\n",
       "      <td>Travis Tope, Haley Ramm, Jacinda Barrett, Gary...</td>\n",
       "      <td>United States</td>\n",
       "      <td>October 6, 2018</td>\n",
       "      <td>PG-13</td>\n",
       "      <td>94 min</td>\n",
       "      <td>Horror Movies</td>\n",
       "      <td>Two teenagers step into a secret closet and em...</td>\n",
       "    </tr>\n",
       "    <tr>\n",
       "      <th>5544</th>\n",
       "      <td>s5544</td>\n",
       "      <td>Movie</td>\n",
       "      <td>Shark Night</td>\n",
       "      <td>David R. Ellis</td>\n",
       "      <td>Sara Paxton, Dustin Milligan, Chris Carmack, K...</td>\n",
       "      <td>United States</td>\n",
       "      <td>November 2, 2019</td>\n",
       "      <td>PG-13</td>\n",
       "      <td>91 min</td>\n",
       "      <td>Horror Movies</td>\n",
       "      <td>A weekend of beach-house debauchery turns into...</td>\n",
       "    </tr>\n",
       "    <tr>\n",
       "      <th>5607</th>\n",
       "      <td>s5607</td>\n",
       "      <td>Movie</td>\n",
       "      <td>Silent Hill: Revelation</td>\n",
       "      <td>M.J. Bassett</td>\n",
       "      <td>Deborah Kara Unger, Adelaide Clemens, Sean Bea...</td>\n",
       "      <td>Canada, France, United States</td>\n",
       "      <td>December 13, 2019</td>\n",
       "      <td>R</td>\n",
       "      <td>94 min</td>\n",
       "      <td>Horror Movies</td>\n",
       "      <td>Haunted by nightmares and her father's disappe...</td>\n",
       "    </tr>\n",
       "    <tr>\n",
       "      <th>5634</th>\n",
       "      <td>s5634</td>\n",
       "      <td>Movie</td>\n",
       "      <td>Sinister 2</td>\n",
       "      <td>Ciarán Foy</td>\n",
       "      <td>Shannyn Sossamon, John Beasley, James Ransone,...</td>\n",
       "      <td>United States, United Kingdom</td>\n",
       "      <td>October 16, 2019</td>\n",
       "      <td>R</td>\n",
       "      <td>97 min</td>\n",
       "      <td>Horror Movies</td>\n",
       "      <td>A single mother and her twin sons move into a ...</td>\n",
       "    </tr>\n",
       "    <tr>\n",
       "      <th>5637</th>\n",
       "      <td>s5637</td>\n",
       "      <td>Movie</td>\n",
       "      <td>Siren</td>\n",
       "      <td>Gregg Bishop</td>\n",
       "      <td>Chase Williamson, Hannah Fierman, Justin Welbo...</td>\n",
       "      <td>United States</td>\n",
       "      <td>January 1, 2020</td>\n",
       "      <td>TV-MA</td>\n",
       "      <td>83 min</td>\n",
       "      <td>Horror Movies</td>\n",
       "      <td>A groom-to-be and his pals celebrate with a de...</td>\n",
       "    </tr>\n",
       "    <tr>\n",
       "      <th>5766</th>\n",
       "      <td>s5766</td>\n",
       "      <td>Movie</td>\n",
       "      <td>Splatter</td>\n",
       "      <td>Joe Dante</td>\n",
       "      <td>Corey Feldman, Tony Todd, Tara Leigh, Erin Way...</td>\n",
       "      <td>United States</td>\n",
       "      <td>November 18, 2009</td>\n",
       "      <td>TV-MA</td>\n",
       "      <td>29 min</td>\n",
       "      <td>Horror Movies</td>\n",
       "      <td>After committing suicide, a washed-up rocker r...</td>\n",
       "    </tr>\n",
       "    <tr>\n",
       "      <th>5813</th>\n",
       "      <td>s5813</td>\n",
       "      <td>Movie</td>\n",
       "      <td>Stephanie</td>\n",
       "      <td>Akiva Goldsman</td>\n",
       "      <td>Shree Cooks, Frank Grillo, Anna Torv</td>\n",
       "      <td>United States</td>\n",
       "      <td>September 1, 2018</td>\n",
       "      <td>R</td>\n",
       "      <td>86 min</td>\n",
       "      <td>Horror Movies</td>\n",
       "      <td>A menacing, unseen force stalks a young girl l...</td>\n",
       "    </tr>\n",
       "    <tr>\n",
       "      <th>6082</th>\n",
       "      <td>s6082</td>\n",
       "      <td>Movie</td>\n",
       "      <td>The Amityville Horror</td>\n",
       "      <td>Andrew Douglas</td>\n",
       "      <td>Ryan Reynolds, Melissa George, Chloë Grace Mor...</td>\n",
       "      <td>United States</td>\n",
       "      <td>January 1, 2020</td>\n",
       "      <td>R</td>\n",
       "      <td>89 min</td>\n",
       "      <td>Horror Movies</td>\n",
       "      <td>This hair-raising remake of the 1979 horror hi...</td>\n",
       "    </tr>\n",
       "    <tr>\n",
       "      <th>6139</th>\n",
       "      <td>s6139</td>\n",
       "      <td>Movie</td>\n",
       "      <td>The Black Room</td>\n",
       "      <td>Rolfe Kanefsky</td>\n",
       "      <td>Natasha Henstridge, Lukas Hassel, Lin Shaye, D...</td>\n",
       "      <td>United States</td>\n",
       "      <td>August 7, 2017</td>\n",
       "      <td>TV-MA</td>\n",
       "      <td>95 min</td>\n",
       "      <td>Horror Movies</td>\n",
       "      <td>A couple's new dream home morphs into a nightm...</td>\n",
       "    </tr>\n",
       "    <tr>\n",
       "      <th>6352</th>\n",
       "      <td>s6351</td>\n",
       "      <td>Movie</td>\n",
       "      <td>The Final Destination</td>\n",
       "      <td>David R. Ellis</td>\n",
       "      <td>Bobby Campo, Shantel VanSanten, Nick Zano, Hal...</td>\n",
       "      <td>United States</td>\n",
       "      <td>January 1, 2020</td>\n",
       "      <td>R</td>\n",
       "      <td>82 min</td>\n",
       "      <td>Horror Movies</td>\n",
       "      <td>Nick O'Bannon thinks he's cheated death when h...</td>\n",
       "    </tr>\n",
       "    <tr>\n",
       "      <th>6372</th>\n",
       "      <td>s6371</td>\n",
       "      <td>Movie</td>\n",
       "      <td>The Forgotten</td>\n",
       "      <td>Oliver Frampton</td>\n",
       "      <td>Clem Tibber, Elarica Johnson, James Doherty, S...</td>\n",
       "      <td>United Kingdom</td>\n",
       "      <td>September 11, 2017</td>\n",
       "      <td>TV-MA</td>\n",
       "      <td>89 min</td>\n",
       "      <td>Horror Movies</td>\n",
       "      <td>After a teenager goes to live with his father ...</td>\n",
       "    </tr>\n",
       "    <tr>\n",
       "      <th>6439</th>\n",
       "      <td>s6438</td>\n",
       "      <td>Movie</td>\n",
       "      <td>The Hatred</td>\n",
       "      <td>Michael G. Kehoe</td>\n",
       "      <td>Sarah Davenport, Andrew Divoff, Gabrielle Bour...</td>\n",
       "      <td>United States</td>\n",
       "      <td>December 11, 2017</td>\n",
       "      <td>R</td>\n",
       "      <td>94 min</td>\n",
       "      <td>Horror Movies</td>\n",
       "      <td>Four young women head to a country house for a...</td>\n",
       "    </tr>\n",
       "    <tr>\n",
       "      <th>6450</th>\n",
       "      <td>s6449</td>\n",
       "      <td>Movie</td>\n",
       "      <td>The Heretics</td>\n",
       "      <td>Chad Archibald</td>\n",
       "      <td>Nina Kiri, Ry Barrett, Jorja Cadence, Will Kin...</td>\n",
       "      <td>Canada</td>\n",
       "      <td>September 4, 2019</td>\n",
       "      <td>TV-MA</td>\n",
       "      <td>88 min</td>\n",
       "      <td>Horror Movies</td>\n",
       "      <td>A withdrawn young woman hunted by a malicious ...</td>\n",
       "    </tr>\n",
       "    <tr>\n",
       "      <th>6915</th>\n",
       "      <td>s6914</td>\n",
       "      <td>Movie</td>\n",
       "      <td>The Super</td>\n",
       "      <td>Stephan Rick</td>\n",
       "      <td>Patrick John Flueger, Val Kilmer, Louisa Kraus...</td>\n",
       "      <td>United States</td>\n",
       "      <td>February 16, 2019</td>\n",
       "      <td>R</td>\n",
       "      <td>89 min</td>\n",
       "      <td>Horror Movies</td>\n",
       "      <td>When an ex-cop becomes a superintendent of an ...</td>\n",
       "    </tr>\n",
       "    <tr>\n",
       "      <th>7070</th>\n",
       "      <td>s7069</td>\n",
       "      <td>Movie</td>\n",
       "      <td>Thriller</td>\n",
       "      <td>Dallas Jackson</td>\n",
       "      <td>Jessica Allain, Luke Tennie, Tequan Richmond, ...</td>\n",
       "      <td>United States</td>\n",
       "      <td>April 14, 2019</td>\n",
       "      <td>TV-MA</td>\n",
       "      <td>87 min</td>\n",
       "      <td>Horror Movies</td>\n",
       "      <td>When a prank goes wrong, a shy kid from Compto...</td>\n",
       "    </tr>\n",
       "    <tr>\n",
       "      <th>7260</th>\n",
       "      <td>s7259</td>\n",
       "      <td>Movie</td>\n",
       "      <td>Truth or Dare</td>\n",
       "      <td>Nick Simon</td>\n",
       "      <td>Cassandra Scerbo, Brytni Sarpy, Mason Dye, Har...</td>\n",
       "      <td>United States</td>\n",
       "      <td>October 3, 2018</td>\n",
       "      <td>TV-MA</td>\n",
       "      <td>88 min</td>\n",
       "      <td>Horror Movies</td>\n",
       "      <td>A game of \"Truth or Dare\" among college friend...</td>\n",
       "    </tr>\n",
       "    <tr>\n",
       "      <th>7277</th>\n",
       "      <td>s7276</td>\n",
       "      <td>Movie</td>\n",
       "      <td>Tusk</td>\n",
       "      <td>Kevin Smith</td>\n",
       "      <td>Michael Parks, Justin Long, Haley Joel Osment,...</td>\n",
       "      <td>United States</td>\n",
       "      <td>July 24, 2018</td>\n",
       "      <td>R</td>\n",
       "      <td>102 min</td>\n",
       "      <td>Horror Movies</td>\n",
       "      <td>When a wise-guy podcaster interviews a disable...</td>\n",
       "    </tr>\n",
       "    <tr>\n",
       "      <th>7689</th>\n",
       "      <td>s7688</td>\n",
       "      <td>Movie</td>\n",
       "      <td>XX</td>\n",
       "      <td>Jovanka Vuckovic, Annie Clark, Roxanne Benjami...</td>\n",
       "      <td>Natalie Brown, Jonathan Watton, Melanie Lynske...</td>\n",
       "      <td>Canada, United States</td>\n",
       "      <td>June 22, 2017</td>\n",
       "      <td>R</td>\n",
       "      <td>81 min</td>\n",
       "      <td>Horror Movies</td>\n",
       "      <td>This four-part anthology of short horror films...</td>\n",
       "    </tr>\n",
       "  </tbody>\n",
       "</table>\n",
       "</div>"
      ],
      "text/plain": [
       "     Show_Id Category                         Title  \\\n",
       "261     s262    Movie                        A.M.I.   \n",
       "417     s418    Movie  All the Boys Love Mandy Lane   \n",
       "1551   s1552    Movie                Cult of Chucky   \n",
       "1654   s1655    Movie                       Deadcon   \n",
       "1671   s1672    Movie                   Death House   \n",
       "1673   s1674    Movie                   Death of Me   \n",
       "1811   s1812    Movie   Don't Be Afraid of the Dark   \n",
       "1976   s1977    Movie                           Eli   \n",
       "2104   s2105    Movie                  Family Blood   \n",
       "2165   s2166    Movie           Final Destination 3   \n",
       "2286   s2287    Movie               Friday the 13th   \n",
       "2394   s2395    Movie                   Ghost House   \n",
       "2405   s2406    Movie                 Ghosts of War   \n",
       "2422   s2423    Movie       Girl on the Third Floor   \n",
       "2704   s2705    Movie                    Here Alone   \n",
       "2833   s2834    Movie            House of the Witch   \n",
       "3456   s3457    Movie                        Kristy   \n",
       "3890   s3891    Movie                     Malicious   \n",
       "4042   s4043    Movie                   Mercy Black   \n",
       "4392   s4393    Movie                         Nails   \n",
       "4903   s4903    Movie                      Polaroid   \n",
       "4990   s4990    Movie                    Prom Night   \n",
       "5134   s5134    Movie                 Red Christmas   \n",
       "5443   s5443    Movie                      Scream 2   \n",
       "5444   s5444    Movie                      Scream 3   \n",
       "5515   s5515    Movie               Seven in Heaven   \n",
       "5544   s5544    Movie                   Shark Night   \n",
       "5607   s5607    Movie       Silent Hill: Revelation   \n",
       "5634   s5634    Movie                    Sinister 2   \n",
       "5637   s5637    Movie                         Siren   \n",
       "5766   s5766    Movie                      Splatter   \n",
       "5813   s5813    Movie                     Stephanie   \n",
       "6082   s6082    Movie         The Amityville Horror   \n",
       "6139   s6139    Movie                The Black Room   \n",
       "6352   s6351    Movie         The Final Destination   \n",
       "6372   s6371    Movie                 The Forgotten   \n",
       "6439   s6438    Movie                    The Hatred   \n",
       "6450   s6449    Movie                  The Heretics   \n",
       "6915   s6914    Movie                     The Super   \n",
       "7070   s7069    Movie                      Thriller   \n",
       "7260   s7259    Movie                 Truth or Dare   \n",
       "7277   s7276    Movie                          Tusk   \n",
       "7689   s7688    Movie                            XX   \n",
       "\n",
       "                                               Director  \\\n",
       "261                                         Rusty Nixon   \n",
       "417                                     Jonathan Levine   \n",
       "1551                                        Don Mancini   \n",
       "1654                                     Caryn Waechter   \n",
       "1671                                     Harrison Smith   \n",
       "1673                                Darren Lynn Bousman   \n",
       "1811                                         Troy Nixey   \n",
       "1976                                         Ciarán Foy   \n",
       "2104                                       Sonny Mallhi   \n",
       "2165                                         James Wong   \n",
       "2286                                      Marcus Nispel   \n",
       "2394                                      Rich Ragsdale   \n",
       "2405                                         Eric Bress   \n",
       "2422                                     Travis Stevens   \n",
       "2704                                     Rod Blackhurst   \n",
       "2833                                        Alex Merkin   \n",
       "3456                                   Oliver Blackburn   \n",
       "3890                                    Michael Winnick   \n",
       "4042                                       Owen Egerton   \n",
       "4392                                      Dennis Bartok   \n",
       "4903                                      Lars Klevberg   \n",
       "4990                                   Nelson McCormick   \n",
       "5134                                     Craig Anderson   \n",
       "5443                                         Wes Craven   \n",
       "5444                                         Wes Craven   \n",
       "5515                                      Chris Eigeman   \n",
       "5544                                     David R. Ellis   \n",
       "5607                                       M.J. Bassett   \n",
       "5634                                         Ciarán Foy   \n",
       "5637                                       Gregg Bishop   \n",
       "5766                                          Joe Dante   \n",
       "5813                                     Akiva Goldsman   \n",
       "6082                                     Andrew Douglas   \n",
       "6139                                     Rolfe Kanefsky   \n",
       "6352                                     David R. Ellis   \n",
       "6372                                    Oliver Frampton   \n",
       "6439                                   Michael G. Kehoe   \n",
       "6450                                     Chad Archibald   \n",
       "6915                                       Stephan Rick   \n",
       "7070                                     Dallas Jackson   \n",
       "7260                                         Nick Simon   \n",
       "7277                                        Kevin Smith   \n",
       "7689  Jovanka Vuckovic, Annie Clark, Roxanne Benjami...   \n",
       "\n",
       "                                                   Cast  \\\n",
       "261   Debs Howard, Philip Granger, Sam Robert Muik, ...   \n",
       "417   Anson Mount, Edwin Hodge, Michael Welch, Brook...   \n",
       "1551  Fiona Dourif, Michael Therriault, Adam Hurtig,...   \n",
       "1654  Lauren Elizabeth, Claudia Sulewski, Keith Mach...   \n",
       "1671  Cody Longo, Cortney Palm, Adrienne Barbeau, Mi...   \n",
       "1673  Maggie Q, Luke Hemsworth, Alex Essoe, Ingkarat...   \n",
       "1811  Katie Holmes, Guy Pearce, Bailee Madison, Jack...   \n",
       "1976  Charlie Shotwell, Lili Taylor, Kelly Reilly, M...   \n",
       "2104  James Ransone, Vinessa Shaw, Ajiona Alexus, Co...   \n",
       "2165  Mary Elizabeth Winstead, Ryan Merriman, Kris L...   \n",
       "2286  Jared Padalecki, Danielle Panabaker, Amanda Ri...   \n",
       "2394  Scout Taylor-Compton, James Landry Hébert, Mar...   \n",
       "2405  Brenton Thwaites, Theo Rossi, Skylar Astin, Ky...   \n",
       "2422  CM Punk, Trieste Kelly Dunn, Sarah Brooks, Eli...   \n",
       "2704  Lucy Walters, Gina Piersanti, Adam David Thomp...   \n",
       "2833  Emily Bader, Darren Mann, Michelle Randolph, C...   \n",
       "3456  Haley Bennett, Ashley Greene, Erica Ash, Lucas...   \n",
       "3890  Bojana Novakovic, Josh Stewart, Delroy Lindo, ...   \n",
       "4042  Daniella Pineda, Elle LaMont, Janeane Garofalo...   \n",
       "4392  Leah McNamara, Shauna Macdonald, Steve Wall, R...   \n",
       "4903  Kathryn Prescott, Mitch Pileggi, Grace Zabrisk...   \n",
       "4990  Brittany Snow, Scott Porter, Jessica Stroup, D...   \n",
       "5134  Dee Wallace, Geoff Morrell, Sarah Bishop, Jani...   \n",
       "5443  Neve Campbell, David Arquette, Courteney Cox, ...   \n",
       "5444  David Arquette, Neve Campbell, Courteney Cox, ...   \n",
       "5515  Travis Tope, Haley Ramm, Jacinda Barrett, Gary...   \n",
       "5544  Sara Paxton, Dustin Milligan, Chris Carmack, K...   \n",
       "5607  Deborah Kara Unger, Adelaide Clemens, Sean Bea...   \n",
       "5634  Shannyn Sossamon, John Beasley, James Ransone,...   \n",
       "5637  Chase Williamson, Hannah Fierman, Justin Welbo...   \n",
       "5766  Corey Feldman, Tony Todd, Tara Leigh, Erin Way...   \n",
       "5813               Shree Cooks, Frank Grillo, Anna Torv   \n",
       "6082  Ryan Reynolds, Melissa George, Chloë Grace Mor...   \n",
       "6139  Natasha Henstridge, Lukas Hassel, Lin Shaye, D...   \n",
       "6352  Bobby Campo, Shantel VanSanten, Nick Zano, Hal...   \n",
       "6372  Clem Tibber, Elarica Johnson, James Doherty, S...   \n",
       "6439  Sarah Davenport, Andrew Divoff, Gabrielle Bour...   \n",
       "6450  Nina Kiri, Ry Barrett, Jorja Cadence, Will Kin...   \n",
       "6915  Patrick John Flueger, Val Kilmer, Louisa Kraus...   \n",
       "7070  Jessica Allain, Luke Tennie, Tequan Richmond, ...   \n",
       "7260  Cassandra Scerbo, Brytni Sarpy, Mason Dye, Har...   \n",
       "7277  Michael Parks, Justin Long, Haley Joel Osment,...   \n",
       "7689  Natalie Brown, Jonathan Watton, Melanie Lynske...   \n",
       "\n",
       "                               Country        Release_Date Rating Duration  \\\n",
       "261                             Canada     October 1, 2020  TV-MA   77 min   \n",
       "417                      United States        July 3, 2018      R   91 min   \n",
       "1551                     United States     October 3, 2017      R   90 min   \n",
       "1654                     United States    January 16, 2020  TV-14   78 min   \n",
       "1671                     United States         May 5, 2019      R   88 min   \n",
       "1673           United States, Thailand    January 16, 2021      R   94 min   \n",
       "1811  United States, Australia, Mexico    November 2, 2019      R   99 min   \n",
       "1976                     United States    October 18, 2019  TV-MA   98 min   \n",
       "2104                     United States         May 5, 2018  TV-MA   92 min   \n",
       "2165            United States, Germany     January 1, 2020      R   93 min   \n",
       "2286                     United States     January 1, 2020      R   97 min   \n",
       "2394           Thailand, United States   December 31, 2017  TV-MA  100 min   \n",
       "2405                    United Kingdom   November 25, 2020      R   95 min   \n",
       "2422                     United States   February 22, 2020  TV-MA   92 min   \n",
       "2704                     United States        July 1, 2017  TV-MA   97 min   \n",
       "2833                     United States    October 11, 2020  TV-MA   86 min   \n",
       "3456                     United States    October 31, 2015     NR   85 min   \n",
       "3890                     United States    February 1, 2019  TV-MA   91 min   \n",
       "4042                     United States      March 31, 2019  TV-14   88 min   \n",
       "4392                           Ireland      March 10, 2018  TV-MA   85 min   \n",
       "4903     United States, Norway, Canada    February 9, 2020  PG-13   88 min   \n",
       "4990             United States, Canada   November 12, 2020  PG-13   88 min   \n",
       "5134                         Australia   December 11, 2017  TV-MA   81 min   \n",
       "5443                     United States     October 1, 2019      R  121 min   \n",
       "5444                     United States        July 1, 2019      R  117 min   \n",
       "5515                     United States     October 6, 2018  PG-13   94 min   \n",
       "5544                     United States    November 2, 2019  PG-13   91 min   \n",
       "5607     Canada, France, United States   December 13, 2019      R   94 min   \n",
       "5634     United States, United Kingdom    October 16, 2019      R   97 min   \n",
       "5637                     United States     January 1, 2020  TV-MA   83 min   \n",
       "5766                     United States   November 18, 2009  TV-MA   29 min   \n",
       "5813                     United States   September 1, 2018      R   86 min   \n",
       "6082                     United States     January 1, 2020      R   89 min   \n",
       "6139                     United States      August 7, 2017  TV-MA   95 min   \n",
       "6352                     United States     January 1, 2020      R   82 min   \n",
       "6372                    United Kingdom  September 11, 2017  TV-MA   89 min   \n",
       "6439                     United States   December 11, 2017      R   94 min   \n",
       "6450                            Canada   September 4, 2019  TV-MA   88 min   \n",
       "6915                     United States   February 16, 2019      R   89 min   \n",
       "7070                     United States      April 14, 2019  TV-MA   87 min   \n",
       "7260                     United States     October 3, 2018  TV-MA   88 min   \n",
       "7277                     United States       July 24, 2018      R  102 min   \n",
       "7689             Canada, United States       June 22, 2017      R   81 min   \n",
       "\n",
       "               Type                                        Description  \n",
       "261   Horror Movies  After losing her mother, a teenage girl bonds ...  \n",
       "417   Horror Movies  During a weekend excursion to a secluded ranch...  \n",
       "1551  Horror Movies  Following a string of murders in the asylum wh...  \n",
       "1654  Horror Movies  A group of uber-popular, social media influenc...  \n",
       "1671  Horror Movies  Two federal agents battle through an army of r...  \n",
       "1673  Horror Movies  With no memory of the previous night, a vacati...  \n",
       "1811  Horror Movies  Young Sally Hurst discovers she isn't alone in...  \n",
       "1976  Horror Movies  With his desperate parents in tow, an 11-year-...  \n",
       "2104  Horror Movies  A former addict moves to a new city with her c...  \n",
       "2165  Horror Movies  When a girl prevents her premonition of a dead...  \n",
       "2286  Horror Movies  A group of teenage camp counselors raises the ...  \n",
       "2394  Horror Movies  While visiting the site of a supernatural shri...  \n",
       "2405  Horror Movies  Five, battle-worn Allied soldiers guarding a c...  \n",
       "2422  Horror Movies  A husband with a bad track record tries to sta...  \n",
       "2704  Horror Movies  When she finally encounters two other survivor...  \n",
       "2833  Horror Movies  A group of daring teens finds themselves in a ...  \n",
       "3456  Horror Movies  Opting to stay on campus over the Thanksgiving...  \n",
       "3890  Horror Movies  After receiving a strange present, a professor...  \n",
       "4042  Horror Movies  Fifteen years after a traumatic crime, a woman...  \n",
       "4392  Horror Movies  Recently paralyzed in a devastating car accide...  \n",
       "4903  Horror Movies  A teen's discovery of a vintage Polaroid camer...  \n",
       "4990  Horror Movies  On prom night, a high school senior still stru...  \n",
       "5134  Horror Movies  A family Christmas gathering at an isolated Au...  \n",
       "5443  Horror Movies  Gale has written a best-seller which has been ...  \n",
       "5444  Horror Movies  This installment of the tongue-in-cheek horror...  \n",
       "5515  Horror Movies  Two teenagers step into a secret closet and em...  \n",
       "5544  Horror Movies  A weekend of beach-house debauchery turns into...  \n",
       "5607  Horror Movies  Haunted by nightmares and her father's disappe...  \n",
       "5634  Horror Movies  A single mother and her twin sons move into a ...  \n",
       "5637  Horror Movies  A groom-to-be and his pals celebrate with a de...  \n",
       "5766  Horror Movies  After committing suicide, a washed-up rocker r...  \n",
       "5813  Horror Movies  A menacing, unseen force stalks a young girl l...  \n",
       "6082  Horror Movies  This hair-raising remake of the 1979 horror hi...  \n",
       "6139  Horror Movies  A couple's new dream home morphs into a nightm...  \n",
       "6352  Horror Movies  Nick O'Bannon thinks he's cheated death when h...  \n",
       "6372  Horror Movies  After a teenager goes to live with his father ...  \n",
       "6439  Horror Movies  Four young women head to a country house for a...  \n",
       "6450  Horror Movies  A withdrawn young woman hunted by a malicious ...  \n",
       "6915  Horror Movies  When an ex-cop becomes a superintendent of an ...  \n",
       "7070  Horror Movies  When a prank goes wrong, a shy kid from Compto...  \n",
       "7260  Horror Movies  A game of \"Truth or Dare\" among college friend...  \n",
       "7277  Horror Movies  When a wise-guy podcaster interviews a disable...  \n",
       "7689  Horror Movies  This four-part anthology of short horror films...  "
      ]
     },
     "execution_count": 5,
     "metadata": {},
     "output_type": "execute_result"
    }
   ],
   "source": [
    "data[(data['Category']=='Movie') & (data['Type']=='Horror Movies')]"
   ]
  },
  {
   "cell_type": "markdown",
   "id": "ac3ca5c0",
   "metadata": {},
   "source": [
    "# To know in how many movies Tom Cruise was cast"
   ]
  },
  {
   "cell_type": "code",
   "execution_count": 6,
   "id": "5872f3c0",
   "metadata": {},
   "outputs": [
    {
     "data": {
      "text/html": [
       "<div>\n",
       "<style scoped>\n",
       "    .dataframe tbody tr th:only-of-type {\n",
       "        vertical-align: middle;\n",
       "    }\n",
       "\n",
       "    .dataframe tbody tr th {\n",
       "        vertical-align: top;\n",
       "    }\n",
       "\n",
       "    .dataframe thead th {\n",
       "        text-align: right;\n",
       "    }\n",
       "</style>\n",
       "<table border=\"1\" class=\"dataframe\">\n",
       "  <thead>\n",
       "    <tr style=\"text-align: right;\">\n",
       "      <th></th>\n",
       "      <th>Show_Id</th>\n",
       "      <th>Category</th>\n",
       "      <th>Title</th>\n",
       "      <th>Director</th>\n",
       "      <th>Cast</th>\n",
       "      <th>Country</th>\n",
       "      <th>Release_Date</th>\n",
       "      <th>Rating</th>\n",
       "      <th>Duration</th>\n",
       "      <th>Type</th>\n",
       "      <th>Description</th>\n",
       "    </tr>\n",
       "  </thead>\n",
       "  <tbody>\n",
       "  </tbody>\n",
       "</table>\n",
       "</div>"
      ],
      "text/plain": [
       "Empty DataFrame\n",
       "Columns: [Show_Id, Category, Title, Director, Cast, Country, Release_Date, Rating, Duration, Type, Description]\n",
       "Index: []"
      ]
     },
     "execution_count": 6,
     "metadata": {},
     "output_type": "execute_result"
    }
   ],
   "source": [
    " data[(data['Category']=='Movie') & (data['Cast']== 'Tom Cruise')]"
   ]
  },
  {
   "cell_type": "markdown",
   "id": "c1f10f22",
   "metadata": {},
   "source": [
    "# check how many different ratings are there in given dataset"
   ]
  },
  {
   "cell_type": "code",
   "execution_count": 7,
   "id": "edd8010e",
   "metadata": {},
   "outputs": [
    {
     "data": {
      "text/plain": [
       "14"
      ]
     },
     "execution_count": 7,
     "metadata": {},
     "output_type": "execute_result"
    }
   ],
   "source": [
    "data['Rating'].nunique()"
   ]
  },
  {
   "cell_type": "code",
   "execution_count": 8,
   "id": "a61527ac",
   "metadata": {},
   "outputs": [
    {
     "data": {
      "text/plain": [
       "array(['TV-MA', 'R', 'PG-13', 'TV-14', 'TV-PG', 'NR', 'TV-G', 'TV-Y', nan,\n",
       "       'TV-Y7', 'PG', 'G', 'NC-17', 'TV-Y7-FV', 'UR'], dtype=object)"
      ]
     },
     "execution_count": 8,
     "metadata": {},
     "output_type": "execute_result"
    }
   ],
   "source": [
    "data['Rating'].unique()"
   ]
  },
  {
   "cell_type": "markdown",
   "id": "2914e773",
   "metadata": {},
   "source": [
    "# To know how many Tv show got the 'UR'rating after year 2017"
   ]
  },
  {
   "cell_type": "code",
   "execution_count": 10,
   "id": "f40c7ddb",
   "metadata": {},
   "outputs": [
    {
     "data": {
      "text/html": [
       "<div>\n",
       "<style scoped>\n",
       "    .dataframe tbody tr th:only-of-type {\n",
       "        vertical-align: middle;\n",
       "    }\n",
       "\n",
       "    .dataframe tbody tr th {\n",
       "        vertical-align: top;\n",
       "    }\n",
       "\n",
       "    .dataframe thead th {\n",
       "        text-align: right;\n",
       "    }\n",
       "</style>\n",
       "<table border=\"1\" class=\"dataframe\">\n",
       "  <thead>\n",
       "    <tr style=\"text-align: right;\">\n",
       "      <th></th>\n",
       "      <th>Show_Id</th>\n",
       "      <th>Category</th>\n",
       "      <th>Title</th>\n",
       "      <th>Director</th>\n",
       "      <th>Cast</th>\n",
       "      <th>Country</th>\n",
       "      <th>Release_Date</th>\n",
       "      <th>Rating</th>\n",
       "      <th>Duration</th>\n",
       "      <th>Type</th>\n",
       "      <th>Description</th>\n",
       "    </tr>\n",
       "  </thead>\n",
       "  <tbody>\n",
       "    <tr>\n",
       "      <th>2484</th>\n",
       "      <td>s2485</td>\n",
       "      <td>Movie</td>\n",
       "      <td>Good Luck Chuck</td>\n",
       "      <td>Mark Helfrich</td>\n",
       "      <td>Dane Cook, Jessica Alba, Dan Fogler, Ellia Eng...</td>\n",
       "      <td>United States, Canada</td>\n",
       "      <td>October 1, 2019</td>\n",
       "      <td>UR</td>\n",
       "      <td>99 min</td>\n",
       "      <td>Comedies, Romantic Movies</td>\n",
       "      <td>Every time Chuck breaks up with a girlfriend, ...</td>\n",
       "    </tr>\n",
       "    <tr>\n",
       "      <th>2953</th>\n",
       "      <td>s2954</td>\n",
       "      <td>Movie</td>\n",
       "      <td>Immoral Tales</td>\n",
       "      <td>Walerian Borowczyk</td>\n",
       "      <td>Lise Danvers, Fabrice Luchini, Charlotte Alexa...</td>\n",
       "      <td>France</td>\n",
       "      <td>June 6, 2019</td>\n",
       "      <td>UR</td>\n",
       "      <td>103 min</td>\n",
       "      <td>Dramas, International Movies, Romantic Movies</td>\n",
       "      <td>This anthology illustrates the timeless nature...</td>\n",
       "    </tr>\n",
       "    <tr>\n",
       "      <th>5523</th>\n",
       "      <td>s5523</td>\n",
       "      <td>Movie</td>\n",
       "      <td>Sex Doll</td>\n",
       "      <td>Sylvie Verheyde</td>\n",
       "      <td>Hafsia Herzi, Ash Stymest, Karole Rocher, Paul...</td>\n",
       "      <td>United Kingdom, France</td>\n",
       "      <td>July 10, 2017</td>\n",
       "      <td>UR</td>\n",
       "      <td>103 min</td>\n",
       "      <td>Dramas, International Movies, Romantic Movies</td>\n",
       "      <td>A high-end call girl falls for a handsome man ...</td>\n",
       "    </tr>\n",
       "    <tr>\n",
       "      <th>5574</th>\n",
       "      <td>s5574</td>\n",
       "      <td>Movie</td>\n",
       "      <td>Shootout at Lokhandwala</td>\n",
       "      <td>Apoorva Lakhia</td>\n",
       "      <td>Sanjay Dutt, Sunil Shetty, Amitabh Bachchan, A...</td>\n",
       "      <td>India</td>\n",
       "      <td>May 15, 2019</td>\n",
       "      <td>UR</td>\n",
       "      <td>116 min</td>\n",
       "      <td>Action &amp; Adventure, Dramas, International Movies</td>\n",
       "      <td>Based on a true story, this action film follow...</td>\n",
       "    </tr>\n",
       "    <tr>\n",
       "      <th>7730</th>\n",
       "      <td>s7729</td>\n",
       "      <td>Movie</td>\n",
       "      <td>You Don't Mess with the Zohan</td>\n",
       "      <td>Dennis Dugan</td>\n",
       "      <td>Adam Sandler, John Turturro, Emmanuelle Chriqu...</td>\n",
       "      <td>United States</td>\n",
       "      <td>September 1, 2019</td>\n",
       "      <td>UR</td>\n",
       "      <td>113 min</td>\n",
       "      <td>Action &amp; Adventure, Comedies</td>\n",
       "      <td>An Israeli counterterrorism soldier with a sec...</td>\n",
       "    </tr>\n",
       "  </tbody>\n",
       "</table>\n",
       "</div>"
      ],
      "text/plain": [
       "     Show_Id Category                          Title            Director  \\\n",
       "2484   s2485    Movie                Good Luck Chuck       Mark Helfrich   \n",
       "2953   s2954    Movie                  Immoral Tales  Walerian Borowczyk   \n",
       "5523   s5523    Movie                       Sex Doll     Sylvie Verheyde   \n",
       "5574   s5574    Movie        Shootout at Lokhandwala      Apoorva Lakhia   \n",
       "7730   s7729    Movie  You Don't Mess with the Zohan        Dennis Dugan   \n",
       "\n",
       "                                                   Cast  \\\n",
       "2484  Dane Cook, Jessica Alba, Dan Fogler, Ellia Eng...   \n",
       "2953  Lise Danvers, Fabrice Luchini, Charlotte Alexa...   \n",
       "5523  Hafsia Herzi, Ash Stymest, Karole Rocher, Paul...   \n",
       "5574  Sanjay Dutt, Sunil Shetty, Amitabh Bachchan, A...   \n",
       "7730  Adam Sandler, John Turturro, Emmanuelle Chriqu...   \n",
       "\n",
       "                     Country       Release_Date Rating Duration  \\\n",
       "2484   United States, Canada    October 1, 2019     UR   99 min   \n",
       "2953                  France       June 6, 2019     UR  103 min   \n",
       "5523  United Kingdom, France      July 10, 2017     UR  103 min   \n",
       "5574                   India       May 15, 2019     UR  116 min   \n",
       "7730           United States  September 1, 2019     UR  113 min   \n",
       "\n",
       "                                                  Type  \\\n",
       "2484                         Comedies, Romantic Movies   \n",
       "2953     Dramas, International Movies, Romantic Movies   \n",
       "5523     Dramas, International Movies, Romantic Movies   \n",
       "5574  Action & Adventure, Dramas, International Movies   \n",
       "7730                      Action & Adventure, Comedies   \n",
       "\n",
       "                                            Description  \n",
       "2484  Every time Chuck breaks up with a girlfriend, ...  \n",
       "2953  This anthology illustrates the timeless nature...  \n",
       "5523  A high-end call girl falls for a handsome man ...  \n",
       "5574  Based on a true story, this action film follow...  \n",
       "7730  An Israeli counterterrorism soldier with a sec...  "
      ]
     },
     "execution_count": 10,
     "metadata": {},
     "output_type": "execute_result"
    }
   ],
   "source": [
    "data[(data['Category']== 'Movie') & (data['Rating']=='UR')]"
   ]
  },
  {
   "cell_type": "code",
   "execution_count": 27,
   "id": "a98bf4a4",
   "metadata": {},
   "outputs": [
    {
     "data": {
      "text/html": [
       "<div>\n",
       "<style scoped>\n",
       "    .dataframe tbody tr th:only-of-type {\n",
       "        vertical-align: middle;\n",
       "    }\n",
       "\n",
       "    .dataframe tbody tr th {\n",
       "        vertical-align: top;\n",
       "    }\n",
       "\n",
       "    .dataframe thead th {\n",
       "        text-align: right;\n",
       "    }\n",
       "</style>\n",
       "<table border=\"1\" class=\"dataframe\">\n",
       "  <thead>\n",
       "    <tr style=\"text-align: right;\">\n",
       "      <th></th>\n",
       "      <th>showID</th>\n",
       "      <th>Category</th>\n",
       "      <th>Title</th>\n",
       "      <th>Director</th>\n",
       "      <th>Cast</th>\n",
       "      <th>Country</th>\n",
       "      <th>ReleaseDate</th>\n",
       "      <th>Rating</th>\n",
       "      <th>Duration</th>\n",
       "      <th>Type</th>\n",
       "      <th>Description</th>\n",
       "      <th>Date</th>\n",
       "      <th>year</th>\n",
       "    </tr>\n",
       "  </thead>\n",
       "  <tbody>\n",
       "    <tr>\n",
       "      <th>2484</th>\n",
       "      <td>s2485</td>\n",
       "      <td>Movie</td>\n",
       "      <td>Good Luck Chuck</td>\n",
       "      <td>Mark Helfrich</td>\n",
       "      <td>Dane Cook, Jessica Alba, Dan Fogler, Ellia Eng...</td>\n",
       "      <td>United States, Canada</td>\n",
       "      <td>October 1, 2019</td>\n",
       "      <td>UR</td>\n",
       "      <td>99 min</td>\n",
       "      <td>Comedies, Romantic Movies</td>\n",
       "      <td>Every time Chuck breaks up with a girlfriend, ...</td>\n",
       "      <td>2019-10-01</td>\n",
       "      <td>2019.0</td>\n",
       "    </tr>\n",
       "    <tr>\n",
       "      <th>2953</th>\n",
       "      <td>s2954</td>\n",
       "      <td>Movie</td>\n",
       "      <td>Immoral Tales</td>\n",
       "      <td>Walerian Borowczyk</td>\n",
       "      <td>Lise Danvers, Fabrice Luchini, Charlotte Alexa...</td>\n",
       "      <td>France</td>\n",
       "      <td>June 6, 2019</td>\n",
       "      <td>UR</td>\n",
       "      <td>103 min</td>\n",
       "      <td>Dramas, International Movies, Romantic Movies</td>\n",
       "      <td>This anthology illustrates the timeless nature...</td>\n",
       "      <td>2019-06-06</td>\n",
       "      <td>2019.0</td>\n",
       "    </tr>\n",
       "    <tr>\n",
       "      <th>5574</th>\n",
       "      <td>s5574</td>\n",
       "      <td>Movie</td>\n",
       "      <td>Shootout at Lokhandwala</td>\n",
       "      <td>Apoorva Lakhia</td>\n",
       "      <td>Sanjay Dutt, Sunil Shetty, Amitabh Bachchan, A...</td>\n",
       "      <td>India</td>\n",
       "      <td>May 15, 2019</td>\n",
       "      <td>UR</td>\n",
       "      <td>116 min</td>\n",
       "      <td>Action &amp; Adventure, Dramas, International Movies</td>\n",
       "      <td>Based on a true story, this action film follow...</td>\n",
       "      <td>2019-05-15</td>\n",
       "      <td>2019.0</td>\n",
       "    </tr>\n",
       "    <tr>\n",
       "      <th>7730</th>\n",
       "      <td>s7729</td>\n",
       "      <td>Movie</td>\n",
       "      <td>You Don't Mess with the Zohan</td>\n",
       "      <td>Dennis Dugan</td>\n",
       "      <td>Adam Sandler, John Turturro, Emmanuelle Chriqu...</td>\n",
       "      <td>United States</td>\n",
       "      <td>September 1, 2019</td>\n",
       "      <td>UR</td>\n",
       "      <td>113 min</td>\n",
       "      <td>Action &amp; Adventure, Comedies</td>\n",
       "      <td>An Israeli counterterrorism soldier with a sec...</td>\n",
       "      <td>2019-09-01</td>\n",
       "      <td>2019.0</td>\n",
       "    </tr>\n",
       "  </tbody>\n",
       "</table>\n",
       "</div>"
      ],
      "text/plain": [
       "     showID Category                          Title            Director  \\\n",
       "2484  s2485    Movie                Good Luck Chuck       Mark Helfrich   \n",
       "2953  s2954    Movie                  Immoral Tales  Walerian Borowczyk   \n",
       "5574  s5574    Movie        Shootout at Lokhandwala      Apoorva Lakhia   \n",
       "7730  s7729    Movie  You Don't Mess with the Zohan        Dennis Dugan   \n",
       "\n",
       "                                                   Cast  \\\n",
       "2484  Dane Cook, Jessica Alba, Dan Fogler, Ellia Eng...   \n",
       "2953  Lise Danvers, Fabrice Luchini, Charlotte Alexa...   \n",
       "5574  Sanjay Dutt, Sunil Shetty, Amitabh Bachchan, A...   \n",
       "7730  Adam Sandler, John Turturro, Emmanuelle Chriqu...   \n",
       "\n",
       "                    Country        ReleaseDate Rating Duration  \\\n",
       "2484  United States, Canada    October 1, 2019     UR   99 min   \n",
       "2953                 France       June 6, 2019     UR  103 min   \n",
       "5574                  India       May 15, 2019     UR  116 min   \n",
       "7730          United States  September 1, 2019     UR  113 min   \n",
       "\n",
       "                                                  Type  \\\n",
       "2484                         Comedies, Romantic Movies   \n",
       "2953     Dramas, International Movies, Romantic Movies   \n",
       "5574  Action & Adventure, Dramas, International Movies   \n",
       "7730                      Action & Adventure, Comedies   \n",
       "\n",
       "                                            Description       Date    year  \n",
       "2484  Every time Chuck breaks up with a girlfriend, ... 2019-10-01  2019.0  \n",
       "2953  This anthology illustrates the timeless nature... 2019-06-06  2019.0  \n",
       "5574  Based on a true story, this action film follow... 2019-05-15  2019.0  \n",
       "7730  An Israeli counterterrorism soldier with a sec... 2019-09-01  2019.0  "
      ]
     },
     "execution_count": 27,
     "metadata": {},
     "output_type": "execute_result"
    }
   ],
   "source": [
    "data[(data['Category']== 'Movie') & (data['Rating']=='UR') & (data['year'] > 2017)]"
   ]
  },
  {
   "cell_type": "code",
   "execution_count": null,
   "id": "7a7e0636",
   "metadata": {},
   "outputs": [],
   "source": [
    "## Find which country has maximum TV shows"
   ]
  },
  {
   "cell_type": "code",
   "execution_count": 36,
   "id": "9a80e2fb",
   "metadata": {},
   "outputs": [],
   "source": [
    "tvshowdata = data[data['Category']=='TV Show']"
   ]
  },
  {
   "cell_type": "code",
   "execution_count": 37,
   "id": "bf546549",
   "metadata": {},
   "outputs": [
    {
     "data": {
      "text/html": [
       "<div>\n",
       "<style scoped>\n",
       "    .dataframe tbody tr th:only-of-type {\n",
       "        vertical-align: middle;\n",
       "    }\n",
       "\n",
       "    .dataframe tbody tr th {\n",
       "        vertical-align: top;\n",
       "    }\n",
       "\n",
       "    .dataframe thead th {\n",
       "        text-align: right;\n",
       "    }\n",
       "</style>\n",
       "<table border=\"1\" class=\"dataframe\">\n",
       "  <thead>\n",
       "    <tr style=\"text-align: right;\">\n",
       "      <th></th>\n",
       "      <th>Show_Id</th>\n",
       "      <th>Category</th>\n",
       "      <th>Title</th>\n",
       "      <th>Director</th>\n",
       "      <th>Cast</th>\n",
       "      <th>Country</th>\n",
       "      <th>Release_Date</th>\n",
       "      <th>Rating</th>\n",
       "      <th>Duration</th>\n",
       "      <th>Type</th>\n",
       "      <th>Description</th>\n",
       "    </tr>\n",
       "  </thead>\n",
       "  <tbody>\n",
       "    <tr>\n",
       "      <th>0</th>\n",
       "      <td>s1</td>\n",
       "      <td>TV Show</td>\n",
       "      <td>3%</td>\n",
       "      <td>NaN</td>\n",
       "      <td>João Miguel, Bianca Comparato, Michel Gomes, R...</td>\n",
       "      <td>Brazil</td>\n",
       "      <td>August 14, 2020</td>\n",
       "      <td>TV-MA</td>\n",
       "      <td>4 Seasons</td>\n",
       "      <td>International TV Shows, TV Dramas, TV Sci-Fi &amp;...</td>\n",
       "      <td>In a future where the elite inhabit an island ...</td>\n",
       "    </tr>\n",
       "    <tr>\n",
       "      <th>5</th>\n",
       "      <td>s6</td>\n",
       "      <td>TV Show</td>\n",
       "      <td>46</td>\n",
       "      <td>Serdar Akar</td>\n",
       "      <td>Erdal Beşikçioğlu, Yasemin Allen, Melis Birkan...</td>\n",
       "      <td>Turkey</td>\n",
       "      <td>July 1, 2017</td>\n",
       "      <td>TV-MA</td>\n",
       "      <td>1 Season</td>\n",
       "      <td>International TV Shows, TV Dramas, TV Mysteries</td>\n",
       "      <td>A genetics professor experiments with a treatm...</td>\n",
       "    </tr>\n",
       "    <tr>\n",
       "      <th>11</th>\n",
       "      <td>s12</td>\n",
       "      <td>TV Show</td>\n",
       "      <td>1983</td>\n",
       "      <td>NaN</td>\n",
       "      <td>Robert Więckiewicz, Maciej Musiał, Michalina O...</td>\n",
       "      <td>Poland, United States</td>\n",
       "      <td>November 30, 2018</td>\n",
       "      <td>TV-MA</td>\n",
       "      <td>1 Season</td>\n",
       "      <td>Crime TV Shows, International TV Shows, TV Dramas</td>\n",
       "      <td>In this dark alt-history thriller, a naïve law...</td>\n",
       "    </tr>\n",
       "    <tr>\n",
       "      <th>12</th>\n",
       "      <td>s13</td>\n",
       "      <td>TV Show</td>\n",
       "      <td>1994</td>\n",
       "      <td>Diego Enrique Osorno</td>\n",
       "      <td>NaN</td>\n",
       "      <td>Mexico</td>\n",
       "      <td>May 17, 2019</td>\n",
       "      <td>TV-MA</td>\n",
       "      <td>1 Season</td>\n",
       "      <td>Crime TV Shows, Docuseries, International TV S...</td>\n",
       "      <td>Archival video and new interviews examine Mexi...</td>\n",
       "    </tr>\n",
       "    <tr>\n",
       "      <th>16</th>\n",
       "      <td>s17</td>\n",
       "      <td>TV Show</td>\n",
       "      <td>Feb-09</td>\n",
       "      <td>NaN</td>\n",
       "      <td>Shahd El Yaseen, Shaila Sabt, Hala, Hanadi Al-...</td>\n",
       "      <td>NaN</td>\n",
       "      <td>March 20, 2019</td>\n",
       "      <td>TV-14</td>\n",
       "      <td>1 Season</td>\n",
       "      <td>International TV Shows, TV Dramas</td>\n",
       "      <td>As a psychology professor faces Alzheimer's, h...</td>\n",
       "    </tr>\n",
       "  </tbody>\n",
       "</table>\n",
       "</div>"
      ],
      "text/plain": [
       "   Show_Id Category   Title              Director  \\\n",
       "0       s1  TV Show      3%                   NaN   \n",
       "5       s6  TV Show      46           Serdar Akar   \n",
       "11     s12  TV Show    1983                   NaN   \n",
       "12     s13  TV Show    1994  Diego Enrique Osorno   \n",
       "16     s17  TV Show  Feb-09                   NaN   \n",
       "\n",
       "                                                 Cast                Country  \\\n",
       "0   João Miguel, Bianca Comparato, Michel Gomes, R...                 Brazil   \n",
       "5   Erdal Beşikçioğlu, Yasemin Allen, Melis Birkan...                 Turkey   \n",
       "11  Robert Więckiewicz, Maciej Musiał, Michalina O...  Poland, United States   \n",
       "12                                                NaN                 Mexico   \n",
       "16  Shahd El Yaseen, Shaila Sabt, Hala, Hanadi Al-...                    NaN   \n",
       "\n",
       "         Release_Date Rating   Duration  \\\n",
       "0     August 14, 2020  TV-MA  4 Seasons   \n",
       "5        July 1, 2017  TV-MA   1 Season   \n",
       "11  November 30, 2018  TV-MA   1 Season   \n",
       "12       May 17, 2019  TV-MA   1 Season   \n",
       "16     March 20, 2019  TV-14   1 Season   \n",
       "\n",
       "                                                 Type  \\\n",
       "0   International TV Shows, TV Dramas, TV Sci-Fi &...   \n",
       "5     International TV Shows, TV Dramas, TV Mysteries   \n",
       "11  Crime TV Shows, International TV Shows, TV Dramas   \n",
       "12  Crime TV Shows, Docuseries, International TV S...   \n",
       "16                  International TV Shows, TV Dramas   \n",
       "\n",
       "                                          Description  \n",
       "0   In a future where the elite inhabit an island ...  \n",
       "5   A genetics professor experiments with a treatm...  \n",
       "11  In this dark alt-history thriller, a naïve law...  \n",
       "12  Archival video and new interviews examine Mexi...  \n",
       "16  As a psychology professor faces Alzheimer's, h...  "
      ]
     },
     "execution_count": 37,
     "metadata": {},
     "output_type": "execute_result"
    }
   ],
   "source": [
    "tvshowdata.head()"
   ]
  },
  {
   "cell_type": "code",
   "execution_count": 38,
   "id": "494cbed8",
   "metadata": {},
   "outputs": [
    {
     "data": {
      "text/plain": [
       "United States                                                705\n",
       "United Kingdom                                               204\n",
       "Japan                                                        157\n",
       "South Korea                                                  147\n",
       "India                                                         71\n",
       "                                                            ... \n",
       "Canada, United States, United Kingdom, France, Luxembourg      1\n",
       "United States, Italy                                           1\n",
       "Chile, Italy                                                   1\n",
       "Canada, United Kingdom                                         1\n",
       "United States, France, South Korea, Indonesia                  1\n",
       "Name: Country, Length: 183, dtype: int64"
      ]
     },
     "execution_count": 38,
     "metadata": {},
     "output_type": "execute_result"
    }
   ],
   "source": [
    "tvshowdata.Country.value_counts()"
   ]
  },
  {
   "cell_type": "code",
   "execution_count": 39,
   "id": "a991db57",
   "metadata": {},
   "outputs": [
    {
     "data": {
      "application/vnd.plotly.v1+json": {
       "config": {
        "linkText": "Export to plot.ly",
        "plotlyServerURL": "https://plot.ly",
        "showLink": true
       },
       "data": [
        {
         "marker": {
          "color": "rgba(255, 153, 51, 0.6)",
          "line": {
           "color": "rgba(255, 153, 51, 1.0)",
           "width": 1
          }
         },
         "name": "Country",
         "orientation": "v",
         "text": "",
         "type": "bar",
         "x": [
          "United States",
          "United Kingdom",
          "Japan",
          "South Korea",
          "India",
          "Taiwan",
          "Canada",
          "France",
          "Australia",
          "Spain",
          "China",
          "Mexico",
          "Turkey",
          "Brazil",
          "Thailand",
          "United States, Canada",
          "Colombia",
          "Germany",
          "Singapore",
          "Argentina",
          "Russia",
          "Canada, United States",
          "Egypt",
          "Italy",
          "United Kingdom, United States",
          "United States, Japan",
          "Nigeria",
          "Denmark",
          "Mexico, United States",
          "Belgium",
          "Sweden",
          "United States, United Kingdom",
          "Israel",
          "Malaysia",
          "Lebanon",
          "Norway",
          "South Africa",
          "Poland",
          "United States, France, Japan",
          "Netherlands",
          "Pakistan",
          "Ireland",
          "Saudi Arabia",
          "United States, New Zealand",
          "United States, Czech Republic",
          "Hong Kong",
          "United States, France",
          "Japan, United States",
          "Chile",
          "France, Belgium",
          "Australia, United States",
          "New Zealand",
          "Ukraine",
          "Canada, Australia",
          "Denmark, United States",
          "Canada, United States, France",
          "United Kingdom, Canada, United States",
          "Colombia, Mexico, United States",
          "United States, South Korea, China",
          "France, United States",
          "Kuwait",
          "Poland, United States",
          "United States, Mexico",
          "United States, Japan, Canada",
          "United Kingdom, Canada",
          "Indonesia",
          "Iceland",
          "South Korea, United States",
          "United Kingdom, United States, Spain, Germany, Greece, Canada",
          "Italy, United States",
          "Italy, South Africa, West Germany, Australia, United States",
          "United States, Colombia",
          "Singapore, United States",
          "United Kingdom, Finland, Germany",
          "Japan, Canada",
          "Mexico, Spain",
          "United States, Poland",
          "Senegal",
          "India, United States",
          "South Korea, Canada, United States, China",
          "Norway, Denmark",
          "United States, Mexico, Spain, Malta",
          "United States, Netherlands, Japan, France",
          "United States, New Zealand, Japan",
          "France, Japan, United States",
          "Canada, United States, Ireland",
          "Spain, United Kingdom",
          "France, United Kingdom",
          "Ireland, United Kingdom, United States",
          "Colombia, United States",
          "United Kingdom, Ireland",
          "Switzerland",
          "United Kingdom, Spain",
          "United Kingdom, France",
          "Germany, United States, Italy",
          "Canada, Japan, Netherlands",
          "United Kingdom, United States, Czech Republic",
          "Ireland, Canada, United States, United Kingdom",
          "United Arab Emirates",
          "Croatia",
          "Australia, New Zealand",
          "United Kingdom, Singapore",
          "India, Germany, France",
          "Canada, Germany, South Africa",
          "United Kingdom, South Africa, Australia, United States",
          "Taiwan, Malaysia",
          "United Kingdom, Germany, United States, France",
          "China, Hong Kong",
          "United States, Brazil, South Korea, Mexico, Japan, Germany",
          "France, Germany",
          "Brazil, United Kingdom",
          "Canada, United Kingdom, United States",
          "United States, Hungary, Ireland, Canada",
          "Cyprus",
          "Belgium, Netherlands",
          "Belarus",
          "France, United States, Canada",
          "United Kingdom, Germany",
          "France, Canada",
          "Argentina, Spain",
          "United Kingdom, Ireland, United States",
          "Germany, Czech Republic",
          "United States, India",
          "United States, Ireland, United Kingdom, India",
          "Norway, Sweden",
          "Italy, Canada, France",
          "Austria, Germany",
          "Spain, Cuba",
          "United States, France, Canada",
          "Czech Republic, United States",
          "United States, Mexico, Colombia",
          "United States, Chile",
          "Finland, Germany",
          "Germany, United States",
          "United Kingdom, Australia",
          "Canada, Brazil",
          "United Kingdom, France, Germany, Spain",
          "Australia, New Zealand, United States",
          "United Kingdom, China",
          "United States, Israel, Italy, South Africa",
          "United States, United Kingdom, Australia",
          "Finland, France",
          "Norway, Germany, Sweden",
          "Saudi Arabia, Syria, Egypt, Lebanon, Kuwait",
          "South Korea, China",
          "Australia, Canada",
          "Japan, Canada, United States",
          "Canada, France",
          "Finland",
          "Philippines",
          "Mauritius, South Africa",
          "Germany, France, Russia",
          "Italy, Germany",
          "Spain, Italy",
          "Germany, Australia, France, China",
          "Uruguay, Germany",
          "France, United Kingdom, United States",
          "Spain, Germany, Denmark, United States",
          "Puerto Rico, United States, Colombia",
          "United States, Colombia, Mexico",
          "United Kingdom, West Germany",
          "France, South Korea, Japan",
          "United States, Sweden",
          "Netherlands, Germany, Italy, Canada",
          "Italy, United Kingdom, France",
          "United States, Russia",
          "Argentina, United States, Mexico",
          "Turkey, Azerbaijan",
          "China, United Kingdom",
          "France, Australia, Germany",
          "South Korea, France",
          "Norway, United States",
          "Malaysia, Singapore, Hong Kong",
          "Denmark, Singapore, Canada, United States",
          "Mexico, United States, Spain, Colombia",
          "Jordan",
          "United States, Ireland",
          "Taiwan, China",
          "Canada, United States, United Kingdom, France, Luxembourg",
          "United States, Italy",
          "Chile, Italy",
          "Canada, United Kingdom",
          "United States, France, South Korea, Indonesia"
         ],
         "y": [
          705,
          204,
          157,
          147,
          71,
          68,
          59,
          46,
          46,
          45,
          36,
          35,
          27,
          26,
          22,
          22,
          20,
          19,
          17,
          16,
          15,
          13,
          12,
          12,
          12,
          9,
          8,
          8,
          7,
          7,
          7,
          7,
          7,
          6,
          6,
          5,
          5,
          5,
          5,
          4,
          4,
          4,
          3,
          3,
          3,
          3,
          3,
          3,
          3,
          3,
          3,
          2,
          2,
          2,
          2,
          2,
          2,
          2,
          2,
          2,
          2,
          2,
          2,
          2,
          2,
          2,
          2,
          2,
          2,
          1,
          1,
          1,
          1,
          1,
          1,
          1,
          1,
          1,
          1,
          1,
          1,
          1,
          1,
          1,
          1,
          1,
          1,
          1,
          1,
          1,
          1,
          1,
          1,
          1,
          1,
          1,
          1,
          1,
          1,
          1,
          1,
          1,
          1,
          1,
          1,
          1,
          1,
          1,
          1,
          1,
          1,
          1,
          1,
          1,
          1,
          1,
          1,
          1,
          1,
          1,
          1,
          1,
          1,
          1,
          1,
          1,
          1,
          1,
          1,
          1,
          1,
          1,
          1,
          1,
          1,
          1,
          1,
          1,
          1,
          1,
          1,
          1,
          1,
          1,
          1,
          1,
          1,
          1,
          1,
          1,
          1,
          1,
          1,
          1,
          1,
          1,
          1,
          1,
          1,
          1,
          1,
          1,
          1,
          1,
          1,
          1,
          1,
          1,
          1,
          1,
          1,
          1,
          1,
          1,
          1,
          1,
          1,
          1,
          1,
          1,
          1,
          1,
          1
         ]
        }
       ],
       "layout": {
        "legend": {
         "bgcolor": "#F5F6F9",
         "font": {
          "color": "#4D5663"
         }
        },
        "paper_bgcolor": "#F5F6F9",
        "plot_bgcolor": "#F5F6F9",
        "template": {
         "data": {
          "bar": [
           {
            "error_x": {
             "color": "#2a3f5f"
            },
            "error_y": {
             "color": "#2a3f5f"
            },
            "marker": {
             "line": {
              "color": "#E5ECF6",
              "width": 0.5
             },
             "pattern": {
              "fillmode": "overlay",
              "size": 10,
              "solidity": 0.2
             }
            },
            "type": "bar"
           }
          ],
          "barpolar": [
           {
            "marker": {
             "line": {
              "color": "#E5ECF6",
              "width": 0.5
             },
             "pattern": {
              "fillmode": "overlay",
              "size": 10,
              "solidity": 0.2
             }
            },
            "type": "barpolar"
           }
          ],
          "carpet": [
           {
            "aaxis": {
             "endlinecolor": "#2a3f5f",
             "gridcolor": "white",
             "linecolor": "white",
             "minorgridcolor": "white",
             "startlinecolor": "#2a3f5f"
            },
            "baxis": {
             "endlinecolor": "#2a3f5f",
             "gridcolor": "white",
             "linecolor": "white",
             "minorgridcolor": "white",
             "startlinecolor": "#2a3f5f"
            },
            "type": "carpet"
           }
          ],
          "choropleth": [
           {
            "colorbar": {
             "outlinewidth": 0,
             "ticks": ""
            },
            "type": "choropleth"
           }
          ],
          "contour": [
           {
            "colorbar": {
             "outlinewidth": 0,
             "ticks": ""
            },
            "colorscale": [
             [
              0,
              "#0d0887"
             ],
             [
              0.1111111111111111,
              "#46039f"
             ],
             [
              0.2222222222222222,
              "#7201a8"
             ],
             [
              0.3333333333333333,
              "#9c179e"
             ],
             [
              0.4444444444444444,
              "#bd3786"
             ],
             [
              0.5555555555555556,
              "#d8576b"
             ],
             [
              0.6666666666666666,
              "#ed7953"
             ],
             [
              0.7777777777777778,
              "#fb9f3a"
             ],
             [
              0.8888888888888888,
              "#fdca26"
             ],
             [
              1,
              "#f0f921"
             ]
            ],
            "type": "contour"
           }
          ],
          "contourcarpet": [
           {
            "colorbar": {
             "outlinewidth": 0,
             "ticks": ""
            },
            "type": "contourcarpet"
           }
          ],
          "heatmap": [
           {
            "colorbar": {
             "outlinewidth": 0,
             "ticks": ""
            },
            "colorscale": [
             [
              0,
              "#0d0887"
             ],
             [
              0.1111111111111111,
              "#46039f"
             ],
             [
              0.2222222222222222,
              "#7201a8"
             ],
             [
              0.3333333333333333,
              "#9c179e"
             ],
             [
              0.4444444444444444,
              "#bd3786"
             ],
             [
              0.5555555555555556,
              "#d8576b"
             ],
             [
              0.6666666666666666,
              "#ed7953"
             ],
             [
              0.7777777777777778,
              "#fb9f3a"
             ],
             [
              0.8888888888888888,
              "#fdca26"
             ],
             [
              1,
              "#f0f921"
             ]
            ],
            "type": "heatmap"
           }
          ],
          "heatmapgl": [
           {
            "colorbar": {
             "outlinewidth": 0,
             "ticks": ""
            },
            "colorscale": [
             [
              0,
              "#0d0887"
             ],
             [
              0.1111111111111111,
              "#46039f"
             ],
             [
              0.2222222222222222,
              "#7201a8"
             ],
             [
              0.3333333333333333,
              "#9c179e"
             ],
             [
              0.4444444444444444,
              "#bd3786"
             ],
             [
              0.5555555555555556,
              "#d8576b"
             ],
             [
              0.6666666666666666,
              "#ed7953"
             ],
             [
              0.7777777777777778,
              "#fb9f3a"
             ],
             [
              0.8888888888888888,
              "#fdca26"
             ],
             [
              1,
              "#f0f921"
             ]
            ],
            "type": "heatmapgl"
           }
          ],
          "histogram": [
           {
            "marker": {
             "pattern": {
              "fillmode": "overlay",
              "size": 10,
              "solidity": 0.2
             }
            },
            "type": "histogram"
           }
          ],
          "histogram2d": [
           {
            "colorbar": {
             "outlinewidth": 0,
             "ticks": ""
            },
            "colorscale": [
             [
              0,
              "#0d0887"
             ],
             [
              0.1111111111111111,
              "#46039f"
             ],
             [
              0.2222222222222222,
              "#7201a8"
             ],
             [
              0.3333333333333333,
              "#9c179e"
             ],
             [
              0.4444444444444444,
              "#bd3786"
             ],
             [
              0.5555555555555556,
              "#d8576b"
             ],
             [
              0.6666666666666666,
              "#ed7953"
             ],
             [
              0.7777777777777778,
              "#fb9f3a"
             ],
             [
              0.8888888888888888,
              "#fdca26"
             ],
             [
              1,
              "#f0f921"
             ]
            ],
            "type": "histogram2d"
           }
          ],
          "histogram2dcontour": [
           {
            "colorbar": {
             "outlinewidth": 0,
             "ticks": ""
            },
            "colorscale": [
             [
              0,
              "#0d0887"
             ],
             [
              0.1111111111111111,
              "#46039f"
             ],
             [
              0.2222222222222222,
              "#7201a8"
             ],
             [
              0.3333333333333333,
              "#9c179e"
             ],
             [
              0.4444444444444444,
              "#bd3786"
             ],
             [
              0.5555555555555556,
              "#d8576b"
             ],
             [
              0.6666666666666666,
              "#ed7953"
             ],
             [
              0.7777777777777778,
              "#fb9f3a"
             ],
             [
              0.8888888888888888,
              "#fdca26"
             ],
             [
              1,
              "#f0f921"
             ]
            ],
            "type": "histogram2dcontour"
           }
          ],
          "mesh3d": [
           {
            "colorbar": {
             "outlinewidth": 0,
             "ticks": ""
            },
            "type": "mesh3d"
           }
          ],
          "parcoords": [
           {
            "line": {
             "colorbar": {
              "outlinewidth": 0,
              "ticks": ""
             }
            },
            "type": "parcoords"
           }
          ],
          "pie": [
           {
            "automargin": true,
            "type": "pie"
           }
          ],
          "scatter": [
           {
            "marker": {
             "colorbar": {
              "outlinewidth": 0,
              "ticks": ""
             }
            },
            "type": "scatter"
           }
          ],
          "scatter3d": [
           {
            "line": {
             "colorbar": {
              "outlinewidth": 0,
              "ticks": ""
             }
            },
            "marker": {
             "colorbar": {
              "outlinewidth": 0,
              "ticks": ""
             }
            },
            "type": "scatter3d"
           }
          ],
          "scattercarpet": [
           {
            "marker": {
             "colorbar": {
              "outlinewidth": 0,
              "ticks": ""
             }
            },
            "type": "scattercarpet"
           }
          ],
          "scattergeo": [
           {
            "marker": {
             "colorbar": {
              "outlinewidth": 0,
              "ticks": ""
             }
            },
            "type": "scattergeo"
           }
          ],
          "scattergl": [
           {
            "marker": {
             "colorbar": {
              "outlinewidth": 0,
              "ticks": ""
             }
            },
            "type": "scattergl"
           }
          ],
          "scattermapbox": [
           {
            "marker": {
             "colorbar": {
              "outlinewidth": 0,
              "ticks": ""
             }
            },
            "type": "scattermapbox"
           }
          ],
          "scatterpolar": [
           {
            "marker": {
             "colorbar": {
              "outlinewidth": 0,
              "ticks": ""
             }
            },
            "type": "scatterpolar"
           }
          ],
          "scatterpolargl": [
           {
            "marker": {
             "colorbar": {
              "outlinewidth": 0,
              "ticks": ""
             }
            },
            "type": "scatterpolargl"
           }
          ],
          "scatterternary": [
           {
            "marker": {
             "colorbar": {
              "outlinewidth": 0,
              "ticks": ""
             }
            },
            "type": "scatterternary"
           }
          ],
          "surface": [
           {
            "colorbar": {
             "outlinewidth": 0,
             "ticks": ""
            },
            "colorscale": [
             [
              0,
              "#0d0887"
             ],
             [
              0.1111111111111111,
              "#46039f"
             ],
             [
              0.2222222222222222,
              "#7201a8"
             ],
             [
              0.3333333333333333,
              "#9c179e"
             ],
             [
              0.4444444444444444,
              "#bd3786"
             ],
             [
              0.5555555555555556,
              "#d8576b"
             ],
             [
              0.6666666666666666,
              "#ed7953"
             ],
             [
              0.7777777777777778,
              "#fb9f3a"
             ],
             [
              0.8888888888888888,
              "#fdca26"
             ],
             [
              1,
              "#f0f921"
             ]
            ],
            "type": "surface"
           }
          ],
          "table": [
           {
            "cells": {
             "fill": {
              "color": "#EBF0F8"
             },
             "line": {
              "color": "white"
             }
            },
            "header": {
             "fill": {
              "color": "#C8D4E3"
             },
             "line": {
              "color": "white"
             }
            },
            "type": "table"
           }
          ]
         },
         "layout": {
          "annotationdefaults": {
           "arrowcolor": "#2a3f5f",
           "arrowhead": 0,
           "arrowwidth": 1
          },
          "autotypenumbers": "strict",
          "coloraxis": {
           "colorbar": {
            "outlinewidth": 0,
            "ticks": ""
           }
          },
          "colorscale": {
           "diverging": [
            [
             0,
             "#8e0152"
            ],
            [
             0.1,
             "#c51b7d"
            ],
            [
             0.2,
             "#de77ae"
            ],
            [
             0.3,
             "#f1b6da"
            ],
            [
             0.4,
             "#fde0ef"
            ],
            [
             0.5,
             "#f7f7f7"
            ],
            [
             0.6,
             "#e6f5d0"
            ],
            [
             0.7,
             "#b8e186"
            ],
            [
             0.8,
             "#7fbc41"
            ],
            [
             0.9,
             "#4d9221"
            ],
            [
             1,
             "#276419"
            ]
           ],
           "sequential": [
            [
             0,
             "#0d0887"
            ],
            [
             0.1111111111111111,
             "#46039f"
            ],
            [
             0.2222222222222222,
             "#7201a8"
            ],
            [
             0.3333333333333333,
             "#9c179e"
            ],
            [
             0.4444444444444444,
             "#bd3786"
            ],
            [
             0.5555555555555556,
             "#d8576b"
            ],
            [
             0.6666666666666666,
             "#ed7953"
            ],
            [
             0.7777777777777778,
             "#fb9f3a"
            ],
            [
             0.8888888888888888,
             "#fdca26"
            ],
            [
             1,
             "#f0f921"
            ]
           ],
           "sequentialminus": [
            [
             0,
             "#0d0887"
            ],
            [
             0.1111111111111111,
             "#46039f"
            ],
            [
             0.2222222222222222,
             "#7201a8"
            ],
            [
             0.3333333333333333,
             "#9c179e"
            ],
            [
             0.4444444444444444,
             "#bd3786"
            ],
            [
             0.5555555555555556,
             "#d8576b"
            ],
            [
             0.6666666666666666,
             "#ed7953"
            ],
            [
             0.7777777777777778,
             "#fb9f3a"
            ],
            [
             0.8888888888888888,
             "#fdca26"
            ],
            [
             1,
             "#f0f921"
            ]
           ]
          },
          "colorway": [
           "#636efa",
           "#EF553B",
           "#00cc96",
           "#ab63fa",
           "#FFA15A",
           "#19d3f3",
           "#FF6692",
           "#B6E880",
           "#FF97FF",
           "#FECB52"
          ],
          "font": {
           "color": "#2a3f5f"
          },
          "geo": {
           "bgcolor": "white",
           "lakecolor": "white",
           "landcolor": "#E5ECF6",
           "showlakes": true,
           "showland": true,
           "subunitcolor": "white"
          },
          "hoverlabel": {
           "align": "left"
          },
          "hovermode": "closest",
          "mapbox": {
           "style": "light"
          },
          "paper_bgcolor": "white",
          "plot_bgcolor": "#E5ECF6",
          "polar": {
           "angularaxis": {
            "gridcolor": "white",
            "linecolor": "white",
            "ticks": ""
           },
           "bgcolor": "#E5ECF6",
           "radialaxis": {
            "gridcolor": "white",
            "linecolor": "white",
            "ticks": ""
           }
          },
          "scene": {
           "xaxis": {
            "backgroundcolor": "#E5ECF6",
            "gridcolor": "white",
            "gridwidth": 2,
            "linecolor": "white",
            "showbackground": true,
            "ticks": "",
            "zerolinecolor": "white"
           },
           "yaxis": {
            "backgroundcolor": "#E5ECF6",
            "gridcolor": "white",
            "gridwidth": 2,
            "linecolor": "white",
            "showbackground": true,
            "ticks": "",
            "zerolinecolor": "white"
           },
           "zaxis": {
            "backgroundcolor": "#E5ECF6",
            "gridcolor": "white",
            "gridwidth": 2,
            "linecolor": "white",
            "showbackground": true,
            "ticks": "",
            "zerolinecolor": "white"
           }
          },
          "shapedefaults": {
           "line": {
            "color": "#2a3f5f"
           }
          },
          "ternary": {
           "aaxis": {
            "gridcolor": "white",
            "linecolor": "white",
            "ticks": ""
           },
           "baxis": {
            "gridcolor": "white",
            "linecolor": "white",
            "ticks": ""
           },
           "bgcolor": "#E5ECF6",
           "caxis": {
            "gridcolor": "white",
            "linecolor": "white",
            "ticks": ""
           }
          },
          "title": {
           "x": 0.05
          },
          "xaxis": {
           "automargin": true,
           "gridcolor": "white",
           "linecolor": "white",
           "ticks": "",
           "title": {
            "standoff": 15
           },
           "zerolinecolor": "white",
           "zerolinewidth": 2
          },
          "yaxis": {
           "automargin": true,
           "gridcolor": "white",
           "linecolor": "white",
           "ticks": "",
           "title": {
            "standoff": 15
           },
           "zerolinecolor": "white",
           "zerolinewidth": 2
          }
         }
        },
        "title": {
         "font": {
          "color": "#4D5663"
         }
        },
        "xaxis": {
         "gridcolor": "#E1E5ED",
         "showgrid": true,
         "tickfont": {
          "color": "#4D5663"
         },
         "title": {
          "font": {
           "color": "#4D5663"
          },
          "text": ""
         },
         "zerolinecolor": "#E1E5ED"
        },
        "yaxis": {
         "gridcolor": "#E1E5ED",
         "showgrid": true,
         "tickfont": {
          "color": "#4D5663"
         },
         "title": {
          "font": {
           "color": "#4D5663"
          },
          "text": ""
         },
         "zerolinecolor": "#E1E5ED"
        }
       }
      },
      "text/html": [
       "<div>                            <div id=\"113700f4-d5ac-440b-b165-315c628991bb\" class=\"plotly-graph-div\" style=\"height:525px; width:100%;\"></div>            <script type=\"text/javascript\">                require([\"plotly\"], function(Plotly) {                    window.PLOTLYENV=window.PLOTLYENV || {};\n",
       "                    window.PLOTLYENV.BASE_URL='https://plot.ly';                                    if (document.getElementById(\"113700f4-d5ac-440b-b165-315c628991bb\")) {                    Plotly.newPlot(                        \"113700f4-d5ac-440b-b165-315c628991bb\",                        [{\"marker\":{\"color\":\"rgba(255, 153, 51, 0.6)\",\"line\":{\"color\":\"rgba(255, 153, 51, 1.0)\",\"width\":1}},\"name\":\"Country\",\"orientation\":\"v\",\"text\":\"\",\"x\":[\"United States\",\"United Kingdom\",\"Japan\",\"South Korea\",\"India\",\"Taiwan\",\"Canada\",\"France\",\"Australia\",\"Spain\",\"China\",\"Mexico\",\"Turkey\",\"Brazil\",\"Thailand\",\"United States, Canada\",\"Colombia\",\"Germany\",\"Singapore\",\"Argentina\",\"Russia\",\"Canada, United States\",\"Egypt\",\"Italy\",\"United Kingdom, United States\",\"United States, Japan\",\"Nigeria\",\"Denmark\",\"Mexico, United States\",\"Belgium\",\"Sweden\",\"United States, United Kingdom\",\"Israel\",\"Malaysia\",\"Lebanon\",\"Norway\",\"South Africa\",\"Poland\",\"United States, France, Japan\",\"Netherlands\",\"Pakistan\",\"Ireland\",\"Saudi Arabia\",\"United States, New Zealand\",\"United States, Czech Republic\",\"Hong Kong\",\"United States, France\",\"Japan, United States\",\"Chile\",\"France, Belgium\",\"Australia, United States\",\"New Zealand\",\"Ukraine\",\"Canada, Australia\",\"Denmark, United States\",\"Canada, United States, France\",\"United Kingdom, Canada, United States\",\"Colombia, Mexico, United States\",\"United States, South Korea, China\",\"France, United States\",\"Kuwait\",\"Poland, United States\",\"United States, Mexico\",\"United States, Japan, Canada\",\"United Kingdom, Canada\",\"Indonesia\",\"Iceland\",\"South Korea, United States\",\"United Kingdom, United States, Spain, Germany, Greece, Canada\",\"Italy, United States\",\"Italy, South Africa, West Germany, Australia, United States\",\"United States, Colombia\",\"Singapore, United States\",\"United Kingdom, Finland, Germany\",\"Japan, Canada\",\"Mexico, Spain\",\"United States, Poland\",\"Senegal\",\"India, United States\",\"South Korea, Canada, United States, China\",\"Norway, Denmark\",\"United States, Mexico, Spain, Malta\",\"United States, Netherlands, Japan, France\",\"United States, New Zealand, Japan\",\"France, Japan, United States\",\"Canada, United States, Ireland\",\"Spain, United Kingdom\",\"France, United Kingdom\",\"Ireland, United Kingdom, United States\",\"Colombia, United States\",\"United Kingdom, Ireland\",\"Switzerland\",\"United Kingdom, Spain\",\"United Kingdom, France\",\"Germany, United States, Italy\",\"Canada, Japan, Netherlands\",\"United Kingdom, United States, Czech Republic\",\"Ireland, Canada, United States, United Kingdom\",\"United Arab Emirates\",\"Croatia\",\"Australia, New Zealand\",\"United Kingdom, Singapore\",\"India, Germany, France\",\"Canada, Germany, South Africa\",\"United Kingdom, South Africa, Australia, United States\",\"Taiwan, Malaysia\",\"United Kingdom, Germany, United States, France\",\"China, Hong Kong\",\"United States, Brazil, South Korea, Mexico, Japan, Germany\",\"France, Germany\",\"Brazil, United Kingdom\",\"Canada, United Kingdom, United States\",\"United States, Hungary, Ireland, Canada\",\"Cyprus\",\"Belgium, Netherlands\",\"Belarus\",\"France, United States, Canada\",\"United Kingdom, Germany\",\"France, Canada\",\"Argentina, Spain\",\"United Kingdom, Ireland, United States\",\"Germany, Czech Republic\",\"United States, India\",\"United States, Ireland, United Kingdom, India\",\"Norway, Sweden\",\"Italy, Canada, France\",\"Austria, Germany\",\"Spain, Cuba\",\"United States, France, Canada\",\"Czech Republic, United States\",\"United States, Mexico, Colombia\",\"United States, Chile\",\"Finland, Germany\",\"Germany, United States\",\"United Kingdom, Australia\",\"Canada, Brazil\",\"United Kingdom, France, Germany, Spain\",\"Australia, New Zealand, United States\",\"United Kingdom, China\",\"United States, Israel, Italy, South Africa\",\"United States, United Kingdom, Australia\",\"Finland, France\",\"Norway, Germany, Sweden\",\"Saudi Arabia, Syria, Egypt, Lebanon, Kuwait\",\"South Korea, China\",\"Australia, Canada\",\"Japan, Canada, United States\",\"Canada, France\",\"Finland\",\"Philippines\",\"Mauritius, South Africa\",\"Germany, France, Russia\",\"Italy, Germany\",\"Spain, Italy\",\"Germany, Australia, France, China\",\"Uruguay, Germany\",\"France, United Kingdom, United States\",\"Spain, Germany, Denmark, United States\",\"Puerto Rico, United States, Colombia\",\"United States, Colombia, Mexico\",\"United Kingdom, West Germany\",\"France, South Korea, Japan\",\"United States, Sweden\",\"Netherlands, Germany, Italy, Canada\",\"Italy, United Kingdom, France\",\"United States, Russia\",\"Argentina, United States, Mexico\",\"Turkey, Azerbaijan\",\"China, United Kingdom\",\"France, Australia, Germany\",\"South Korea, France\",\"Norway, United States\",\"Malaysia, Singapore, Hong Kong\",\"Denmark, Singapore, Canada, United States\",\"Mexico, United States, Spain, Colombia\",\"Jordan\",\"United States, Ireland\",\"Taiwan, China\",\"Canada, United States, United Kingdom, France, Luxembourg\",\"United States, Italy\",\"Chile, Italy\",\"Canada, United Kingdom\",\"United States, France, South Korea, Indonesia\"],\"y\":[705,204,157,147,71,68,59,46,46,45,36,35,27,26,22,22,20,19,17,16,15,13,12,12,12,9,8,8,7,7,7,7,7,6,6,5,5,5,5,4,4,4,3,3,3,3,3,3,3,3,3,2,2,2,2,2,2,2,2,2,2,2,2,2,2,2,2,2,2,1,1,1,1,1,1,1,1,1,1,1,1,1,1,1,1,1,1,1,1,1,1,1,1,1,1,1,1,1,1,1,1,1,1,1,1,1,1,1,1,1,1,1,1,1,1,1,1,1,1,1,1,1,1,1,1,1,1,1,1,1,1,1,1,1,1,1,1,1,1,1,1,1,1,1,1,1,1,1,1,1,1,1,1,1,1,1,1,1,1,1,1,1,1,1,1,1,1,1,1,1,1,1,1,1,1,1,1,1,1,1,1,1,1],\"type\":\"bar\"}],                        {\"legend\":{\"bgcolor\":\"#F5F6F9\",\"font\":{\"color\":\"#4D5663\"}},\"paper_bgcolor\":\"#F5F6F9\",\"plot_bgcolor\":\"#F5F6F9\",\"template\":{\"data\":{\"barpolar\":[{\"marker\":{\"line\":{\"color\":\"#E5ECF6\",\"width\":0.5},\"pattern\":{\"fillmode\":\"overlay\",\"size\":10,\"solidity\":0.2}},\"type\":\"barpolar\"}],\"bar\":[{\"error_x\":{\"color\":\"#2a3f5f\"},\"error_y\":{\"color\":\"#2a3f5f\"},\"marker\":{\"line\":{\"color\":\"#E5ECF6\",\"width\":0.5},\"pattern\":{\"fillmode\":\"overlay\",\"size\":10,\"solidity\":0.2}},\"type\":\"bar\"}],\"carpet\":[{\"aaxis\":{\"endlinecolor\":\"#2a3f5f\",\"gridcolor\":\"white\",\"linecolor\":\"white\",\"minorgridcolor\":\"white\",\"startlinecolor\":\"#2a3f5f\"},\"baxis\":{\"endlinecolor\":\"#2a3f5f\",\"gridcolor\":\"white\",\"linecolor\":\"white\",\"minorgridcolor\":\"white\",\"startlinecolor\":\"#2a3f5f\"},\"type\":\"carpet\"}],\"choropleth\":[{\"colorbar\":{\"outlinewidth\":0,\"ticks\":\"\"},\"type\":\"choropleth\"}],\"contourcarpet\":[{\"colorbar\":{\"outlinewidth\":0,\"ticks\":\"\"},\"type\":\"contourcarpet\"}],\"contour\":[{\"colorbar\":{\"outlinewidth\":0,\"ticks\":\"\"},\"colorscale\":[[0.0,\"#0d0887\"],[0.1111111111111111,\"#46039f\"],[0.2222222222222222,\"#7201a8\"],[0.3333333333333333,\"#9c179e\"],[0.4444444444444444,\"#bd3786\"],[0.5555555555555556,\"#d8576b\"],[0.6666666666666666,\"#ed7953\"],[0.7777777777777778,\"#fb9f3a\"],[0.8888888888888888,\"#fdca26\"],[1.0,\"#f0f921\"]],\"type\":\"contour\"}],\"heatmapgl\":[{\"colorbar\":{\"outlinewidth\":0,\"ticks\":\"\"},\"colorscale\":[[0.0,\"#0d0887\"],[0.1111111111111111,\"#46039f\"],[0.2222222222222222,\"#7201a8\"],[0.3333333333333333,\"#9c179e\"],[0.4444444444444444,\"#bd3786\"],[0.5555555555555556,\"#d8576b\"],[0.6666666666666666,\"#ed7953\"],[0.7777777777777778,\"#fb9f3a\"],[0.8888888888888888,\"#fdca26\"],[1.0,\"#f0f921\"]],\"type\":\"heatmapgl\"}],\"heatmap\":[{\"colorbar\":{\"outlinewidth\":0,\"ticks\":\"\"},\"colorscale\":[[0.0,\"#0d0887\"],[0.1111111111111111,\"#46039f\"],[0.2222222222222222,\"#7201a8\"],[0.3333333333333333,\"#9c179e\"],[0.4444444444444444,\"#bd3786\"],[0.5555555555555556,\"#d8576b\"],[0.6666666666666666,\"#ed7953\"],[0.7777777777777778,\"#fb9f3a\"],[0.8888888888888888,\"#fdca26\"],[1.0,\"#f0f921\"]],\"type\":\"heatmap\"}],\"histogram2dcontour\":[{\"colorbar\":{\"outlinewidth\":0,\"ticks\":\"\"},\"colorscale\":[[0.0,\"#0d0887\"],[0.1111111111111111,\"#46039f\"],[0.2222222222222222,\"#7201a8\"],[0.3333333333333333,\"#9c179e\"],[0.4444444444444444,\"#bd3786\"],[0.5555555555555556,\"#d8576b\"],[0.6666666666666666,\"#ed7953\"],[0.7777777777777778,\"#fb9f3a\"],[0.8888888888888888,\"#fdca26\"],[1.0,\"#f0f921\"]],\"type\":\"histogram2dcontour\"}],\"histogram2d\":[{\"colorbar\":{\"outlinewidth\":0,\"ticks\":\"\"},\"colorscale\":[[0.0,\"#0d0887\"],[0.1111111111111111,\"#46039f\"],[0.2222222222222222,\"#7201a8\"],[0.3333333333333333,\"#9c179e\"],[0.4444444444444444,\"#bd3786\"],[0.5555555555555556,\"#d8576b\"],[0.6666666666666666,\"#ed7953\"],[0.7777777777777778,\"#fb9f3a\"],[0.8888888888888888,\"#fdca26\"],[1.0,\"#f0f921\"]],\"type\":\"histogram2d\"}],\"histogram\":[{\"marker\":{\"pattern\":{\"fillmode\":\"overlay\",\"size\":10,\"solidity\":0.2}},\"type\":\"histogram\"}],\"mesh3d\":[{\"colorbar\":{\"outlinewidth\":0,\"ticks\":\"\"},\"type\":\"mesh3d\"}],\"parcoords\":[{\"line\":{\"colorbar\":{\"outlinewidth\":0,\"ticks\":\"\"}},\"type\":\"parcoords\"}],\"pie\":[{\"automargin\":true,\"type\":\"pie\"}],\"scatter3d\":[{\"line\":{\"colorbar\":{\"outlinewidth\":0,\"ticks\":\"\"}},\"marker\":{\"colorbar\":{\"outlinewidth\":0,\"ticks\":\"\"}},\"type\":\"scatter3d\"}],\"scattercarpet\":[{\"marker\":{\"colorbar\":{\"outlinewidth\":0,\"ticks\":\"\"}},\"type\":\"scattercarpet\"}],\"scattergeo\":[{\"marker\":{\"colorbar\":{\"outlinewidth\":0,\"ticks\":\"\"}},\"type\":\"scattergeo\"}],\"scattergl\":[{\"marker\":{\"colorbar\":{\"outlinewidth\":0,\"ticks\":\"\"}},\"type\":\"scattergl\"}],\"scattermapbox\":[{\"marker\":{\"colorbar\":{\"outlinewidth\":0,\"ticks\":\"\"}},\"type\":\"scattermapbox\"}],\"scatterpolargl\":[{\"marker\":{\"colorbar\":{\"outlinewidth\":0,\"ticks\":\"\"}},\"type\":\"scatterpolargl\"}],\"scatterpolar\":[{\"marker\":{\"colorbar\":{\"outlinewidth\":0,\"ticks\":\"\"}},\"type\":\"scatterpolar\"}],\"scatter\":[{\"marker\":{\"colorbar\":{\"outlinewidth\":0,\"ticks\":\"\"}},\"type\":\"scatter\"}],\"scatterternary\":[{\"marker\":{\"colorbar\":{\"outlinewidth\":0,\"ticks\":\"\"}},\"type\":\"scatterternary\"}],\"surface\":[{\"colorbar\":{\"outlinewidth\":0,\"ticks\":\"\"},\"colorscale\":[[0.0,\"#0d0887\"],[0.1111111111111111,\"#46039f\"],[0.2222222222222222,\"#7201a8\"],[0.3333333333333333,\"#9c179e\"],[0.4444444444444444,\"#bd3786\"],[0.5555555555555556,\"#d8576b\"],[0.6666666666666666,\"#ed7953\"],[0.7777777777777778,\"#fb9f3a\"],[0.8888888888888888,\"#fdca26\"],[1.0,\"#f0f921\"]],\"type\":\"surface\"}],\"table\":[{\"cells\":{\"fill\":{\"color\":\"#EBF0F8\"},\"line\":{\"color\":\"white\"}},\"header\":{\"fill\":{\"color\":\"#C8D4E3\"},\"line\":{\"color\":\"white\"}},\"type\":\"table\"}]},\"layout\":{\"annotationdefaults\":{\"arrowcolor\":\"#2a3f5f\",\"arrowhead\":0,\"arrowwidth\":1},\"autotypenumbers\":\"strict\",\"coloraxis\":{\"colorbar\":{\"outlinewidth\":0,\"ticks\":\"\"}},\"colorscale\":{\"diverging\":[[0,\"#8e0152\"],[0.1,\"#c51b7d\"],[0.2,\"#de77ae\"],[0.3,\"#f1b6da\"],[0.4,\"#fde0ef\"],[0.5,\"#f7f7f7\"],[0.6,\"#e6f5d0\"],[0.7,\"#b8e186\"],[0.8,\"#7fbc41\"],[0.9,\"#4d9221\"],[1,\"#276419\"]],\"sequential\":[[0.0,\"#0d0887\"],[0.1111111111111111,\"#46039f\"],[0.2222222222222222,\"#7201a8\"],[0.3333333333333333,\"#9c179e\"],[0.4444444444444444,\"#bd3786\"],[0.5555555555555556,\"#d8576b\"],[0.6666666666666666,\"#ed7953\"],[0.7777777777777778,\"#fb9f3a\"],[0.8888888888888888,\"#fdca26\"],[1.0,\"#f0f921\"]],\"sequentialminus\":[[0.0,\"#0d0887\"],[0.1111111111111111,\"#46039f\"],[0.2222222222222222,\"#7201a8\"],[0.3333333333333333,\"#9c179e\"],[0.4444444444444444,\"#bd3786\"],[0.5555555555555556,\"#d8576b\"],[0.6666666666666666,\"#ed7953\"],[0.7777777777777778,\"#fb9f3a\"],[0.8888888888888888,\"#fdca26\"],[1.0,\"#f0f921\"]]},\"colorway\":[\"#636efa\",\"#EF553B\",\"#00cc96\",\"#ab63fa\",\"#FFA15A\",\"#19d3f3\",\"#FF6692\",\"#B6E880\",\"#FF97FF\",\"#FECB52\"],\"font\":{\"color\":\"#2a3f5f\"},\"geo\":{\"bgcolor\":\"white\",\"lakecolor\":\"white\",\"landcolor\":\"#E5ECF6\",\"showlakes\":true,\"showland\":true,\"subunitcolor\":\"white\"},\"hoverlabel\":{\"align\":\"left\"},\"hovermode\":\"closest\",\"mapbox\":{\"style\":\"light\"},\"paper_bgcolor\":\"white\",\"plot_bgcolor\":\"#E5ECF6\",\"polar\":{\"angularaxis\":{\"gridcolor\":\"white\",\"linecolor\":\"white\",\"ticks\":\"\"},\"bgcolor\":\"#E5ECF6\",\"radialaxis\":{\"gridcolor\":\"white\",\"linecolor\":\"white\",\"ticks\":\"\"}},\"scene\":{\"xaxis\":{\"backgroundcolor\":\"#E5ECF6\",\"gridcolor\":\"white\",\"gridwidth\":2,\"linecolor\":\"white\",\"showbackground\":true,\"ticks\":\"\",\"zerolinecolor\":\"white\"},\"yaxis\":{\"backgroundcolor\":\"#E5ECF6\",\"gridcolor\":\"white\",\"gridwidth\":2,\"linecolor\":\"white\",\"showbackground\":true,\"ticks\":\"\",\"zerolinecolor\":\"white\"},\"zaxis\":{\"backgroundcolor\":\"#E5ECF6\",\"gridcolor\":\"white\",\"gridwidth\":2,\"linecolor\":\"white\",\"showbackground\":true,\"ticks\":\"\",\"zerolinecolor\":\"white\"}},\"shapedefaults\":{\"line\":{\"color\":\"#2a3f5f\"}},\"ternary\":{\"aaxis\":{\"gridcolor\":\"white\",\"linecolor\":\"white\",\"ticks\":\"\"},\"baxis\":{\"gridcolor\":\"white\",\"linecolor\":\"white\",\"ticks\":\"\"},\"bgcolor\":\"#E5ECF6\",\"caxis\":{\"gridcolor\":\"white\",\"linecolor\":\"white\",\"ticks\":\"\"}},\"title\":{\"x\":0.05},\"xaxis\":{\"automargin\":true,\"gridcolor\":\"white\",\"linecolor\":\"white\",\"ticks\":\"\",\"title\":{\"standoff\":15},\"zerolinecolor\":\"white\",\"zerolinewidth\":2},\"yaxis\":{\"automargin\":true,\"gridcolor\":\"white\",\"linecolor\":\"white\",\"ticks\":\"\",\"title\":{\"standoff\":15},\"zerolinecolor\":\"white\",\"zerolinewidth\":2}}},\"title\":{\"font\":{\"color\":\"#4D5663\"}},\"xaxis\":{\"gridcolor\":\"#E1E5ED\",\"showgrid\":true,\"tickfont\":{\"color\":\"#4D5663\"},\"title\":{\"font\":{\"color\":\"#4D5663\"},\"text\":\"\"},\"zerolinecolor\":\"#E1E5ED\"},\"yaxis\":{\"gridcolor\":\"#E1E5ED\",\"showgrid\":true,\"tickfont\":{\"color\":\"#4D5663\"},\"title\":{\"font\":{\"color\":\"#4D5663\"},\"text\":\"\"},\"zerolinecolor\":\"#E1E5ED\"}},                        {\"showLink\": true, \"linkText\": \"Export to plot.ly\", \"plotlyServerURL\": \"https://plot.ly\", \"responsive\": true}                    ).then(function(){\n",
       "                            \n",
       "var gd = document.getElementById('113700f4-d5ac-440b-b165-315c628991bb');\n",
       "var x = new MutationObserver(function (mutations, observer) {{\n",
       "        var display = window.getComputedStyle(gd).display;\n",
       "        if (!display || display === 'none') {{\n",
       "            console.log([gd, 'removed!']);\n",
       "            Plotly.purge(gd);\n",
       "            observer.disconnect();\n",
       "        }}\n",
       "}});\n",
       "\n",
       "// Listen for the removal of the full notebook cells\n",
       "var notebookContainer = gd.closest('#notebook-container');\n",
       "if (notebookContainer) {{\n",
       "    x.observe(notebookContainer, {childList: true});\n",
       "}}\n",
       "\n",
       "// Listen for the clearing of the current output cell\n",
       "var outputEl = gd.closest('.output');\n",
       "if (outputEl) {{\n",
       "    x.observe(outputEl, {childList: true});\n",
       "}}\n",
       "\n",
       "                        })                };                });            </script>        </div>"
      ]
     },
     "metadata": {},
     "output_type": "display_data"
    }
   ],
   "source": [
    "tvshowdata.Country.value_counts().iplot(kind='bar')"
   ]
  },
  {
   "cell_type": "code",
   "execution_count": null,
   "id": "4e062c6d",
   "metadata": {},
   "outputs": [],
   "source": [
    "1. it shows United States have maximum number of Tv shows followed by United Kingdom,japan and south korea."
   ]
  },
  {
   "cell_type": "code",
   "execution_count": null,
   "id": "7e7a32c4",
   "metadata": {},
   "outputs": [],
   "source": []
  },
  {
   "cell_type": "code",
   "execution_count": 64,
   "id": "9a0c91e7",
   "metadata": {},
   "outputs": [
    {
     "data": {
      "text/html": [
       "<div>\n",
       "<style scoped>\n",
       "    .dataframe tbody tr th:only-of-type {\n",
       "        vertical-align: middle;\n",
       "    }\n",
       "\n",
       "    .dataframe tbody tr th {\n",
       "        vertical-align: top;\n",
       "    }\n",
       "\n",
       "    .dataframe thead th {\n",
       "        text-align: right;\n",
       "    }\n",
       "</style>\n",
       "<table border=\"1\" class=\"dataframe\">\n",
       "  <thead>\n",
       "    <tr style=\"text-align: right;\">\n",
       "      <th></th>\n",
       "      <th>showID</th>\n",
       "      <th>Category</th>\n",
       "      <th>Title</th>\n",
       "      <th>Director</th>\n",
       "      <th>Cast</th>\n",
       "      <th>Country</th>\n",
       "      <th>ReleaseDate</th>\n",
       "      <th>Rating</th>\n",
       "      <th>Duration</th>\n",
       "      <th>Type</th>\n",
       "      <th>Description</th>\n",
       "      <th>Date</th>\n",
       "      <th>year</th>\n",
       "    </tr>\n",
       "  </thead>\n",
       "  <tbody>\n",
       "    <tr>\n",
       "      <th>1739</th>\n",
       "      <td>s1740</td>\n",
       "      <td>Movie</td>\n",
       "      <td>Dhobi Ghat (Mumbai Diaries)</td>\n",
       "      <td>Kiran Rao</td>\n",
       "      <td>Aamir Khan, Monica Dogra, Kriti Malhotra, Prat...</td>\n",
       "      <td>India</td>\n",
       "      <td>January 10, 2021</td>\n",
       "      <td>TV-MA</td>\n",
       "      <td>102 min</td>\n",
       "      <td>Dramas, International Movies</td>\n",
       "      <td>In this intimate drama, circumstances draw tog...</td>\n",
       "      <td>2021-01-10</td>\n",
       "      <td>2021</td>\n",
       "    </tr>\n",
       "    <tr>\n",
       "      <th>1690</th>\n",
       "      <td>s1691</td>\n",
       "      <td>Movie</td>\n",
       "      <td>Delhi Belly</td>\n",
       "      <td>Abhinay Deo</td>\n",
       "      <td>Imran Khan, Vir Das, Kunaal Roy Kapur, Poorna ...</td>\n",
       "      <td>India</td>\n",
       "      <td>January 10, 2021</td>\n",
       "      <td>TV-MA</td>\n",
       "      <td>101 min</td>\n",
       "      <td>Action &amp; Adventure, Comedies, International Mo...</td>\n",
       "      <td>Three flatmates get involved in the shady busi...</td>\n",
       "      <td>2021-01-10</td>\n",
       "      <td>2021</td>\n",
       "    </tr>\n",
       "    <tr>\n",
       "      <th>2413</th>\n",
       "      <td>s2414</td>\n",
       "      <td>Movie</td>\n",
       "      <td>Gimme Shelter</td>\n",
       "      <td>Ron Krauss</td>\n",
       "      <td>Vanessa Hudgens, James Earl Jones, Rosario Daw...</td>\n",
       "      <td>United States</td>\n",
       "      <td>January 1, 2021</td>\n",
       "      <td>PG-13</td>\n",
       "      <td>101 min</td>\n",
       "      <td>Dramas, Independent Movies</td>\n",
       "      <td>After running away from her abusive mother, a ...</td>\n",
       "      <td>2021-01-01</td>\n",
       "      <td>2021</td>\n",
       "    </tr>\n",
       "    <tr>\n",
       "      <th>6289</th>\n",
       "      <td>s6289</td>\n",
       "      <td>Movie</td>\n",
       "      <td>The Departed</td>\n",
       "      <td>Martin Scorsese</td>\n",
       "      <td>Leonardo DiCaprio, Matt Damon, Jack Nicholson,...</td>\n",
       "      <td>United States, Hong Kong</td>\n",
       "      <td>January 1, 2021</td>\n",
       "      <td>R</td>\n",
       "      <td>151 min</td>\n",
       "      <td>Dramas, Thrillers</td>\n",
       "      <td>Two rookie Boston cops are sent deep undercove...</td>\n",
       "      <td>2021-01-01</td>\n",
       "      <td>2021</td>\n",
       "    </tr>\n",
       "    <tr>\n",
       "      <th>7571</th>\n",
       "      <td>s7570</td>\n",
       "      <td>Movie</td>\n",
       "      <td>What Would Sophia Loren Do?</td>\n",
       "      <td>Ross Kauffman</td>\n",
       "      <td>Nancy \"Vincenza Careri\" Kulik, Sophia Loren</td>\n",
       "      <td>United States</td>\n",
       "      <td>January 15, 2021</td>\n",
       "      <td>TV-14</td>\n",
       "      <td>32 min</td>\n",
       "      <td>Documentaries</td>\n",
       "      <td>In this delightful short documentary, an Itali...</td>\n",
       "      <td>2021-01-15</td>\n",
       "      <td>2021</td>\n",
       "    </tr>\n",
       "    <tr>\n",
       "      <th>...</th>\n",
       "      <td>...</td>\n",
       "      <td>...</td>\n",
       "      <td>...</td>\n",
       "      <td>...</td>\n",
       "      <td>...</td>\n",
       "      <td>...</td>\n",
       "      <td>...</td>\n",
       "      <td>...</td>\n",
       "      <td>...</td>\n",
       "      <td>...</td>\n",
       "      <td>...</td>\n",
       "      <td>...</td>\n",
       "      <td>...</td>\n",
       "    </tr>\n",
       "    <tr>\n",
       "      <th>5833</th>\n",
       "      <td>s5833</td>\n",
       "      <td>Movie</td>\n",
       "      <td>Strange Voices</td>\n",
       "      <td>Arthur Allan Seidelman</td>\n",
       "      <td>Nancy McKeon, Valerie Harper, Stephen Macht, T...</td>\n",
       "      <td>United States</td>\n",
       "      <td>October 1, 2011</td>\n",
       "      <td>TV-PG</td>\n",
       "      <td>96 min</td>\n",
       "      <td>Dramas</td>\n",
       "      <td>When their college-age daughter suddenly begin...</td>\n",
       "      <td>2011-10-01</td>\n",
       "      <td>2011</td>\n",
       "    </tr>\n",
       "    <tr>\n",
       "      <th>3840</th>\n",
       "      <td>s3841</td>\n",
       "      <td>Movie</td>\n",
       "      <td>Mad Ron's Prevues from Hell</td>\n",
       "      <td>Jim Monaco</td>\n",
       "      <td>Nick Pawlow, Jordu Schell, Jay Kushwara, Micha...</td>\n",
       "      <td>United States</td>\n",
       "      <td>November 1, 2010</td>\n",
       "      <td>NR</td>\n",
       "      <td>84 min</td>\n",
       "      <td>Cult Movies, Horror Movies</td>\n",
       "      <td>This collection cherry-picks trailers, forgott...</td>\n",
       "      <td>2010-11-01</td>\n",
       "      <td>2010</td>\n",
       "    </tr>\n",
       "    <tr>\n",
       "      <th>5766</th>\n",
       "      <td>s5766</td>\n",
       "      <td>Movie</td>\n",
       "      <td>Splatter</td>\n",
       "      <td>Joe Dante</td>\n",
       "      <td>Corey Feldman, Tony Todd, Tara Leigh, Erin Way...</td>\n",
       "      <td>United States</td>\n",
       "      <td>November 18, 2009</td>\n",
       "      <td>TV-MA</td>\n",
       "      <td>29 min</td>\n",
       "      <td>Horror Movies</td>\n",
       "      <td>After committing suicide, a washed-up rocker r...</td>\n",
       "      <td>2009-11-18</td>\n",
       "      <td>2009</td>\n",
       "    </tr>\n",
       "    <tr>\n",
       "      <th>3248</th>\n",
       "      <td>s3249</td>\n",
       "      <td>Movie</td>\n",
       "      <td>Just Another Love Story</td>\n",
       "      <td>Ole Bornedal</td>\n",
       "      <td>Anders W. Berthelsen, Rebecka Hemse, Nikolaj L...</td>\n",
       "      <td>Denmark</td>\n",
       "      <td>May 5, 2009</td>\n",
       "      <td>TV-MA</td>\n",
       "      <td>104 min</td>\n",
       "      <td>Dramas, International Movies</td>\n",
       "      <td>When he causes a car accident that leaves a yo...</td>\n",
       "      <td>2009-05-05</td>\n",
       "      <td>2009</td>\n",
       "    </tr>\n",
       "    <tr>\n",
       "      <th>7115</th>\n",
       "      <td>s7114</td>\n",
       "      <td>Movie</td>\n",
       "      <td>To and From New York</td>\n",
       "      <td>Sorin Dan Mihalcescu</td>\n",
       "      <td>Barbara King, Shaana Diya, John Krisiukenas, Y...</td>\n",
       "      <td>United States</td>\n",
       "      <td>January 1, 2008</td>\n",
       "      <td>TV-MA</td>\n",
       "      <td>81 min</td>\n",
       "      <td>Dramas, Independent Movies, Thrillers</td>\n",
       "      <td>While covering a story in New York City, a Sea...</td>\n",
       "      <td>2008-01-01</td>\n",
       "      <td>2008</td>\n",
       "    </tr>\n",
       "  </tbody>\n",
       "</table>\n",
       "<p>4811 rows × 13 columns</p>\n",
       "</div>"
      ],
      "text/plain": [
       "     showID Category                        Title                Director  \\\n",
       "1739  s1740    Movie  Dhobi Ghat (Mumbai Diaries)               Kiran Rao   \n",
       "1690  s1691    Movie                  Delhi Belly             Abhinay Deo   \n",
       "2413  s2414    Movie                Gimme Shelter              Ron Krauss   \n",
       "6289  s6289    Movie                 The Departed         Martin Scorsese   \n",
       "7571  s7570    Movie  What Would Sophia Loren Do?           Ross Kauffman   \n",
       "...     ...      ...                          ...                     ...   \n",
       "5833  s5833    Movie               Strange Voices  Arthur Allan Seidelman   \n",
       "3840  s3841    Movie  Mad Ron's Prevues from Hell              Jim Monaco   \n",
       "5766  s5766    Movie                     Splatter               Joe Dante   \n",
       "3248  s3249    Movie      Just Another Love Story            Ole Bornedal   \n",
       "7115  s7114    Movie         To and From New York    Sorin Dan Mihalcescu   \n",
       "\n",
       "                                                   Cast  \\\n",
       "1739  Aamir Khan, Monica Dogra, Kriti Malhotra, Prat...   \n",
       "1690  Imran Khan, Vir Das, Kunaal Roy Kapur, Poorna ...   \n",
       "2413  Vanessa Hudgens, James Earl Jones, Rosario Daw...   \n",
       "6289  Leonardo DiCaprio, Matt Damon, Jack Nicholson,...   \n",
       "7571        Nancy \"Vincenza Careri\" Kulik, Sophia Loren   \n",
       "...                                                 ...   \n",
       "5833  Nancy McKeon, Valerie Harper, Stephen Macht, T...   \n",
       "3840  Nick Pawlow, Jordu Schell, Jay Kushwara, Micha...   \n",
       "5766  Corey Feldman, Tony Todd, Tara Leigh, Erin Way...   \n",
       "3248  Anders W. Berthelsen, Rebecka Hemse, Nikolaj L...   \n",
       "7115  Barbara King, Shaana Diya, John Krisiukenas, Y...   \n",
       "\n",
       "                       Country        ReleaseDate Rating Duration  \\\n",
       "1739                     India   January 10, 2021  TV-MA  102 min   \n",
       "1690                     India   January 10, 2021  TV-MA  101 min   \n",
       "2413             United States    January 1, 2021  PG-13  101 min   \n",
       "6289  United States, Hong Kong    January 1, 2021      R  151 min   \n",
       "7571             United States   January 15, 2021  TV-14   32 min   \n",
       "...                        ...                ...    ...      ...   \n",
       "5833             United States    October 1, 2011  TV-PG   96 min   \n",
       "3840             United States   November 1, 2010     NR   84 min   \n",
       "5766             United States  November 18, 2009  TV-MA   29 min   \n",
       "3248                   Denmark        May 5, 2009  TV-MA  104 min   \n",
       "7115             United States    January 1, 2008  TV-MA   81 min   \n",
       "\n",
       "                                                   Type  \\\n",
       "1739                       Dramas, International Movies   \n",
       "1690  Action & Adventure, Comedies, International Mo...   \n",
       "2413                         Dramas, Independent Movies   \n",
       "6289                                  Dramas, Thrillers   \n",
       "7571                                      Documentaries   \n",
       "...                                                 ...   \n",
       "5833                                             Dramas   \n",
       "3840                         Cult Movies, Horror Movies   \n",
       "5766                                      Horror Movies   \n",
       "3248                       Dramas, International Movies   \n",
       "7115              Dramas, Independent Movies, Thrillers   \n",
       "\n",
       "                                            Description       Date  year  \n",
       "1739  In this intimate drama, circumstances draw tog... 2021-01-10  2021  \n",
       "1690  Three flatmates get involved in the shady busi... 2021-01-10  2021  \n",
       "2413  After running away from her abusive mother, a ... 2021-01-01  2021  \n",
       "6289  Two rookie Boston cops are sent deep undercove... 2021-01-01  2021  \n",
       "7571  In this delightful short documentary, an Itali... 2021-01-15  2021  \n",
       "...                                                 ...        ...   ...  \n",
       "5833  When their college-age daughter suddenly begin... 2011-10-01  2011  \n",
       "3840  This collection cherry-picks trailers, forgott... 2010-11-01  2010  \n",
       "5766  After committing suicide, a washed-up rocker r... 2009-11-18  2009  \n",
       "3248  When he causes a car accident that leaves a yo... 2009-05-05  2009  \n",
       "7115  While covering a story in New York City, a Sea... 2008-01-01  2008  \n",
       "\n",
       "[4811 rows x 13 columns]"
      ]
     },
     "execution_count": 64,
     "metadata": {},
     "output_type": "execute_result"
    }
   ],
   "source": [
    "data.sort_values(by='year', ascending=False)"
   ]
  },
  {
   "cell_type": "markdown",
   "id": "4e1ba948",
   "metadata": {},
   "source": [
    "# What is maximum duration of movie on netflix"
   ]
  },
  {
   "cell_type": "code",
   "execution_count": 71,
   "id": "de9c90ad",
   "metadata": {},
   "outputs": [],
   "source": [
    "moviedata= data[data['Category']=='Movie']"
   ]
  },
  {
   "cell_type": "code",
   "execution_count": 72,
   "id": "c9edc21e",
   "metadata": {},
   "outputs": [
    {
     "data": {
      "text/plain": [
       "array(['93 min', '78 min', '80 min', '123 min', '95 min', '119 min',\n",
       "       '118 min', '143 min', '103 min', '89 min', '91 min', '149 min',\n",
       "       '144 min', '124 min', '110 min', '128 min', '117 min', '100 min',\n",
       "       '99 min', '102 min', '104 min', '105 min', '125 min', '81 min',\n",
       "       '97 min', '106 min', '107 min', '87 min', '109 min', '101 min',\n",
       "       '90 min', '113 min', '114 min', '130 min', '94 min', '140 min',\n",
       "       '135 min', '82 min', '70 min', '92 min', '164 min', '83 min',\n",
       "       '116 min', '84 min', '86 min', '120 min', '96 min', '126 min',\n",
       "       '75 min', '129 min', '77 min', '137 min', '148 min', '121 min',\n",
       "       '122 min', '176 min', '85 min', '22 min', '68 min', '111 min',\n",
       "       '29 min', '142 min', '168 min', '59 min', '108 min', '44 min',\n",
       "       '26 min', '156 min', '98 min', '57 min', '150 min', '133 min',\n",
       "       '115 min', '154 min', '127 min', '146 min', '136 min', '88 min',\n",
       "       '131 min', '24 min', '112 min', '74 min', '63 min', '174 min',\n",
       "       '60 min', '153 min', '158 min', '151 min', '162 min', '54 min',\n",
       "       '51 min', '69 min', '64 min', '147 min', '42 min', '79 min',\n",
       "       '45 min', '172 min', '53 min', '163 min', '55 min', '61 min',\n",
       "       '71 min', '160 min', '171 min', '30 min', '48 min', '139 min',\n",
       "       '157 min', '15 min', '72 min', '134 min', '161 min', '62 min',\n",
       "       '186 min', '49 min', '73 min', '58 min', '65 min', '165 min',\n",
       "       '159 min', '141 min', '132 min', '166 min', '76 min', '25 min',\n",
       "       '56 min', '138 min', '67 min', '28 min', '66 min', '180 min',\n",
       "       '47 min', '155 min', '14 min', '177 min', '46 min', '145 min',\n",
       "       '8 min', '12 min', '52 min', '43 min', '185 min', '200 min',\n",
       "       '169 min', '27 min', '170 min', '196 min', '33 min', '181 min',\n",
       "       '32 min', '167 min', '179 min', '193 min', '214 min', '173 min',\n",
       "       '192 min', '209 min', '187 min', '41 min', '182 min', '23 min',\n",
       "       '224 min', '37 min', '35 min', '20 min', '50 min', '189 min',\n",
       "       '152 min', '38 min', '208 min', '237 min', '31 min', '178 min',\n",
       "       '194 min', '228 min', '195 min', '18 min', '205 min', '201 min',\n",
       "       '40 min', '253 min', '190 min', '17 min', '203 min', '191 min'],\n",
       "      dtype=object)"
      ]
     },
     "execution_count": 72,
     "metadata": {},
     "output_type": "execute_result"
    }
   ],
   "source": [
    "moviedata.Duration.unique()"
   ]
  },
  {
   "cell_type": "code",
   "execution_count": 76,
   "id": "c5ff5843",
   "metadata": {},
   "outputs": [
    {
     "data": {
      "text/plain": [
       "93 min     121\n",
       "94 min     120\n",
       "90 min     114\n",
       "95 min     111\n",
       "97 min     108\n",
       "          ... \n",
       "200 min      1\n",
       "196 min      1\n",
       "214 min      1\n",
       "193 min      1\n",
       "191 min      1\n",
       "Name: Duration, Length: 186, dtype: int64"
      ]
     },
     "execution_count": 76,
     "metadata": {},
     "output_type": "execute_result"
    }
   ],
   "source": [
    "moviedata.Duration.value_counts()"
   ]
  },
  {
   "cell_type": "code",
   "execution_count": 77,
   "id": "15324057",
   "metadata": {},
   "outputs": [
    {
     "data": {
      "application/vnd.plotly.v1+json": {
       "config": {
        "linkText": "Export to plot.ly",
        "plotlyServerURL": "https://plot.ly",
        "showLink": true
       },
       "data": [
        {
         "marker": {
          "color": "rgba(255, 153, 51, 0.6)",
          "line": {
           "color": "rgba(255, 153, 51, 1.0)",
           "width": 1
          }
         },
         "name": "Duration",
         "orientation": "v",
         "text": "",
         "type": "bar",
         "x": [
          "93 min",
          "94 min",
          "90 min",
          "95 min",
          "97 min",
          "91 min",
          "92 min",
          "96 min",
          "98 min",
          "99 min",
          "103 min",
          "102 min",
          "88 min",
          "106 min",
          "101 min",
          "86 min",
          "104 min",
          "105 min",
          "100 min",
          "110 min",
          "89 min",
          "107 min",
          "87 min",
          "108 min",
          "112 min",
          "116 min",
          "109 min",
          "111 min",
          "117 min",
          "85 min",
          "119 min",
          "83 min",
          "81 min",
          "118 min",
          "113 min",
          "84 min",
          "115 min",
          "124 min",
          "120 min",
          "121 min",
          "114 min",
          "126 min",
          "127 min",
          "130 min",
          "128 min",
          "82 min",
          "122 min",
          "137 min",
          "133 min",
          "135 min",
          "123 min",
          "132 min",
          "80 min",
          "78 min",
          "129 min",
          "125 min",
          "131 min",
          "75 min",
          "79 min",
          "72 min",
          "74 min",
          "140 min",
          "71 min",
          "66 min",
          "134 min",
          "61 min",
          "77 min",
          "73 min",
          "63 min",
          "62 min",
          "148 min",
          "69 min",
          "70 min",
          "143 min",
          "76 min",
          "60 min",
          "46 min",
          "54 min",
          "139 min",
          "53 min",
          "136 min",
          "150 min",
          "141 min",
          "67 min",
          "64 min",
          "151 min",
          "149 min",
          "68 min",
          "138 min",
          "55 min",
          "44 min",
          "58 min",
          "59 min",
          "65 min",
          "145 min",
          "162 min",
          "158 min",
          "153 min",
          "142 min",
          "154 min",
          "163 min",
          "146 min",
          "147 min",
          "57 min",
          "155 min",
          "156 min",
          "52 min",
          "161 min",
          "56 min",
          "165 min",
          "168 min",
          "24 min",
          "47 min",
          "50 min",
          "45 min",
          "144 min",
          "22 min",
          "29 min",
          "51 min",
          "42 min",
          "157 min",
          "171 min",
          "152 min",
          "185 min",
          "176 min",
          "28 min",
          "160 min",
          "166 min",
          "159 min",
          "25 min",
          "48 min",
          "26 min",
          "33 min",
          "173 min",
          "170 min",
          "177 min",
          "164 min",
          "172 min",
          "32 min",
          "27 min",
          "30 min",
          "23 min",
          "49 min",
          "209 min",
          "192 min",
          "187 min",
          "40 min",
          "195 min",
          "31 min",
          "179 min",
          "169 min",
          "180 min",
          "174 min",
          "12 min",
          "18 min",
          "237 min",
          "178 min",
          "194 min",
          "228 min",
          "186 min",
          "205 min",
          "38 min",
          "201 min",
          "15 min",
          "253 min",
          "190 min",
          "17 min",
          "203 min",
          "208 min",
          "167 min",
          "181 min",
          "189 min",
          "14 min",
          "20 min",
          "35 min",
          "37 min",
          "224 min",
          "8 min",
          "182 min",
          "41 min",
          "43 min",
          "200 min",
          "196 min",
          "214 min",
          "193 min",
          "191 min"
         ],
         "y": [
          121,
          120,
          114,
          111,
          108,
          105,
          102,
          99,
          95,
          93,
          92,
          92,
          89,
          88,
          88,
          84,
          84,
          84,
          82,
          79,
          78,
          77,
          72,
          67,
          64,
          61,
          59,
          56,
          55,
          53,
          53,
          52,
          51,
          50,
          50,
          49,
          45,
          45,
          44,
          43,
          41,
          40,
          39,
          38,
          38,
          37,
          36,
          36,
          35,
          34,
          34,
          33,
          33,
          31,
          30,
          30,
          27,
          27,
          26,
          26,
          22,
          22,
          22,
          21,
          21,
          20,
          20,
          19,
          19,
          19,
          18,
          18,
          18,
          18,
          18,
          17,
          17,
          17,
          17,
          17,
          16,
          16,
          16,
          14,
          14,
          14,
          13,
          13,
          13,
          12,
          12,
          12,
          12,
          12,
          12,
          11,
          11,
          11,
          11,
          11,
          11,
          11,
          10,
          10,
          9,
          9,
          9,
          9,
          8,
          8,
          7,
          7,
          7,
          7,
          7,
          7,
          7,
          6,
          6,
          6,
          6,
          6,
          5,
          5,
          5,
          5,
          5,
          5,
          5,
          5,
          4,
          4,
          4,
          4,
          4,
          4,
          4,
          4,
          3,
          3,
          3,
          3,
          3,
          2,
          2,
          2,
          2,
          2,
          2,
          2,
          2,
          2,
          2,
          2,
          1,
          1,
          1,
          1,
          1,
          1,
          1,
          1,
          1,
          1,
          1,
          1,
          1,
          1,
          1,
          1,
          1,
          1,
          1,
          1,
          1,
          1,
          1,
          1,
          1,
          1,
          1,
          1,
          1,
          1,
          1,
          1
         ]
        }
       ],
       "layout": {
        "legend": {
         "bgcolor": "#F5F6F9",
         "font": {
          "color": "#4D5663"
         }
        },
        "paper_bgcolor": "#F5F6F9",
        "plot_bgcolor": "#F5F6F9",
        "template": {
         "data": {
          "bar": [
           {
            "error_x": {
             "color": "#2a3f5f"
            },
            "error_y": {
             "color": "#2a3f5f"
            },
            "marker": {
             "line": {
              "color": "#E5ECF6",
              "width": 0.5
             },
             "pattern": {
              "fillmode": "overlay",
              "size": 10,
              "solidity": 0.2
             }
            },
            "type": "bar"
           }
          ],
          "barpolar": [
           {
            "marker": {
             "line": {
              "color": "#E5ECF6",
              "width": 0.5
             },
             "pattern": {
              "fillmode": "overlay",
              "size": 10,
              "solidity": 0.2
             }
            },
            "type": "barpolar"
           }
          ],
          "carpet": [
           {
            "aaxis": {
             "endlinecolor": "#2a3f5f",
             "gridcolor": "white",
             "linecolor": "white",
             "minorgridcolor": "white",
             "startlinecolor": "#2a3f5f"
            },
            "baxis": {
             "endlinecolor": "#2a3f5f",
             "gridcolor": "white",
             "linecolor": "white",
             "minorgridcolor": "white",
             "startlinecolor": "#2a3f5f"
            },
            "type": "carpet"
           }
          ],
          "choropleth": [
           {
            "colorbar": {
             "outlinewidth": 0,
             "ticks": ""
            },
            "type": "choropleth"
           }
          ],
          "contour": [
           {
            "colorbar": {
             "outlinewidth": 0,
             "ticks": ""
            },
            "colorscale": [
             [
              0,
              "#0d0887"
             ],
             [
              0.1111111111111111,
              "#46039f"
             ],
             [
              0.2222222222222222,
              "#7201a8"
             ],
             [
              0.3333333333333333,
              "#9c179e"
             ],
             [
              0.4444444444444444,
              "#bd3786"
             ],
             [
              0.5555555555555556,
              "#d8576b"
             ],
             [
              0.6666666666666666,
              "#ed7953"
             ],
             [
              0.7777777777777778,
              "#fb9f3a"
             ],
             [
              0.8888888888888888,
              "#fdca26"
             ],
             [
              1,
              "#f0f921"
             ]
            ],
            "type": "contour"
           }
          ],
          "contourcarpet": [
           {
            "colorbar": {
             "outlinewidth": 0,
             "ticks": ""
            },
            "type": "contourcarpet"
           }
          ],
          "heatmap": [
           {
            "colorbar": {
             "outlinewidth": 0,
             "ticks": ""
            },
            "colorscale": [
             [
              0,
              "#0d0887"
             ],
             [
              0.1111111111111111,
              "#46039f"
             ],
             [
              0.2222222222222222,
              "#7201a8"
             ],
             [
              0.3333333333333333,
              "#9c179e"
             ],
             [
              0.4444444444444444,
              "#bd3786"
             ],
             [
              0.5555555555555556,
              "#d8576b"
             ],
             [
              0.6666666666666666,
              "#ed7953"
             ],
             [
              0.7777777777777778,
              "#fb9f3a"
             ],
             [
              0.8888888888888888,
              "#fdca26"
             ],
             [
              1,
              "#f0f921"
             ]
            ],
            "type": "heatmap"
           }
          ],
          "heatmapgl": [
           {
            "colorbar": {
             "outlinewidth": 0,
             "ticks": ""
            },
            "colorscale": [
             [
              0,
              "#0d0887"
             ],
             [
              0.1111111111111111,
              "#46039f"
             ],
             [
              0.2222222222222222,
              "#7201a8"
             ],
             [
              0.3333333333333333,
              "#9c179e"
             ],
             [
              0.4444444444444444,
              "#bd3786"
             ],
             [
              0.5555555555555556,
              "#d8576b"
             ],
             [
              0.6666666666666666,
              "#ed7953"
             ],
             [
              0.7777777777777778,
              "#fb9f3a"
             ],
             [
              0.8888888888888888,
              "#fdca26"
             ],
             [
              1,
              "#f0f921"
             ]
            ],
            "type": "heatmapgl"
           }
          ],
          "histogram": [
           {
            "marker": {
             "pattern": {
              "fillmode": "overlay",
              "size": 10,
              "solidity": 0.2
             }
            },
            "type": "histogram"
           }
          ],
          "histogram2d": [
           {
            "colorbar": {
             "outlinewidth": 0,
             "ticks": ""
            },
            "colorscale": [
             [
              0,
              "#0d0887"
             ],
             [
              0.1111111111111111,
              "#46039f"
             ],
             [
              0.2222222222222222,
              "#7201a8"
             ],
             [
              0.3333333333333333,
              "#9c179e"
             ],
             [
              0.4444444444444444,
              "#bd3786"
             ],
             [
              0.5555555555555556,
              "#d8576b"
             ],
             [
              0.6666666666666666,
              "#ed7953"
             ],
             [
              0.7777777777777778,
              "#fb9f3a"
             ],
             [
              0.8888888888888888,
              "#fdca26"
             ],
             [
              1,
              "#f0f921"
             ]
            ],
            "type": "histogram2d"
           }
          ],
          "histogram2dcontour": [
           {
            "colorbar": {
             "outlinewidth": 0,
             "ticks": ""
            },
            "colorscale": [
             [
              0,
              "#0d0887"
             ],
             [
              0.1111111111111111,
              "#46039f"
             ],
             [
              0.2222222222222222,
              "#7201a8"
             ],
             [
              0.3333333333333333,
              "#9c179e"
             ],
             [
              0.4444444444444444,
              "#bd3786"
             ],
             [
              0.5555555555555556,
              "#d8576b"
             ],
             [
              0.6666666666666666,
              "#ed7953"
             ],
             [
              0.7777777777777778,
              "#fb9f3a"
             ],
             [
              0.8888888888888888,
              "#fdca26"
             ],
             [
              1,
              "#f0f921"
             ]
            ],
            "type": "histogram2dcontour"
           }
          ],
          "mesh3d": [
           {
            "colorbar": {
             "outlinewidth": 0,
             "ticks": ""
            },
            "type": "mesh3d"
           }
          ],
          "parcoords": [
           {
            "line": {
             "colorbar": {
              "outlinewidth": 0,
              "ticks": ""
             }
            },
            "type": "parcoords"
           }
          ],
          "pie": [
           {
            "automargin": true,
            "type": "pie"
           }
          ],
          "scatter": [
           {
            "marker": {
             "colorbar": {
              "outlinewidth": 0,
              "ticks": ""
             }
            },
            "type": "scatter"
           }
          ],
          "scatter3d": [
           {
            "line": {
             "colorbar": {
              "outlinewidth": 0,
              "ticks": ""
             }
            },
            "marker": {
             "colorbar": {
              "outlinewidth": 0,
              "ticks": ""
             }
            },
            "type": "scatter3d"
           }
          ],
          "scattercarpet": [
           {
            "marker": {
             "colorbar": {
              "outlinewidth": 0,
              "ticks": ""
             }
            },
            "type": "scattercarpet"
           }
          ],
          "scattergeo": [
           {
            "marker": {
             "colorbar": {
              "outlinewidth": 0,
              "ticks": ""
             }
            },
            "type": "scattergeo"
           }
          ],
          "scattergl": [
           {
            "marker": {
             "colorbar": {
              "outlinewidth": 0,
              "ticks": ""
             }
            },
            "type": "scattergl"
           }
          ],
          "scattermapbox": [
           {
            "marker": {
             "colorbar": {
              "outlinewidth": 0,
              "ticks": ""
             }
            },
            "type": "scattermapbox"
           }
          ],
          "scatterpolar": [
           {
            "marker": {
             "colorbar": {
              "outlinewidth": 0,
              "ticks": ""
             }
            },
            "type": "scatterpolar"
           }
          ],
          "scatterpolargl": [
           {
            "marker": {
             "colorbar": {
              "outlinewidth": 0,
              "ticks": ""
             }
            },
            "type": "scatterpolargl"
           }
          ],
          "scatterternary": [
           {
            "marker": {
             "colorbar": {
              "outlinewidth": 0,
              "ticks": ""
             }
            },
            "type": "scatterternary"
           }
          ],
          "surface": [
           {
            "colorbar": {
             "outlinewidth": 0,
             "ticks": ""
            },
            "colorscale": [
             [
              0,
              "#0d0887"
             ],
             [
              0.1111111111111111,
              "#46039f"
             ],
             [
              0.2222222222222222,
              "#7201a8"
             ],
             [
              0.3333333333333333,
              "#9c179e"
             ],
             [
              0.4444444444444444,
              "#bd3786"
             ],
             [
              0.5555555555555556,
              "#d8576b"
             ],
             [
              0.6666666666666666,
              "#ed7953"
             ],
             [
              0.7777777777777778,
              "#fb9f3a"
             ],
             [
              0.8888888888888888,
              "#fdca26"
             ],
             [
              1,
              "#f0f921"
             ]
            ],
            "type": "surface"
           }
          ],
          "table": [
           {
            "cells": {
             "fill": {
              "color": "#EBF0F8"
             },
             "line": {
              "color": "white"
             }
            },
            "header": {
             "fill": {
              "color": "#C8D4E3"
             },
             "line": {
              "color": "white"
             }
            },
            "type": "table"
           }
          ]
         },
         "layout": {
          "annotationdefaults": {
           "arrowcolor": "#2a3f5f",
           "arrowhead": 0,
           "arrowwidth": 1
          },
          "autotypenumbers": "strict",
          "coloraxis": {
           "colorbar": {
            "outlinewidth": 0,
            "ticks": ""
           }
          },
          "colorscale": {
           "diverging": [
            [
             0,
             "#8e0152"
            ],
            [
             0.1,
             "#c51b7d"
            ],
            [
             0.2,
             "#de77ae"
            ],
            [
             0.3,
             "#f1b6da"
            ],
            [
             0.4,
             "#fde0ef"
            ],
            [
             0.5,
             "#f7f7f7"
            ],
            [
             0.6,
             "#e6f5d0"
            ],
            [
             0.7,
             "#b8e186"
            ],
            [
             0.8,
             "#7fbc41"
            ],
            [
             0.9,
             "#4d9221"
            ],
            [
             1,
             "#276419"
            ]
           ],
           "sequential": [
            [
             0,
             "#0d0887"
            ],
            [
             0.1111111111111111,
             "#46039f"
            ],
            [
             0.2222222222222222,
             "#7201a8"
            ],
            [
             0.3333333333333333,
             "#9c179e"
            ],
            [
             0.4444444444444444,
             "#bd3786"
            ],
            [
             0.5555555555555556,
             "#d8576b"
            ],
            [
             0.6666666666666666,
             "#ed7953"
            ],
            [
             0.7777777777777778,
             "#fb9f3a"
            ],
            [
             0.8888888888888888,
             "#fdca26"
            ],
            [
             1,
             "#f0f921"
            ]
           ],
           "sequentialminus": [
            [
             0,
             "#0d0887"
            ],
            [
             0.1111111111111111,
             "#46039f"
            ],
            [
             0.2222222222222222,
             "#7201a8"
            ],
            [
             0.3333333333333333,
             "#9c179e"
            ],
            [
             0.4444444444444444,
             "#bd3786"
            ],
            [
             0.5555555555555556,
             "#d8576b"
            ],
            [
             0.6666666666666666,
             "#ed7953"
            ],
            [
             0.7777777777777778,
             "#fb9f3a"
            ],
            [
             0.8888888888888888,
             "#fdca26"
            ],
            [
             1,
             "#f0f921"
            ]
           ]
          },
          "colorway": [
           "#636efa",
           "#EF553B",
           "#00cc96",
           "#ab63fa",
           "#FFA15A",
           "#19d3f3",
           "#FF6692",
           "#B6E880",
           "#FF97FF",
           "#FECB52"
          ],
          "font": {
           "color": "#2a3f5f"
          },
          "geo": {
           "bgcolor": "white",
           "lakecolor": "white",
           "landcolor": "#E5ECF6",
           "showlakes": true,
           "showland": true,
           "subunitcolor": "white"
          },
          "hoverlabel": {
           "align": "left"
          },
          "hovermode": "closest",
          "mapbox": {
           "style": "light"
          },
          "paper_bgcolor": "white",
          "plot_bgcolor": "#E5ECF6",
          "polar": {
           "angularaxis": {
            "gridcolor": "white",
            "linecolor": "white",
            "ticks": ""
           },
           "bgcolor": "#E5ECF6",
           "radialaxis": {
            "gridcolor": "white",
            "linecolor": "white",
            "ticks": ""
           }
          },
          "scene": {
           "xaxis": {
            "backgroundcolor": "#E5ECF6",
            "gridcolor": "white",
            "gridwidth": 2,
            "linecolor": "white",
            "showbackground": true,
            "ticks": "",
            "zerolinecolor": "white"
           },
           "yaxis": {
            "backgroundcolor": "#E5ECF6",
            "gridcolor": "white",
            "gridwidth": 2,
            "linecolor": "white",
            "showbackground": true,
            "ticks": "",
            "zerolinecolor": "white"
           },
           "zaxis": {
            "backgroundcolor": "#E5ECF6",
            "gridcolor": "white",
            "gridwidth": 2,
            "linecolor": "white",
            "showbackground": true,
            "ticks": "",
            "zerolinecolor": "white"
           }
          },
          "shapedefaults": {
           "line": {
            "color": "#2a3f5f"
           }
          },
          "ternary": {
           "aaxis": {
            "gridcolor": "white",
            "linecolor": "white",
            "ticks": ""
           },
           "baxis": {
            "gridcolor": "white",
            "linecolor": "white",
            "ticks": ""
           },
           "bgcolor": "#E5ECF6",
           "caxis": {
            "gridcolor": "white",
            "linecolor": "white",
            "ticks": ""
           }
          },
          "title": {
           "x": 0.05
          },
          "xaxis": {
           "automargin": true,
           "gridcolor": "white",
           "linecolor": "white",
           "ticks": "",
           "title": {
            "standoff": 15
           },
           "zerolinecolor": "white",
           "zerolinewidth": 2
          },
          "yaxis": {
           "automargin": true,
           "gridcolor": "white",
           "linecolor": "white",
           "ticks": "",
           "title": {
            "standoff": 15
           },
           "zerolinecolor": "white",
           "zerolinewidth": 2
          }
         }
        },
        "title": {
         "font": {
          "color": "#4D5663"
         }
        },
        "xaxis": {
         "gridcolor": "#E1E5ED",
         "showgrid": true,
         "tickfont": {
          "color": "#4D5663"
         },
         "title": {
          "font": {
           "color": "#4D5663"
          },
          "text": ""
         },
         "zerolinecolor": "#E1E5ED"
        },
        "yaxis": {
         "gridcolor": "#E1E5ED",
         "showgrid": true,
         "tickfont": {
          "color": "#4D5663"
         },
         "title": {
          "font": {
           "color": "#4D5663"
          },
          "text": ""
         },
         "zerolinecolor": "#E1E5ED"
        }
       }
      },
      "text/html": [
       "<div>                            <div id=\"ccee2453-5287-4dee-b564-572093994a1b\" class=\"plotly-graph-div\" style=\"height:525px; width:100%;\"></div>            <script type=\"text/javascript\">                require([\"plotly\"], function(Plotly) {                    window.PLOTLYENV=window.PLOTLYENV || {};\n",
       "                    window.PLOTLYENV.BASE_URL='https://plot.ly';                                    if (document.getElementById(\"ccee2453-5287-4dee-b564-572093994a1b\")) {                    Plotly.newPlot(                        \"ccee2453-5287-4dee-b564-572093994a1b\",                        [{\"marker\":{\"color\":\"rgba(255, 153, 51, 0.6)\",\"line\":{\"color\":\"rgba(255, 153, 51, 1.0)\",\"width\":1}},\"name\":\"Duration\",\"orientation\":\"v\",\"text\":\"\",\"x\":[\"93 min\",\"94 min\",\"90 min\",\"95 min\",\"97 min\",\"91 min\",\"92 min\",\"96 min\",\"98 min\",\"99 min\",\"103 min\",\"102 min\",\"88 min\",\"106 min\",\"101 min\",\"86 min\",\"104 min\",\"105 min\",\"100 min\",\"110 min\",\"89 min\",\"107 min\",\"87 min\",\"108 min\",\"112 min\",\"116 min\",\"109 min\",\"111 min\",\"117 min\",\"85 min\",\"119 min\",\"83 min\",\"81 min\",\"118 min\",\"113 min\",\"84 min\",\"115 min\",\"124 min\",\"120 min\",\"121 min\",\"114 min\",\"126 min\",\"127 min\",\"130 min\",\"128 min\",\"82 min\",\"122 min\",\"137 min\",\"133 min\",\"135 min\",\"123 min\",\"132 min\",\"80 min\",\"78 min\",\"129 min\",\"125 min\",\"131 min\",\"75 min\",\"79 min\",\"72 min\",\"74 min\",\"140 min\",\"71 min\",\"66 min\",\"134 min\",\"61 min\",\"77 min\",\"73 min\",\"63 min\",\"62 min\",\"148 min\",\"69 min\",\"70 min\",\"143 min\",\"76 min\",\"60 min\",\"46 min\",\"54 min\",\"139 min\",\"53 min\",\"136 min\",\"150 min\",\"141 min\",\"67 min\",\"64 min\",\"151 min\",\"149 min\",\"68 min\",\"138 min\",\"55 min\",\"44 min\",\"58 min\",\"59 min\",\"65 min\",\"145 min\",\"162 min\",\"158 min\",\"153 min\",\"142 min\",\"154 min\",\"163 min\",\"146 min\",\"147 min\",\"57 min\",\"155 min\",\"156 min\",\"52 min\",\"161 min\",\"56 min\",\"165 min\",\"168 min\",\"24 min\",\"47 min\",\"50 min\",\"45 min\",\"144 min\",\"22 min\",\"29 min\",\"51 min\",\"42 min\",\"157 min\",\"171 min\",\"152 min\",\"185 min\",\"176 min\",\"28 min\",\"160 min\",\"166 min\",\"159 min\",\"25 min\",\"48 min\",\"26 min\",\"33 min\",\"173 min\",\"170 min\",\"177 min\",\"164 min\",\"172 min\",\"32 min\",\"27 min\",\"30 min\",\"23 min\",\"49 min\",\"209 min\",\"192 min\",\"187 min\",\"40 min\",\"195 min\",\"31 min\",\"179 min\",\"169 min\",\"180 min\",\"174 min\",\"12 min\",\"18 min\",\"237 min\",\"178 min\",\"194 min\",\"228 min\",\"186 min\",\"205 min\",\"38 min\",\"201 min\",\"15 min\",\"253 min\",\"190 min\",\"17 min\",\"203 min\",\"208 min\",\"167 min\",\"181 min\",\"189 min\",\"14 min\",\"20 min\",\"35 min\",\"37 min\",\"224 min\",\"8 min\",\"182 min\",\"41 min\",\"43 min\",\"200 min\",\"196 min\",\"214 min\",\"193 min\",\"191 min\"],\"y\":[121,120,114,111,108,105,102,99,95,93,92,92,89,88,88,84,84,84,82,79,78,77,72,67,64,61,59,56,55,53,53,52,51,50,50,49,45,45,44,43,41,40,39,38,38,37,36,36,35,34,34,33,33,31,30,30,27,27,26,26,22,22,22,21,21,20,20,19,19,19,18,18,18,18,18,17,17,17,17,17,16,16,16,14,14,14,13,13,13,12,12,12,12,12,12,11,11,11,11,11,11,11,10,10,9,9,9,9,8,8,7,7,7,7,7,7,7,6,6,6,6,6,5,5,5,5,5,5,5,5,4,4,4,4,4,4,4,4,3,3,3,3,3,2,2,2,2,2,2,2,2,2,2,2,1,1,1,1,1,1,1,1,1,1,1,1,1,1,1,1,1,1,1,1,1,1,1,1,1,1,1,1,1,1,1,1],\"type\":\"bar\"}],                        {\"legend\":{\"bgcolor\":\"#F5F6F9\",\"font\":{\"color\":\"#4D5663\"}},\"paper_bgcolor\":\"#F5F6F9\",\"plot_bgcolor\":\"#F5F6F9\",\"template\":{\"data\":{\"barpolar\":[{\"marker\":{\"line\":{\"color\":\"#E5ECF6\",\"width\":0.5},\"pattern\":{\"fillmode\":\"overlay\",\"size\":10,\"solidity\":0.2}},\"type\":\"barpolar\"}],\"bar\":[{\"error_x\":{\"color\":\"#2a3f5f\"},\"error_y\":{\"color\":\"#2a3f5f\"},\"marker\":{\"line\":{\"color\":\"#E5ECF6\",\"width\":0.5},\"pattern\":{\"fillmode\":\"overlay\",\"size\":10,\"solidity\":0.2}},\"type\":\"bar\"}],\"carpet\":[{\"aaxis\":{\"endlinecolor\":\"#2a3f5f\",\"gridcolor\":\"white\",\"linecolor\":\"white\",\"minorgridcolor\":\"white\",\"startlinecolor\":\"#2a3f5f\"},\"baxis\":{\"endlinecolor\":\"#2a3f5f\",\"gridcolor\":\"white\",\"linecolor\":\"white\",\"minorgridcolor\":\"white\",\"startlinecolor\":\"#2a3f5f\"},\"type\":\"carpet\"}],\"choropleth\":[{\"colorbar\":{\"outlinewidth\":0,\"ticks\":\"\"},\"type\":\"choropleth\"}],\"contourcarpet\":[{\"colorbar\":{\"outlinewidth\":0,\"ticks\":\"\"},\"type\":\"contourcarpet\"}],\"contour\":[{\"colorbar\":{\"outlinewidth\":0,\"ticks\":\"\"},\"colorscale\":[[0.0,\"#0d0887\"],[0.1111111111111111,\"#46039f\"],[0.2222222222222222,\"#7201a8\"],[0.3333333333333333,\"#9c179e\"],[0.4444444444444444,\"#bd3786\"],[0.5555555555555556,\"#d8576b\"],[0.6666666666666666,\"#ed7953\"],[0.7777777777777778,\"#fb9f3a\"],[0.8888888888888888,\"#fdca26\"],[1.0,\"#f0f921\"]],\"type\":\"contour\"}],\"heatmapgl\":[{\"colorbar\":{\"outlinewidth\":0,\"ticks\":\"\"},\"colorscale\":[[0.0,\"#0d0887\"],[0.1111111111111111,\"#46039f\"],[0.2222222222222222,\"#7201a8\"],[0.3333333333333333,\"#9c179e\"],[0.4444444444444444,\"#bd3786\"],[0.5555555555555556,\"#d8576b\"],[0.6666666666666666,\"#ed7953\"],[0.7777777777777778,\"#fb9f3a\"],[0.8888888888888888,\"#fdca26\"],[1.0,\"#f0f921\"]],\"type\":\"heatmapgl\"}],\"heatmap\":[{\"colorbar\":{\"outlinewidth\":0,\"ticks\":\"\"},\"colorscale\":[[0.0,\"#0d0887\"],[0.1111111111111111,\"#46039f\"],[0.2222222222222222,\"#7201a8\"],[0.3333333333333333,\"#9c179e\"],[0.4444444444444444,\"#bd3786\"],[0.5555555555555556,\"#d8576b\"],[0.6666666666666666,\"#ed7953\"],[0.7777777777777778,\"#fb9f3a\"],[0.8888888888888888,\"#fdca26\"],[1.0,\"#f0f921\"]],\"type\":\"heatmap\"}],\"histogram2dcontour\":[{\"colorbar\":{\"outlinewidth\":0,\"ticks\":\"\"},\"colorscale\":[[0.0,\"#0d0887\"],[0.1111111111111111,\"#46039f\"],[0.2222222222222222,\"#7201a8\"],[0.3333333333333333,\"#9c179e\"],[0.4444444444444444,\"#bd3786\"],[0.5555555555555556,\"#d8576b\"],[0.6666666666666666,\"#ed7953\"],[0.7777777777777778,\"#fb9f3a\"],[0.8888888888888888,\"#fdca26\"],[1.0,\"#f0f921\"]],\"type\":\"histogram2dcontour\"}],\"histogram2d\":[{\"colorbar\":{\"outlinewidth\":0,\"ticks\":\"\"},\"colorscale\":[[0.0,\"#0d0887\"],[0.1111111111111111,\"#46039f\"],[0.2222222222222222,\"#7201a8\"],[0.3333333333333333,\"#9c179e\"],[0.4444444444444444,\"#bd3786\"],[0.5555555555555556,\"#d8576b\"],[0.6666666666666666,\"#ed7953\"],[0.7777777777777778,\"#fb9f3a\"],[0.8888888888888888,\"#fdca26\"],[1.0,\"#f0f921\"]],\"type\":\"histogram2d\"}],\"histogram\":[{\"marker\":{\"pattern\":{\"fillmode\":\"overlay\",\"size\":10,\"solidity\":0.2}},\"type\":\"histogram\"}],\"mesh3d\":[{\"colorbar\":{\"outlinewidth\":0,\"ticks\":\"\"},\"type\":\"mesh3d\"}],\"parcoords\":[{\"line\":{\"colorbar\":{\"outlinewidth\":0,\"ticks\":\"\"}},\"type\":\"parcoords\"}],\"pie\":[{\"automargin\":true,\"type\":\"pie\"}],\"scatter3d\":[{\"line\":{\"colorbar\":{\"outlinewidth\":0,\"ticks\":\"\"}},\"marker\":{\"colorbar\":{\"outlinewidth\":0,\"ticks\":\"\"}},\"type\":\"scatter3d\"}],\"scattercarpet\":[{\"marker\":{\"colorbar\":{\"outlinewidth\":0,\"ticks\":\"\"}},\"type\":\"scattercarpet\"}],\"scattergeo\":[{\"marker\":{\"colorbar\":{\"outlinewidth\":0,\"ticks\":\"\"}},\"type\":\"scattergeo\"}],\"scattergl\":[{\"marker\":{\"colorbar\":{\"outlinewidth\":0,\"ticks\":\"\"}},\"type\":\"scattergl\"}],\"scattermapbox\":[{\"marker\":{\"colorbar\":{\"outlinewidth\":0,\"ticks\":\"\"}},\"type\":\"scattermapbox\"}],\"scatterpolargl\":[{\"marker\":{\"colorbar\":{\"outlinewidth\":0,\"ticks\":\"\"}},\"type\":\"scatterpolargl\"}],\"scatterpolar\":[{\"marker\":{\"colorbar\":{\"outlinewidth\":0,\"ticks\":\"\"}},\"type\":\"scatterpolar\"}],\"scatter\":[{\"marker\":{\"colorbar\":{\"outlinewidth\":0,\"ticks\":\"\"}},\"type\":\"scatter\"}],\"scatterternary\":[{\"marker\":{\"colorbar\":{\"outlinewidth\":0,\"ticks\":\"\"}},\"type\":\"scatterternary\"}],\"surface\":[{\"colorbar\":{\"outlinewidth\":0,\"ticks\":\"\"},\"colorscale\":[[0.0,\"#0d0887\"],[0.1111111111111111,\"#46039f\"],[0.2222222222222222,\"#7201a8\"],[0.3333333333333333,\"#9c179e\"],[0.4444444444444444,\"#bd3786\"],[0.5555555555555556,\"#d8576b\"],[0.6666666666666666,\"#ed7953\"],[0.7777777777777778,\"#fb9f3a\"],[0.8888888888888888,\"#fdca26\"],[1.0,\"#f0f921\"]],\"type\":\"surface\"}],\"table\":[{\"cells\":{\"fill\":{\"color\":\"#EBF0F8\"},\"line\":{\"color\":\"white\"}},\"header\":{\"fill\":{\"color\":\"#C8D4E3\"},\"line\":{\"color\":\"white\"}},\"type\":\"table\"}]},\"layout\":{\"annotationdefaults\":{\"arrowcolor\":\"#2a3f5f\",\"arrowhead\":0,\"arrowwidth\":1},\"autotypenumbers\":\"strict\",\"coloraxis\":{\"colorbar\":{\"outlinewidth\":0,\"ticks\":\"\"}},\"colorscale\":{\"diverging\":[[0,\"#8e0152\"],[0.1,\"#c51b7d\"],[0.2,\"#de77ae\"],[0.3,\"#f1b6da\"],[0.4,\"#fde0ef\"],[0.5,\"#f7f7f7\"],[0.6,\"#e6f5d0\"],[0.7,\"#b8e186\"],[0.8,\"#7fbc41\"],[0.9,\"#4d9221\"],[1,\"#276419\"]],\"sequential\":[[0.0,\"#0d0887\"],[0.1111111111111111,\"#46039f\"],[0.2222222222222222,\"#7201a8\"],[0.3333333333333333,\"#9c179e\"],[0.4444444444444444,\"#bd3786\"],[0.5555555555555556,\"#d8576b\"],[0.6666666666666666,\"#ed7953\"],[0.7777777777777778,\"#fb9f3a\"],[0.8888888888888888,\"#fdca26\"],[1.0,\"#f0f921\"]],\"sequentialminus\":[[0.0,\"#0d0887\"],[0.1111111111111111,\"#46039f\"],[0.2222222222222222,\"#7201a8\"],[0.3333333333333333,\"#9c179e\"],[0.4444444444444444,\"#bd3786\"],[0.5555555555555556,\"#d8576b\"],[0.6666666666666666,\"#ed7953\"],[0.7777777777777778,\"#fb9f3a\"],[0.8888888888888888,\"#fdca26\"],[1.0,\"#f0f921\"]]},\"colorway\":[\"#636efa\",\"#EF553B\",\"#00cc96\",\"#ab63fa\",\"#FFA15A\",\"#19d3f3\",\"#FF6692\",\"#B6E880\",\"#FF97FF\",\"#FECB52\"],\"font\":{\"color\":\"#2a3f5f\"},\"geo\":{\"bgcolor\":\"white\",\"lakecolor\":\"white\",\"landcolor\":\"#E5ECF6\",\"showlakes\":true,\"showland\":true,\"subunitcolor\":\"white\"},\"hoverlabel\":{\"align\":\"left\"},\"hovermode\":\"closest\",\"mapbox\":{\"style\":\"light\"},\"paper_bgcolor\":\"white\",\"plot_bgcolor\":\"#E5ECF6\",\"polar\":{\"angularaxis\":{\"gridcolor\":\"white\",\"linecolor\":\"white\",\"ticks\":\"\"},\"bgcolor\":\"#E5ECF6\",\"radialaxis\":{\"gridcolor\":\"white\",\"linecolor\":\"white\",\"ticks\":\"\"}},\"scene\":{\"xaxis\":{\"backgroundcolor\":\"#E5ECF6\",\"gridcolor\":\"white\",\"gridwidth\":2,\"linecolor\":\"white\",\"showbackground\":true,\"ticks\":\"\",\"zerolinecolor\":\"white\"},\"yaxis\":{\"backgroundcolor\":\"#E5ECF6\",\"gridcolor\":\"white\",\"gridwidth\":2,\"linecolor\":\"white\",\"showbackground\":true,\"ticks\":\"\",\"zerolinecolor\":\"white\"},\"zaxis\":{\"backgroundcolor\":\"#E5ECF6\",\"gridcolor\":\"white\",\"gridwidth\":2,\"linecolor\":\"white\",\"showbackground\":true,\"ticks\":\"\",\"zerolinecolor\":\"white\"}},\"shapedefaults\":{\"line\":{\"color\":\"#2a3f5f\"}},\"ternary\":{\"aaxis\":{\"gridcolor\":\"white\",\"linecolor\":\"white\",\"ticks\":\"\"},\"baxis\":{\"gridcolor\":\"white\",\"linecolor\":\"white\",\"ticks\":\"\"},\"bgcolor\":\"#E5ECF6\",\"caxis\":{\"gridcolor\":\"white\",\"linecolor\":\"white\",\"ticks\":\"\"}},\"title\":{\"x\":0.05},\"xaxis\":{\"automargin\":true,\"gridcolor\":\"white\",\"linecolor\":\"white\",\"ticks\":\"\",\"title\":{\"standoff\":15},\"zerolinecolor\":\"white\",\"zerolinewidth\":2},\"yaxis\":{\"automargin\":true,\"gridcolor\":\"white\",\"linecolor\":\"white\",\"ticks\":\"\",\"title\":{\"standoff\":15},\"zerolinecolor\":\"white\",\"zerolinewidth\":2}}},\"title\":{\"font\":{\"color\":\"#4D5663\"}},\"xaxis\":{\"gridcolor\":\"#E1E5ED\",\"showgrid\":true,\"tickfont\":{\"color\":\"#4D5663\"},\"title\":{\"font\":{\"color\":\"#4D5663\"},\"text\":\"\"},\"zerolinecolor\":\"#E1E5ED\"},\"yaxis\":{\"gridcolor\":\"#E1E5ED\",\"showgrid\":true,\"tickfont\":{\"color\":\"#4D5663\"},\"title\":{\"font\":{\"color\":\"#4D5663\"},\"text\":\"\"},\"zerolinecolor\":\"#E1E5ED\"}},                        {\"showLink\": true, \"linkText\": \"Export to plot.ly\", \"plotlyServerURL\": \"https://plot.ly\", \"responsive\": true}                    ).then(function(){\n",
       "                            \n",
       "var gd = document.getElementById('ccee2453-5287-4dee-b564-572093994a1b');\n",
       "var x = new MutationObserver(function (mutations, observer) {{\n",
       "        var display = window.getComputedStyle(gd).display;\n",
       "        if (!display || display === 'none') {{\n",
       "            console.log([gd, 'removed!']);\n",
       "            Plotly.purge(gd);\n",
       "            observer.disconnect();\n",
       "        }}\n",
       "}});\n",
       "\n",
       "// Listen for the removal of the full notebook cells\n",
       "var notebookContainer = gd.closest('#notebook-container');\n",
       "if (notebookContainer) {{\n",
       "    x.observe(notebookContainer, {childList: true});\n",
       "}}\n",
       "\n",
       "// Listen for the clearing of the current output cell\n",
       "var outputEl = gd.closest('.output');\n",
       "if (outputEl) {{\n",
       "    x.observe(outputEl, {childList: true});\n",
       "}}\n",
       "\n",
       "                        })                };                });            </script>        </div>"
      ]
     },
     "metadata": {},
     "output_type": "display_data"
    }
   ],
   "source": [
    "moviedata.Duration.value_counts().iplot(kind='bar')"
   ]
  },
  {
   "cell_type": "code",
   "execution_count": null,
   "id": "79d7e1aa",
   "metadata": {},
   "outputs": [],
   "source": [
    "1. maximum duration of movie is 253 min and there is only one movie of this duration.\n",
    "2.minimum duration of movie is 14 min."
   ]
  }
 ],
 "metadata": {
  "kernelspec": {
   "display_name": "Python 3 (ipykernel)",
   "language": "python",
   "name": "python3"
  },
  "language_info": {
   "codemirror_mode": {
    "name": "ipython",
    "version": 3
   },
   "file_extension": ".py",
   "mimetype": "text/x-python",
   "name": "python",
   "nbconvert_exporter": "python",
   "pygments_lexer": "ipython3",
   "version": "3.8.11"
  }
 },
 "nbformat": 4,
 "nbformat_minor": 5
}
